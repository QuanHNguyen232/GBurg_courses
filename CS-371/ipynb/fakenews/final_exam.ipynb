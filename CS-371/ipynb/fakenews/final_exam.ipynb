{
 "cells": [
  {
   "cell_type": "code",
   "execution_count": 1,
   "metadata": {},
   "outputs": [],
   "source": [
    "from collections import Counter\n",
    "import math\n",
    "import matplotlib.pyplot as plt\n",
    "import numpy as np\n",
    "import pandas as pd\n",
    "import random\n",
    "import sklearn\n",
    "from sklearn.feature_extraction.text import CountVectorizer\n",
    "from sklearn.linear_model import LogisticRegression\n",
    "from sklearn.metrics import accuracy_score\n",
    "from sklearn.model_selection import train_test_split, GridSearchCV\n",
    "from sklearn.naive_bayes import MultinomialNB\n",
    "from sklearn.tree import DecisionTreeClassifier, plot_tree\n",
    "\n",
    "# set random seeds for reproducibility\n",
    "random.seed(0)\n",
    "np.random.seed(0)"
   ]
  },
  {
   "cell_type": "code",
   "execution_count": 2,
   "metadata": {},
   "outputs": [
    {
     "name": "stdout",
     "output_type": "stream",
     "text": [
      "# real headlines 1968\n",
      "# fake headlines 1298\n"
     ]
    }
   ],
   "source": [
    "real_lines = [line.strip() for line in open('clean_real.txt', 'r').readlines()]\n",
    "print('# real headlines', len(real_lines))\n",
    "fake_lines = [line.strip() for line in open('clean_fake.txt', 'r').readlines()]\n",
    "print('# fake headlines', len(fake_lines))\n",
    "real_words = ' '.join(real_lines).split(' ')\n",
    "fake_words = ' '.join(fake_lines).split(' ')\n",
    "all_words = list(set(real_words).union(set(fake_words)))\n",
    "\n",
    "# create shuffled 70/15/15 train/validation/test datasets\n",
    "real_label, fake_label = (1, 0)\n",
    "X = real_lines + fake_lines\n",
    "y = len(real_lines) * [real_label] + len(fake_lines) * [fake_label]\n",
    "X_train, X_test, y_train, y_test = train_test_split(X, y, test_size=0.3, shuffle=True, random_state=0)\n",
    "X_test, X_val, y_test, y_val = train_test_split(X_test, y_test, test_size=0.5, shuffle=True, random_state=0)"
   ]
  },
  {
   "cell_type": "code",
   "execution_count": 3,
   "metadata": {},
   "outputs": [
    {
     "data": {
      "text/plain": [
       "((2286, 4750), (490, 4750))"
      ]
     },
     "execution_count": 3,
     "metadata": {},
     "output_type": "execute_result"
    }
   ],
   "source": [
    "vectorizer = CountVectorizer()\n",
    "counts_train = vectorizer.fit_transform(X_train)\n",
    "counts_test = vectorizer.transform(X_test)\n",
    "counts_train.shape, counts_test.shape"
   ]
  },
  {
   "cell_type": "code",
   "execution_count": 4,
   "metadata": {},
   "outputs": [],
   "source": [
    "nb = MultinomialNB()\n",
    "nb = nb.fit(counts_train, y_train)"
   ]
  },
  {
   "cell_type": "code",
   "execution_count": 5,
   "metadata": {},
   "outputs": [
    {
     "data": {
      "text/plain": [
       "(490,)"
      ]
     },
     "execution_count": 5,
     "metadata": {},
     "output_type": "execute_result"
    }
   ],
   "source": [
    "preds = nb.predict(counts_test)\n",
    "preds.shape"
   ]
  },
  {
   "cell_type": "code",
   "execution_count": 6,
   "metadata": {},
   "outputs": [],
   "source": [
    "def get_accuracy(y_hat: np.ndarray, y: np.ndarray):\n",
    "    return np.sum(y_hat == y)/len(y)"
   ]
  },
  {
   "cell_type": "code",
   "execution_count": 8,
   "metadata": {},
   "outputs": [
    {
     "name": "stdout",
     "output_type": "stream",
     "text": [
      "accuracy =  0.8306122448979592\n"
     ]
    }
   ],
   "source": [
    "acc = get_accuracy(preds, y_test)\n",
    "assert abs(acc - accuracy_score(y_test, preds)) < 1e-8\n",
    "print('accuracy = ', acc)"
   ]
  }
 ],
 "metadata": {
  "kernelspec": {
   "display_name": "Python 3.10.10 ('cs371')",
   "language": "python",
   "name": "python3"
  },
  "language_info": {
   "codemirror_mode": {
    "name": "ipython",
    "version": 3
   },
   "file_extension": ".py",
   "mimetype": "text/x-python",
   "name": "python",
   "nbconvert_exporter": "python",
   "pygments_lexer": "ipython3",
   "version": "3.10.10"
  },
  "orig_nbformat": 4,
  "vscode": {
   "interpreter": {
    "hash": "03f5c7d48e72e18fcdb9e35f6cb928da77f0ae02235756a8d77814c29cc99718"
   }
  }
 },
 "nbformat": 4,
 "nbformat_minor": 2
}
