{
 "cells": [
  {
   "cell_type": "markdown",
   "metadata": {
    "collapsed": false
   },
   "source": [
    "# Pandas - Part 2\n",
    "\n",
    "Learning Objectives:\n",
    "* Students will experientially gain competence in combining Pandas Series and DataFrame objects with concat, append, merge and join.\n",
    "* Students will experientially gain competence in performing aggregation and grouping operations Series and DataFrame objects.\n",
    "\n",
    "Readings before class:\n",
    "\n",
    "* Jake VanderPlas.  [Python Data Science Handbook](https://jakevdp.github.io/PythonDataScienceHandbook/):\n",
    "  * Chapter 3 - Data Manipulation with Pandas sections:\n",
    "    * [\"Combining Datasets: Concat and Append\"](https://jakevdp.github.io/PythonDataScienceHandbook/03.06-concat-and-append.html) _NOTE: ```pandas.concat``` no longer supports parameter ```join_axes``` as used in the text.  It is deprecated, meaning that it shouldn't be used henceforth.  Better software design allows for backwards compatability and suggests deprecation so that programmers don't need to be continually rewriting their code._\n",
    "    * [\"Combining Datasets: Merge and Join\"](https://jakevdp.github.io/PythonDataScienceHandbook/03.07-merge-and-join.html)\n",
    "    * [\"Aggregation and Grouping\"](https://jakevdp.github.io/PythonDataScienceHandbook/03.08-aggregation-and-grouping.html)\n",
    "\n",
    "Before class:\n",
    "* Complete all of the readings exercises below as you do the reading.  You are encouraged to add code blocks and play with the forms to gain understanding and comfort with them.\n",
    "\n",
    "In class:\n",
    "* We will work together on the exercises in section \"In Class\".\n",
    "\n",
    "Homework after class:\n",
    "* Complete the section labeled \"Homework\" below before the next class when it will be collected."
   ]
  },
  {
   "cell_type": "code",
   "execution_count": 1,
   "metadata": {
    "collapsed": false
   },
   "outputs": [
   ],
   "source": [
    "# Place your imports here.\n",
    "\n",
    "import numpy as np\n",
    "import pandas as pd\n",
    "import random\n",
    "random.seed(0)\n",
    "np.random.seed(0)  # seed for reproducibility\n"
   ]
  },
  {
   "cell_type": "markdown",
   "metadata": {
    "collapsed": false
   },
   "source": [
    "# Pandas Exercises\n",
    "\n",
    "**To-Do:** Complete all of the exercises below before class.\n",
    "\n",
    "## Combining Datasets: Concat and Append"
   ]
  },
  {
   "cell_type": "code",
   "execution_count": 2,
   "metadata": {
    "collapsed": false
   },
   "outputs": [
    {
     "name": "stdout",
     "output_type": "stream",
     "text": [
      "\n",
      "s1\n",
      "0    x1\n",
      "1    x2\n",
      "2    x3\n",
      "dtype: object\n",
      "\n",
      "s2\n",
      "0    x4\n",
      "1    x5\n",
      "2    x6\n",
      "dtype: object\n",
      "\n",
      "df1\n",
      "   x1  x2  x3\n",
      "0  44  47  64\n",
      "1  67  67   9\n",
      "\n",
      "df2\n",
      "   x1  x2  x3\n",
      "0  83  21  36\n",
      "1  87  70  88\n",
      "\n",
      "df1\n",
      "   x1  x2  x3\n",
      "0  44  47  64\n",
      "1  67  67   9\n",
      "\n",
      "df2\n",
      "   x2  x3  x4\n",
      "0  83  21  36\n",
      "1  87  70  88\n"
     ]
    }
   ],
   "source": [
    "# Assign s3 to be the Pandas concatenation of the two following Series.\n",
    "# Read the documentation of concat to see how you can ignore the s1 and s2 indices,\n",
    "# resulting in s3 having indices 0 through 5.\n",
    "# Print the result.\n",
    "s1 = pd.Series(['x1', 'x2', 'x3'])\n",
    "s2 = pd.Series(['x4', 'x5', 'x6'])\n",
    "print('\\ns1', s1, sep='\\n')\n",
    "print('\\ns2', s2, sep='\\n')\n",
    "\n",
    "\n",
    "\n",
    "\n",
    "# Assign df3 to be the Pandas concatenation of the two following DataFrames that adds the rows of df2 after those of df1.\n",
    "# One way to deal with them having the same indices is to create a multi-index.\n",
    "# Do so with top-level indices 'dataset1' and 'dataset2', such that printed output looks like this:\n",
    "# df3\n",
    "#             x1  x2  x3\n",
    "# dataset1 0  44  47  64\n",
    "#          1  67  67   9\n",
    "# dataset2 0  83  21  36\n",
    "#          1  87  70  88\n",
    "df1 = pd.DataFrame(np.random.randint(100, size=(2, 3)), columns=['x' + str(i) for i in range(1, 4)])\n",
    "df2 = pd.DataFrame(np.random.randint(100, size=(2, 3)), columns=['x' + str(i) for i in range(1, 4)])\n",
    "print('\\ndf1', df1, sep='\\n')\n",
    "print('\\ndf2', df2, sep='\\n')\n",
    "\n",
    "\n",
    "\n",
    "\n",
    "# We will now reassign columns so that df1 and df2 each have a column the other does not.\n",
    "df2.columns = ['x' + str(i) for i in range(2, 5)]\n",
    "print('\\ndf1', df1, sep='\\n')\n",
    "print('\\ndf2', df2, sep='\\n')\n",
    "# Assign df3 to be the appending of df2 to the end of df1 using an outer join that yields a 4 row, 4 column result with NaN values.\n",
    "# Indices should be 0 through 3.  Print the result.\n",
    "\n",
    "\n"
   ]
  },
  {
   "cell_type": "markdown",
   "metadata": {
    "collapsed": false
   },
   "source": [
    "## Combining Datasets: Merge and Join"
   ]
  },
  {
   "cell_type": "code",
   "execution_count": 3,
   "metadata": {
    "collapsed": false
   },
   "outputs": [
    {
     "name": "stdout",
     "output_type": "stream",
     "text": [
      "\n",
      "df4\n",
      "      semester  course_id\n",
      "0  2020_spring      20197\n",
      "1  2020_spring      20364\n",
      "2    2020_fall      80179\n",
      "3    2020_fall      80180\n",
      "\n",
      "df5\n",
      "   section  course_id\n",
      "0   CS111A      80179\n",
      "1   CS111A      20197\n",
      "2   CS111B      20364\n",
      "3   CS111B      80180\n",
      "\n",
      "df10\n",
      "  letter phonetic\n",
      "0      A     Alfa\n",
      "1      B    Bravo\n",
      "2      C  Charlie\n",
      "\n",
      "df11\n",
      "  letter     name\n",
      "0      C  Charles\n",
      "1      J  Juliett\n",
      "2      M     Mike\n"
     ]
    }
   ],
   "source": [
    "# We now define df4 and df5 that share a common column course_id:\n",
    "course_data = [['2020_spring', 'CS111A', 20197],\n",
    "    ['2020_spring',' CS111B', 20364],\n",
    "    ['2020_fall', 'CS111A', 80179],\n",
    "    ['2020_fall', 'CS111B', 80180]]\n",
    "df4 = pd.DataFrame(data=[[row[0], row[2]] for row in course_data], columns=['semester', 'course_id'])\n",
    "random.shuffle(course_data)\n",
    "df5 = pd.DataFrame(data=[[row[1], row[2]] for row in course_data], columns=['section', 'course_id'])\n",
    "print('\\ndf4', df4, sep='\\n')\n",
    "print('\\ndf5', df5, sep='\\n')\n",
    "# Compute and print DataFrame df6 as a merge of df4 and df5 with a one-to-one join on course_id.\n",
    "\n",
    "\n",
    "\n",
    "\n",
    "# Create and print DataFrames df7 and df8 such that they print like this:\n",
    "#\n",
    "# df7\n",
    "#   x1\n",
    "# b  f\n",
    "# a  o\n",
    "# r  o\n",
    "#\n",
    "# df8\n",
    "#   x2\n",
    "# b  b\n",
    "# r  a\n",
    "# a  z\n",
    "#\n",
    "# Compute and print DataFrame df9 as the join of df7 and df8.\n",
    "# By default, the DataFrame join method will join on the indices (letters 'b', 'a', and 'r' in this case)\n",
    "\n",
    "\n",
    "\n",
    "\n",
    "# Compute and print df12, an outer join of df10 and df11 (using merge).\n",
    "data1 = {'letter':['A', 'B', 'C'], 'phonetic':['Alfa', 'Bravo', 'Charlie']}\n",
    "data2 = {'letter':['C', 'J', 'M'], 'name': ['Charles', 'Juliett', 'Mike']}\n",
    "df10 = pd.DataFrame(data=data1, columns=list(data1.keys()))\n",
    "df11 = pd.DataFrame(data=data2, columns=list(data2.keys()))\n",
    "print('\\ndf10', df10, sep='\\n')\n",
    "print('\\ndf11', df11, sep='\\n')\n",
    "\n"
   ]
  },
  {
   "cell_type": "markdown",
   "metadata": {
    "collapsed": false
   },
   "source": [
    "## Aggregation and Grouping"
   ]
  },
  {
   "cell_type": "code",
   "execution_count": 4,
   "metadata": {
    "collapsed": false
   },
   "outputs": [
    {
     "name": "stdout",
     "output_type": "stream",
     "text": [
      "\n",
      "df_ints\n",
      "     a    b    c    d    e\n",
      "0  100 -104 -186  205  -14\n",
      "1   51 -413 -326  100  349\n",
      "2  177   37  345 -428  277\n",
      "3  416 -385  476  255  209\n",
      "4  347  -69  -52  350 -401\n",
      "\n",
      "df_xyzzy\n",
      "  key  data1  data2\n",
      "0   X    984    147\n",
      "1   Y    177    910\n",
      "2   Z    755    423\n",
      "3   Z    797    288\n",
      "4   Y    659    961\n"
     ]
    }
   ],
   "source": [
    "df_ints = pd.DataFrame(data=np.random.randint(1000, size=(5, 5)) - 500, columns=list('abcde'))\n",
    "print('\\ndf_ints', df_ints, sep='\\n')\n",
    "\n",
    "# Print the maximum values of each column of df_ints.\n",
    "\n",
    "\n",
    "\n",
    "\n",
    "# Print the minimum values of each row of df_ints.\n",
    "\n",
    "\n",
    "\n",
    "\n",
    "# Use groupby and sum aggregation to compute and print the sum of values associated with each key of df_xyzzy,\n",
    "# with separate sums for data1 and data2 columns.\n",
    "df_xyzzy = pd.DataFrame(data={'key': list('XYZZY'),\n",
    "                   'data1': np.random.randint(1000, size=(5)),\n",
    "                   'data2': np.random.randint(1000, size=(5))}, columns=['key', 'data1', 'data2'])\n",
    "print('\\ndf_xyzzy', df_xyzzy, sep='\\n')\n",
    "\n",
    "\n",
    "\n",
    "\n",
    "# Use filtering to print only the rows of df_xyzzy where the sum of 'key' data1 or data2 associated values have a sum > 1000.\n",
    "\n",
    "\n"
   ]
  },
  {
   "cell_type": "markdown",
   "metadata": {
    "collapsed": false
   },
   "source": [
    "# In Class\n",
    "\n",
    "First, check your pre-class work above with each other.\n",
    "\n",
    "Then, work together to complete the following exercises.\n",
    "\n",
    "## Combining Datasets: Concat and Append"
   ]
  },
  {
   "cell_type": "code",
   "execution_count": 5,
   "metadata": {
    "collapsed": false
   },
   "outputs": [
    {
     "name": "stdout",
     "output_type": "stream",
     "text": [
      "\n",
      "df1\n",
      "   x1  x2  x3\n",
      "0   9  57  32\n",
      "1  31  74  23\n",
      "\n",
      "df2\n",
      "   x1  x2  x3\n",
      "0  35  75  55\n",
      "1  28  34   0\n",
      "\n",
      "df1\n",
      "   x1  x2  x3\n",
      "0   9  57  32\n",
      "1  31  74  23\n",
      "\n",
      "df2\n",
      "   x2  x3  x4\n",
      "0  35  75  55\n",
      "1  28  34   0\n"
     ]
    }
   ],
   "source": [
    "# Assign df3 to be the Pandas concatenation of the two following DataFrames.\n",
    "# Read the documentation of concat to see how you can ignore the df1 and df2 indices,\n",
    "# resulting in df3 having indices 0 through 3.\n",
    "# Print the result.\n",
    "df1 = pd.DataFrame(np.random.randint(100, size=(2, 3)), columns=['x' + str(i) for i in range(1, 4)])\n",
    "df2 = pd.DataFrame(np.random.randint(100, size=(2, 3)), columns=['x' + str(i) for i in range(1, 4)])\n",
    "print('\\ndf1', df1, sep='\\n')\n",
    "print('\\ndf2', df2, sep='\\n')\n",
    "\n",
    "\n",
    "\n",
    "\n",
    "# We will now reassign columns so that df1 and df2 each have a column the other does not.\n",
    "df2.columns = ['x' + str(i) for i in range(2, 5)]\n",
    "print('\\ndf1', df1, sep='\\n')\n",
    "print('\\ndf2', df2, sep='\\n')\n",
    "# Assign df3 to be the Pandas concatenation of df1 and df2 using an outer join that yields a 4 row, 4 column result with NaN values.\n",
    "# Indices should be 0 through 3.  Print the result.\n",
    "\n",
    "\n"
   ]
  },
  {
   "cell_type": "markdown",
   "metadata": {
    "collapsed": false
   },
   "source": [
    "## Combining Datasets: Merge and Join"
   ]
  },
  {
   "cell_type": "code",
   "execution_count": 6,
   "metadata": {
    "collapsed": false,
    "scrolled": true
   },
   "outputs": [
    {
     "ename": "KeyError",
     "evalue": "\"['section'] not in index\"",
     "output_type": "error",
     "traceback": [
      "\u001b[0;31m---------------------------------------------------------------------------\u001b[0m",
      "\u001b[0;31mKeyError\u001b[0m                                  Traceback (most recent call last)",
      "\u001b[0;32m<ipython-input-6-6adbc1c24837>\u001b[0m in \u001b[0;36m<module>\u001b[0;34m\u001b[0m\n\u001b[1;32m     15\u001b[0m \u001b[0;31m# We now define df7 and df8 to have course_id as their indices.\u001b[0m\u001b[0;34m\u001b[0m\u001b[0;34m\u001b[0m\u001b[0;34m\u001b[0m\u001b[0m\n\u001b[1;32m     16\u001b[0m \u001b[0mdf7\u001b[0m \u001b[0;34m=\u001b[0m \u001b[0mdf4\u001b[0m\u001b[0;34m[\u001b[0m\u001b[0;34m[\u001b[0m\u001b[0;34m'course_id'\u001b[0m\u001b[0;34m,\u001b[0m \u001b[0;34m'semester'\u001b[0m\u001b[0;34m]\u001b[0m\u001b[0;34m]\u001b[0m\u001b[0;34m.\u001b[0m\u001b[0mcopy\u001b[0m\u001b[0;34m(\u001b[0m\u001b[0;34m)\u001b[0m\u001b[0;34m\u001b[0m\u001b[0;34m\u001b[0m\u001b[0m\n\u001b[0;32m---> 17\u001b[0;31m \u001b[0mdf8\u001b[0m \u001b[0;34m=\u001b[0m \u001b[0mdf4\u001b[0m\u001b[0;34m[\u001b[0m\u001b[0;34m[\u001b[0m\u001b[0;34m'course_id'\u001b[0m\u001b[0;34m,\u001b[0m \u001b[0;34m'section'\u001b[0m\u001b[0;34m]\u001b[0m\u001b[0;34m]\u001b[0m\u001b[0;34m.\u001b[0m\u001b[0mcopy\u001b[0m\u001b[0;34m(\u001b[0m\u001b[0;34m)\u001b[0m \u001b[0;31m# This will generate an error until you complete the previous exercise.\u001b[0m\u001b[0;34m\u001b[0m\u001b[0;34m\u001b[0m\u001b[0m\n\u001b[0m\u001b[1;32m     18\u001b[0m \u001b[0mdf7\u001b[0m \u001b[0;34m=\u001b[0m \u001b[0mdf7\u001b[0m\u001b[0;34m.\u001b[0m\u001b[0mset_index\u001b[0m\u001b[0;34m(\u001b[0m\u001b[0;34m'course_id'\u001b[0m\u001b[0;34m)\u001b[0m\u001b[0;34m\u001b[0m\u001b[0;34m\u001b[0m\u001b[0m\n\u001b[1;32m     19\u001b[0m \u001b[0mdf8\u001b[0m \u001b[0;34m=\u001b[0m \u001b[0mdf8\u001b[0m\u001b[0;34m.\u001b[0m\u001b[0mset_index\u001b[0m\u001b[0;34m(\u001b[0m\u001b[0;34m'course_id'\u001b[0m\u001b[0;34m)\u001b[0m\u001b[0;34m\u001b[0m\u001b[0;34m\u001b[0m\u001b[0m\n",
      "\u001b[0;32m/usr/local/lib/python3.8/dist-packages/pandas/core/frame.py\u001b[0m in \u001b[0;36m__getitem__\u001b[0;34m(self, key)\u001b[0m\n\u001b[1;32m   2906\u001b[0m             \u001b[0;32mif\u001b[0m \u001b[0mis_iterator\u001b[0m\u001b[0;34m(\u001b[0m\u001b[0mkey\u001b[0m\u001b[0;34m)\u001b[0m\u001b[0;34m:\u001b[0m\u001b[0;34m\u001b[0m\u001b[0;34m\u001b[0m\u001b[0m\n\u001b[1;32m   2907\u001b[0m                 \u001b[0mkey\u001b[0m \u001b[0;34m=\u001b[0m \u001b[0mlist\u001b[0m\u001b[0;34m(\u001b[0m\u001b[0mkey\u001b[0m\u001b[0;34m)\u001b[0m\u001b[0;34m\u001b[0m\u001b[0;34m\u001b[0m\u001b[0m\n\u001b[0;32m-> 2908\u001b[0;31m             \u001b[0mindexer\u001b[0m \u001b[0;34m=\u001b[0m \u001b[0mself\u001b[0m\u001b[0;34m.\u001b[0m\u001b[0mloc\u001b[0m\u001b[0;34m.\u001b[0m\u001b[0m_get_listlike_indexer\u001b[0m\u001b[0;34m(\u001b[0m\u001b[0mkey\u001b[0m\u001b[0;34m,\u001b[0m \u001b[0maxis\u001b[0m\u001b[0;34m=\u001b[0m\u001b[0;36m1\u001b[0m\u001b[0;34m,\u001b[0m \u001b[0mraise_missing\u001b[0m\u001b[0;34m=\u001b[0m\u001b[0;32mTrue\u001b[0m\u001b[0;34m)\u001b[0m\u001b[0;34m[\u001b[0m\u001b[0;36m1\u001b[0m\u001b[0;34m]\u001b[0m\u001b[0;34m\u001b[0m\u001b[0;34m\u001b[0m\u001b[0m\n\u001b[0m\u001b[1;32m   2909\u001b[0m \u001b[0;34m\u001b[0m\u001b[0m\n\u001b[1;32m   2910\u001b[0m         \u001b[0;31m# take() does not accept boolean indexers\u001b[0m\u001b[0;34m\u001b[0m\u001b[0;34m\u001b[0m\u001b[0;34m\u001b[0m\u001b[0m\n",
      "\u001b[0;32m/usr/local/lib/python3.8/dist-packages/pandas/core/indexing.py\u001b[0m in \u001b[0;36m_get_listlike_indexer\u001b[0;34m(self, key, axis, raise_missing)\u001b[0m\n\u001b[1;32m   1252\u001b[0m             \u001b[0mkeyarr\u001b[0m\u001b[0;34m,\u001b[0m \u001b[0mindexer\u001b[0m\u001b[0;34m,\u001b[0m \u001b[0mnew_indexer\u001b[0m \u001b[0;34m=\u001b[0m \u001b[0max\u001b[0m\u001b[0;34m.\u001b[0m\u001b[0m_reindex_non_unique\u001b[0m\u001b[0;34m(\u001b[0m\u001b[0mkeyarr\u001b[0m\u001b[0;34m)\u001b[0m\u001b[0;34m\u001b[0m\u001b[0;34m\u001b[0m\u001b[0m\n\u001b[1;32m   1253\u001b[0m \u001b[0;34m\u001b[0m\u001b[0m\n\u001b[0;32m-> 1254\u001b[0;31m         \u001b[0mself\u001b[0m\u001b[0;34m.\u001b[0m\u001b[0m_validate_read_indexer\u001b[0m\u001b[0;34m(\u001b[0m\u001b[0mkeyarr\u001b[0m\u001b[0;34m,\u001b[0m \u001b[0mindexer\u001b[0m\u001b[0;34m,\u001b[0m \u001b[0maxis\u001b[0m\u001b[0;34m,\u001b[0m \u001b[0mraise_missing\u001b[0m\u001b[0;34m=\u001b[0m\u001b[0mraise_missing\u001b[0m\u001b[0;34m)\u001b[0m\u001b[0;34m\u001b[0m\u001b[0;34m\u001b[0m\u001b[0m\n\u001b[0m\u001b[1;32m   1255\u001b[0m         \u001b[0;32mreturn\u001b[0m \u001b[0mkeyarr\u001b[0m\u001b[0;34m,\u001b[0m \u001b[0mindexer\u001b[0m\u001b[0;34m\u001b[0m\u001b[0;34m\u001b[0m\u001b[0m\n\u001b[1;32m   1256\u001b[0m \u001b[0;34m\u001b[0m\u001b[0m\n",
      "\u001b[0;32m/usr/local/lib/python3.8/dist-packages/pandas/core/indexing.py\u001b[0m in \u001b[0;36m_validate_read_indexer\u001b[0;34m(self, key, indexer, axis, raise_missing)\u001b[0m\n\u001b[1;32m   1302\u001b[0m             \u001b[0;32mif\u001b[0m \u001b[0mraise_missing\u001b[0m\u001b[0;34m:\u001b[0m\u001b[0;34m\u001b[0m\u001b[0;34m\u001b[0m\u001b[0m\n\u001b[1;32m   1303\u001b[0m                 \u001b[0mnot_found\u001b[0m \u001b[0;34m=\u001b[0m \u001b[0mlist\u001b[0m\u001b[0;34m(\u001b[0m\u001b[0mset\u001b[0m\u001b[0;34m(\u001b[0m\u001b[0mkey\u001b[0m\u001b[0;34m)\u001b[0m \u001b[0;34m-\u001b[0m \u001b[0mset\u001b[0m\u001b[0;34m(\u001b[0m\u001b[0max\u001b[0m\u001b[0;34m)\u001b[0m\u001b[0;34m)\u001b[0m\u001b[0;34m\u001b[0m\u001b[0;34m\u001b[0m\u001b[0m\n\u001b[0;32m-> 1304\u001b[0;31m                 \u001b[0;32mraise\u001b[0m \u001b[0mKeyError\u001b[0m\u001b[0;34m(\u001b[0m\u001b[0;34mf\"{not_found} not in index\"\u001b[0m\u001b[0;34m)\u001b[0m\u001b[0;34m\u001b[0m\u001b[0;34m\u001b[0m\u001b[0m\n\u001b[0m\u001b[1;32m   1305\u001b[0m \u001b[0;34m\u001b[0m\u001b[0m\n\u001b[1;32m   1306\u001b[0m             \u001b[0;31m# we skip the warning on Categorical\u001b[0m\u001b[0;34m\u001b[0m\u001b[0;34m\u001b[0m\u001b[0;34m\u001b[0m\u001b[0m\n",
      "\u001b[0;31mKeyError\u001b[0m: \"['section'] not in index\""
     ]
    }
   ],
   "source": [
    "# We now define df4 and df5 that share a common column course_id:\n",
    "course_data = [['2020_spring', 'CS111A', 20197],\n",
    "    ['2020_spring','CS111B', 20364],\n",
    "    ['2020_fall', 'CS111A', 80179],\n",
    "    ['2020_fall', 'CS111B', 80180]]\n",
    "section_letter_data = [['CS111A', 'A'], ['CS111B', 'B']]\n",
    "# Create and print DataFrame df4, which should contain course_data with columns 'semester', 'section', and 'course_id'.\n",
    "# Create and print DataFrame df5, which should contain section_letter_data with columns 'section' and 'section_letter'.\n",
    "# Compute and print DataFrame df6 as a merge of df4 and df5 with a many-to-one join on section.\n",
    "# It should have the same number of rows as df4, but with additional column 'section_letter'.\n",
    "\n",
    "\n",
    "\n",
    "\n",
    "# We now define df7 and df8 to have course_id as their indices.\n",
    "df7 = df4[['course_id', 'semester']].copy()\n",
    "df8 = df4[['course_id', 'section']].copy() # This will generate an error until you complete the previous exercise.\n",
    "df7 = df7.set_index('course_id')\n",
    "df8 = df8.set_index('course_id')\n",
    "print('\\ndf7', df7, sep='\\n')\n",
    "print('\\ndf8', df8, sep='\\n')\n",
    "# Compute and print DataFrame df9 as a one-to-one merge of df7 and df8 using left_index and right_index parameters.\n",
    "\n",
    "\n",
    "\n",
    "\n",
    "# Next, we redefine df8 with the same data, except 'course_id' is a column, not the index.\n",
    "# Compute and print df9 as a merge of df7 and df8, using the course_id of each for the merge.\n",
    "# Make sure the result still has 'course_id' as its index so the result appears as the prior exercise.\n",
    "df8 = df4[['course_id', 'section']].copy()\n",
    "print('\\ndf7', df7, sep='\\n')\n",
    "print('\\ndf8', df8, sep='\\n')\n",
    "\n",
    "\n",
    "\n",
    "\n",
    "# Compute and print df12, the left join of df10 and df11 (using merge).\n",
    "data1 = {'x1':list('ABC'), 'x2':list('XYZ')}\n",
    "data2 = {'x1':list('BCD'), 'x3':list('PDQ')}\n",
    "df10 = pd.DataFrame(data=data1, columns=list(data1.keys()))\n",
    "df11 = pd.DataFrame(data=data2, columns=list(data2.keys()))\n",
    "print('\\ndf10', df10, sep='\\n')\n",
    "print('\\ndf11', df11, sep='\\n')\n",
    "\n",
    "\n"
   ]
  },
  {
   "cell_type": "markdown",
   "metadata": {
    "collapsed": false
   },
   "source": [
    "## Aggregation and Grouping"
   ]
  },
  {
   "cell_type": "code",
   "execution_count": 7,
   "metadata": {
    "collapsed": false
   },
   "outputs": [
    {
     "name": "stdout",
     "output_type": "stream",
     "text": [
      "\n",
      "df_ints\n",
      "     a    b    c    d    e\n",
      "0  100 -104 -186  205  -14\n",
      "1   51 -413 -326  100  349\n",
      "2  177   37  345 -428  277\n",
      "3  416 -385  476  255  209\n",
      "4  347  -69  -52  350 -401\n",
      "\n",
      "df_xyzzy\n",
      "  key  data1  data2\n",
      "0   X    984    147\n",
      "1   Y    177    910\n",
      "2   Z    755    423\n",
      "3   Z    797    288\n",
      "4   Y    659    961\n"
     ]
    }
   ],
   "source": [
    "print('\\ndf_ints', df_ints, sep='\\n')\n",
    "\n",
    "# Print the mean value of each column of df_ints (defined above).\n",
    "\n",
    "\n",
    "\n",
    "\n",
    "# Print the standard deviation values of each row of df_ints.\n",
    "\n",
    "\n",
    "\n",
    "\n",
    "# Use groupby and aggregation to compute and print the minimum and maximum values associated with each key of df_xyzzy,\n",
    "# with data1 and data2 being first-level column names, and 'min' and 'max' being second-level in the hierarchical column indexing.\n",
    "# The output should look like this:\n",
    "#\n",
    "#     data1      data2     \n",
    "#       min  max   min  max\n",
    "# key                      \n",
    "# X     984  984   147  147\n",
    "# Y     177  659   910  961\n",
    "# Z     755  797   288  423\n",
    "print('\\ndf_xyzzy', df_xyzzy, sep='\\n')\n",
    "\n",
    "\n"
   ]
  },
  {
   "cell_type": "markdown",
   "metadata": {
    "collapsed": false
   },
   "source": [
    "# Homework\n",
    "\n",
    "(0) Complete the in-class exercises.  (This may be done with others beyond your assigned pairs.)\n",
    "\n",
    "(1) Combining Datasets: Concat and Append"
   ]
  },
  {
   "cell_type": "code",
   "execution_count": 8,
   "metadata": {
    "collapsed": false
   },
   "outputs": [
    {
     "name": "stdout",
     "output_type": "stream",
     "text": [
      "\n",
      "df1\n",
      "   x1  x2  x3\n",
      "0   0  36  53\n",
      "1   5  38  17\n",
      "\n",
      "df2\n",
      "   x4  x5  x6\n",
      "0  79   4  42\n",
      "1  58  31   1\n",
      "\n",
      "df1\n",
      "   x1  x2  x3\n",
      "0   0  36  53\n",
      "1   5  38  17\n",
      "\n",
      "df2\n",
      "   x2  x3  x4\n",
      "0  79   4  42\n",
      "1  58  31   1\n"
     ]
    }
   ],
   "source": [
    "# Assign df3 to be the Pandas concatenation of the two following DataFrames, concatenating rows.\n",
    "# Use \"axis=1\", rather than \"axis='col'\".\n",
    "# Print the resulting df3 which should have 2 rows and 6 columns.\n",
    "df1 = pd.DataFrame(np.random.randint(100, size=(2, 3)), columns=['x' + str(i) for i in range(1, 4)])\n",
    "df2 = pd.DataFrame(np.random.randint(100, size=(2, 3)), columns=['x' + str(i) for i in range(4, 7)])\n",
    "print('\\ndf1', df1, sep='\\n')\n",
    "print('\\ndf2', df2, sep='\\n')\n",
    "\n",
    "\n",
    "\n",
    "\n",
    "# We will now reassign columns so that df1 and df2 each have a column the other does not.\n",
    "df2.columns = ['x' + str(i) for i in range(2, 5)]\n",
    "print('\\ndf1', df1, sep='\\n')\n",
    "print('\\ndf2', df2, sep='\\n')\n",
    "# Assign df3 to be the Pandas concatenation of df1 and df2 using an inner join that yields a 4 row, 2 column result with no NaN values.\n",
    "# Indices should be 0 through 3.  Print the result.\n",
    "\n"
   ]
  },
  {
   "cell_type": "markdown",
   "metadata": {
    "collapsed": false
   },
   "source": [
    "(2) Combining Datasets: Merge and Join"
   ]
  },
  {
   "cell_type": "code",
   "execution_count": 9,
   "metadata": {
    "collapsed": false
   },
   "outputs": [
    {
     "name": "stdout",
     "output_type": "stream",
     "text": [
      "\n",
      "df4\n",
      "  x1 x2\n",
      "0  N  A\n",
      "1  I  D\n",
      "2  C  D\n",
      "3  E  R\n",
      "\n",
      "df5\n",
      "  x2 x3\n",
      "0  R  P\n",
      "1  A  I\n",
      "2  D  N\n",
      "3  A  G\n",
      "4  R  S\n",
      "\n",
      "df5\n",
      "  y1 y2\n",
      "0  R  P\n",
      "1  A  I\n",
      "2  D  N\n",
      "3  A  G\n",
      "4  R  S\n",
      "\n",
      "df7\n",
      "  letter phonetic\n",
      "0      A     Alfa\n",
      "1      B    Bravo\n",
      "2      C  Charlie\n",
      "\n",
      "df8\n",
      "  letter     name\n",
      "0      C  Charles\n",
      "1      J  Juliett\n",
      "2      M     Mike\n",
      "\n",
      "df_scryfall\n",
      "          card_name                                    id\n",
      "0          Pacifism  9e0671ff-ad06-43ae-87cd-06a1341e971b\n",
      "1    Llanowar Elves  581b7327-3215-4a4f-b4ae-d9d4002ba882\n",
      "2  Fblthp, the Lost  52558748-6893-4c72-a9e2-e87d31796b59\n",
      "\n",
      "df_arena\n",
      "          card_name     id\n",
      "0          Pacifism  75457\n",
      "1    Llanowar Elves  67440\n",
      "2  Fblthp, the Lost  69501\n"
     ]
    }
   ],
   "source": [
    "# Assign df6 to be the many-to-many merge of the two following DataFrames.\n",
    "# Print and observe the result.\n",
    "df4 = pd.DataFrame(data=[['N', 'A'], ['I', 'D'], ['C', 'D'], ['E', 'R']], columns=['x1', 'x2'])\n",
    "df5 = pd.DataFrame(data=[['R', 'P'], ['A', 'I'], ['D', 'N'], ['A', 'G'], ['R', 'S']], columns=['x2', 'x3'])\n",
    "print('\\ndf4', df4, sep='\\n')\n",
    "print('\\ndf5', df5, sep='\\n')\n",
    "\n",
    "\n",
    "\n",
    "\n",
    "# We now change the column names of df5 to be 'y1' and 'y2'.\n",
    "df5.columns = ['y1', 'y2']\n",
    "print('\\ndf5', df5, sep='\\n')\n",
    "# Perform the same computation of df6, but specify that 'x2' and 'y1' are the columns used in the merge.\n",
    "# Then drop 'y1' and print the result, which should be the same as the prior result except that 'x3' is now 'y2'.\n",
    "\n",
    "\n",
    "\n",
    "\n",
    "# Compute and print df9, an inner join of df7 and df8 (using merge).\n",
    "data1 = {'letter':['A', 'B', 'C'], 'phonetic':['Alfa', 'Bravo', 'Charlie']}\n",
    "data2 = {'letter':['C', 'J', 'M'], 'name': ['Charles', 'Juliett', 'Mike']}\n",
    "df7 = pd.DataFrame(data=data1, columns=list(data1.keys()))\n",
    "df8 = pd.DataFrame(data=data2, columns=list(data2.keys()))\n",
    "print('\\ndf7', df7, sep='\\n')\n",
    "print('\\ndf8', df8, sep='\\n')\n",
    "\n",
    "\n",
    "\n",
    "\n",
    "# Sometime objects in different databases have different identifiers and we want to retain both in a merge of data.\n",
    "# For example, Magic: The Gathering playing cards have a Scryfall id and a MTG Arena id.\n",
    "scryfall_data = {'card_name':['Pacifism', 'Llanowar Elves', 'Fblthp, the Lost'], 'id':[\"9e0671ff-ad06-43ae-87cd-06a1341e971b\", \"581b7327-3215-4a4f-b4ae-d9d4002ba882\", \"52558748-6893-4c72-a9e2-e87d31796b59\"]}\n",
    "arena_data = {'card_name':['Pacifism', 'Llanowar Elves', 'Fblthp, the Lost'], 'id':[75457, 67440, 69501]}\n",
    "df_scryfall = pd.DataFrame(data=scryfall_data, columns=list(scryfall_data.keys()))\n",
    "df_arena = pd.DataFrame(data=arena_data, columns=list(arena_data.keys()))\n",
    "print('\\ndf_scryfall', df_scryfall, sep='\\n')\n",
    "print('\\ndf_arena', df_arena, sep='\\n')\n",
    "# Create and print DataFrame df_card_ids that is the merge of df_scryfall and df_arena on card_name, and adding suffixes '_scryfall' and '_arena' to the 'id' columns.\n",
    "# When printed, it should look like this:\n",
    "#\n",
    "#           card_name                           id_scryfall  id_arena\n",
    "# 0          Pacifism  9e0671ff-ad06-43ae-87cd-06a1341e971b     75457\n",
    "# 1    Llanowar Elves  581b7327-3215-4a4f-b4ae-d9d4002ba882     67440\n",
    "# 2  Fblthp, the Lost  52558748-6893-4c72-a9e2-e87d31796b59     69501\n",
    "\n",
    "\n"
   ]
  },
  {
   "cell_type": "markdown",
   "metadata": {
    "collapsed": false
   },
   "source": [
    "(3) Aggregation and Grouping"
   ]
  },
  {
   "cell_type": "code",
   "execution_count": 10,
   "metadata": {
    "collapsed": false
   },
   "outputs": [
    {
     "name": "stdout",
     "output_type": "stream",
     "text": [
      "\n",
      "df_ints\n",
      "     a    b    c    d    e\n",
      "0  100 -104 -186  205  -14\n",
      "1   51 -413 -326  100  349\n",
      "2  177   37  345 -428  277\n",
      "3  416 -385  476  255  209\n",
      "4  347  -69  -52  350 -401\n",
      "\n",
      "df_rand.head()\n",
      "  label      value\n",
      "0     b   3.041757\n",
      "1     c  13.126979\n",
      "2     b  34.605814\n",
      "3     c  34.047597\n",
      "4     b   2.253464\n",
      "\n",
      "The mean and std should be approximately 0 and 1 respectively:\n",
      "          value           \n",
      "           mean        std\n",
      "label                     \n",
      "a      6.025357   9.316300\n",
      "b     -3.502713  16.561677\n",
      "c      7.634104  23.926277\n"
     ]
    }
   ],
   "source": [
    "print('\\ndf_ints', df_ints, sep='\\n')\n",
    "\n",
    "# Print the median value of each column of df_ints (defined above).\n",
    "\n",
    "\n",
    "\n",
    "\n",
    "# Print the sum of all values of each row of df_ints.\n",
    "\n",
    "\n",
    "\n",
    "\n",
    "# Below is a randomly generated DataFrame df_rand with labels a, b, and c.\n",
    "labels=list('abc' * 10)\n",
    "random.shuffle(labels)\n",
    "rand_data = {'label':labels, 'value':np.random.normal(loc=10, scale=20, size=(len(labels)))}\n",
    "df_rand = pd.DataFrame(data=rand_data, columns=list(rand_data.keys()))\n",
    "print('\\ndf_rand.head()', df_rand.head(), sep='\\n')\n",
    "# Group by label and transform each label's values to have mean of 0 and standard deviation by\n",
    "# subtracting the group mean and then dividing by the group standard deviation.\n",
    "# (Assign the transformed values back to the 'value' column.)\n",
    "# This can be done in one line.\n",
    "\n",
    "\n",
    "\n",
    "# This is test code to see if you have successfully normalized the data by label.\n",
    "print('\\nThe mean and std should be approximately 0 and 1 respectively:', df_rand.groupby('label').aggregate([np.mean, np.std]), sep='\\n')"
   ]
  },
  {
   "cell_type": "markdown",
   "metadata": {
    "collapsed": false
   },
   "source": [
    "(end of homework)"
   ]
  }
 ],
 "metadata": {
  "kernelspec": {
   "display_name": "Python 3 (system-wide)",
   "language": "python",
   "metadata": {
    "cocalc": {
     "description": "Python 3 programming language",
     "priority": 100,
     "url": "https://www.python.org/"
    }
   },
   "name": "python3"
  },
  "language_info": {
   "codemirror_mode": {
    "name": "ipython",
    "version": 3
   },
   "file_extension": ".py",
   "mimetype": "text/x-python",
   "name": "python",
   "nbconvert_exporter": "python",
   "pygments_lexer": "ipython3",
   "version": "3.8.5"
  }
 },
 "nbformat": 4,
 "nbformat_minor": 4
}