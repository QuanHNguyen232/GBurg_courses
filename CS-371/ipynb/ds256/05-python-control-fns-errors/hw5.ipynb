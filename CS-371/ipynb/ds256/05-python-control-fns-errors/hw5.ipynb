{
 "cells": [
  {
   "cell_type": "markdown",
   "metadata": {
    "collapsed": false
   },
   "source": [
    "# Python Control Flow, Functions, and Errors\n",
    "\n",
    "Learning Objectives:\n",
    "* Students will learn basics of Python function definitions and lambda expressions.\n",
    "* Students will learn basics of Python decisions and loops.\n",
    "* Students will learn basics of Python error and exception handling.\n",
    "\n",
    "Readings before class:\n",
    "\n",
    "* Note: The VanderPlas text assumes the reader has some familiary with programming, so if you have no prior programming experience, I recommend that you start with the Downey reading below which assumes no prior experience.  Both are good complementary sources for the topics we seek to cover.\n",
    "* Jake VanderPlas.  [A Whirlwind Tour of Python](https://github.com/jakevdp/WhirlwindTourOfPython) sections:\n",
    "  * [07 - Control Flow](https://nbviewer.jupyter.org/github/jakevdp/WhirlwindTourOfPython/blob/master/07-Control-Flow-Statements.ipynb) _You can skip the section \"Loops with an else Block\"._\n",
    "  * [08 - Defining and Using Functions](https://nbviewer.jupyter.org/github/jakevdp/WhirlwindTourOfPython/blob/master/08-Defining-Functions.ipynb)\n",
    "  * [09 - Errors and Exceptions](https://nbviewer.jupyter.org/github/jakevdp/WhirlwindTourOfPython/blob/master/09-Errors-and-Exceptions.ipynb)\n",
    "* Allen B. Downey.  [Think Python 2e](https://greenteapress.com/wp/think-python-2e/):\n",
    "  * [Chapter 3  Functions](http://greenteapress.com/thinkpython2/html/thinkpython2004.html)\n",
    "  * [Chapter 5  Conditionals and Recursion, except 5.8-5.10](http://greenteapress.com/thinkpython2/html/thinkpython2006.html) _Skip recursion sections 5.8-5.10._\n",
    "  * [Chapter 7  Iteration](http://greenteapress.com/thinkpython2/html/thinkpython2013.html)\n",
    "  * [Section 14.5  Catching exceptions](http://greenteapress.com/thinkpython2/html/thinkpython2015.html#sec169)\n",
    "\n",
    "Activities before class:\n",
    "* Read below up to (but not including) the section marked Homework.  You are encouraged to add code blocks and play with the forms to gain understanding and comfort with them.\n",
    "\n",
    "In class:\n",
    "* We will work together in class on the section labeled \"In Class\"\n",
    "\n",
    "Homework after class:\n",
    "* Complete the section labeled \"Homework\" below before the next class when it will be collected."
   ]
  },
  {
   "cell_type": "markdown",
   "metadata": {
    "collapsed": false
   },
   "source": [
    "## Python Functions"
   ]
  },
  {
   "cell_type": "markdown",
   "metadata": {
    "collapsed": false
   },
   "source": [
    "### Using Python Functions\n",
    "\n",
    "A function is a unit of code that may optionally take input values for its computation and may optionally return output values from such computation.  Their primary purpose is to encapsulate chunks of code that accomplish a purpose, and allow the user to \"call\" functions to modularly reuse those chunks of code on demand.  Already, you have made use of a number of Python functions.  We can request user input with the ```input``` functions and print output using the ```print``` function:"
   ]
  },
  {
   "cell_type": "code",
   "execution_count": 1,
   "metadata": {
    "cocalc": {
     "outputs": {
      "0": {
       "name": "input",
       "opts": {
        "password": false,
        "prompt": "Please enter something to print: "
       },
       "output_type": "stream",
       "value": "This is a test."
      }
     }
    },
    "collapsed": false
   },
   "outputs": [
    {
     "name": "stdout",
     "output_type": "stream",
     "text": "Please enter something to print:  This is a test."
    },
    {
     "name": "stdout",
     "output_type": "stream",
     "text": [
      "This is a test.\n"
     ]
    }
   ],
   "source": [
    "s = input('Please enter something to print: ')\n",
    "print(s)"
   ]
  },
  {
   "cell_type": "markdown",
   "metadata": {
    "collapsed": false
   },
   "source": [
    "Often, we need to import the definition of a function before using it.  There are two main ways people do this.  First, one can ```import``` an entire module of code, which may include a number of functions.  When using those functions, we precede the function name with the module name and a period:"
   ]
  },
  {
   "cell_type": "code",
   "execution_count": 2,
   "metadata": {
    "collapsed": false,
    "scrolled": true
   },
   "outputs": [
    {
     "name": "stdout",
     "output_type": "stream",
     "text": [
      "1.4142135623730951\n",
      "1.2246467991473532e-16\n"
     ]
    }
   ],
   "source": [
    "import math\n",
    "print(math.sqrt(2))\n",
    "print(math.sin(math.pi))"
   ]
  },
  {
   "cell_type": "markdown",
   "metadata": {
    "collapsed": false
   },
   "source": [
    "We may also import modules with a shorter name:"
   ]
  },
  {
   "cell_type": "code",
   "execution_count": 6,
   "metadata": {
    "collapsed": false
   },
   "outputs": [
   ],
   "source": [
    "import pandas as pd\n",
    "df = pd.DataFrame()  # This function creates an empty dataframe.\n",
    "import matplotlib.pyplot as plt  # Note here that module \"matplotlib\" has a submodule called \"pyplot\". \n",
    "# A period goes between them.  In programming languages, the period often means \"Go inside what's to the left of the period to find what's on the right.\""
   ]
  },
  {
   "cell_type": "markdown",
   "metadata": {
    "collapsed": false
   },
   "source": [
    "We may wish to import a function definition from a module into the namespace of our code so that we don't have to refer to the original module or an abbreviation:"
   ]
  },
  {
   "cell_type": "code",
   "execution_count": 7,
   "metadata": {
    "collapsed": false
   },
   "outputs": [
   ],
   "source": [
    "from sklearn.linear_model import LinearRegression\n",
    "linear_regressor = LinearRegression()"
   ]
  },
  {
   "cell_type": "markdown",
   "metadata": {
    "collapsed": false
   },
   "source": [
    "Not that we didn't need to use the full name ```sklearn.linear_model.LinearRegression``` when we created our linear regression object to assign to variable ```linear_regressor```."
   ]
  },
  {
   "cell_type": "markdown",
   "metadata": {
    "collapsed": false
   },
   "source": [
    "### Creating Python Functions\n",
    "\n",
    "A function is defined with the \"def\" keyword, followed by the function name, a parenthesized, comma-separated list of parameter variable(s) (to hold input(s), if any), and a colon.  The block of code that Python executes when the function is \"called\" is immediately afterwards and consistently indented with tabs or spaces.  These _must_ be contistent throughout the function code, and 4 spaces are generally preferred for indentation:"
   ]
  },
  {
   "cell_type": "code",
   "execution_count": 8,
   "metadata": {
    "collapsed": false
   },
   "outputs": [
    {
     "name": "stdout",
     "output_type": "stream",
     "text": [
      "thing 1\n",
      "thing 2\n",
      "thing 3\n",
      "thing 1\n",
      "thing 2\n",
      "thing 3\n"
     ]
    }
   ],
   "source": [
    "def print_3_things():  # With no inputs, we still need to have our parentheses.\n",
    "    print(\"thing 1\")\n",
    "    print(\"thing 2\")\n",
    "    print(\"thing 3\")\n",
    "\n",
    "print_3_things()  # This is a function \"call\" to execute our print_3_things().\n",
    "print_3_things()  # We can call the function as often as we like."
   ]
  },
  {
   "cell_type": "markdown",
   "metadata": {
    "collapsed": false
   },
   "source": [
    "### Returning Output Value(s) From Functions\n",
    "\n",
    "We can return a value from a Python function with a \"return\" statement.  After the keyword \"return\", create an expression that evaluates to the value you want to be returned as output.  When we learned about variable types, we learned that functions return a special NoneType value None if there is no return value.  Return replaces None with the returned output value, which can then be used in place of the call that returned that value.  \n",
    "\n",
    "In the code below, we create a function that generates a pseudorandom die roll having a value in the range [1,6].  Each call is evaluated as its returned value, which is then printed:"
   ]
  },
  {
   "cell_type": "code",
   "execution_count": 24,
   "metadata": {
    "collapsed": false
   },
   "outputs": [
    {
     "name": "stdout",
     "output_type": "stream",
     "text": [
      "4\n",
      "1\n",
      "3\n"
     ]
    }
   ],
   "source": [
    "import random\n",
    "def get_die_roll():\n",
    "    return random.randint(1, 6)\n",
    "\n",
    "print(get_die_roll())\n",
    "print(get_die_roll())\n",
    "print(get_die_roll())"
   ]
  },
  {
   "cell_type": "markdown",
   "metadata": {
    "collapsed": false
   },
   "source": [
    "We can also return multiple comma-separated values.  These are returned as a tuple and can be assigned in parallel:"
   ]
  },
  {
   "cell_type": "code",
   "execution_count": 29,
   "metadata": {
    "collapsed": false
   },
   "outputs": [
    {
     "name": "stdout",
     "output_type": "stream",
     "text": [
      "(6, 5, 2)\n",
      "5\n",
      "3\n",
      "3\n"
     ]
    }
   ],
   "source": [
    "def get_3_rolls():\n",
    "    return get_die_roll(), get_die_roll(), get_die_roll()\n",
    "\n",
    "print(get_3_rolls())\n",
    "roll1, roll2, roll3 = get_3_rolls()\n",
    "print(roll1)\n",
    "print(roll2)\n",
    "print(roll3)"
   ]
  },
  {
   "cell_type": "markdown",
   "metadata": {
    "collapsed": false
   },
   "source": [
    "### Getting Input Value(s) To Functions\n",
    "\n",
    "Values passed as inputs to functions in a function call are usually called _arguments_.  The variables that then are assigned these values within the function are called _parameter variables_ or just parameters.  Some people use argument and parameter interchangeably.  The important thing to remember is that expressions are evaluated within a function call, a new computational environment is created for computing the function, and in that environment, the parameter variables are assigned initially to those values:"
   ]
  },
  {
   "cell_type": "code",
   "execution_count": 25,
   "metadata": {
    "collapsed": false
   },
   "outputs": [
    {
     "name": "stdout",
     "output_type": "stream",
     "text": [
      "4\n",
      "9\n",
      "25\n"
     ]
    }
   ],
   "source": [
    "def square(x):\n",
    "    return x * x\n",
    "\n",
    "print(square(2))\n",
    "print(square(3))\n",
    "print(square(5))"
   ]
  },
  {
   "cell_type": "markdown",
   "metadata": {
    "collapsed": false
   },
   "source": [
    "Functions are object in Python too:"
   ]
  },
  {
   "cell_type": "code",
   "execution_count": 62,
   "metadata": {
    "collapsed": false
   },
   "outputs": [
    {
     "name": "stdout",
     "output_type": "stream",
     "text": [
      "<function square at 0x7efc544058b0>\n"
     ]
    }
   ],
   "source": [
    "print(square)"
   ]
  },
  {
   "cell_type": "markdown",
   "metadata": {
    "collapsed": false
   },
   "source": [
    "We will see in the future that passing functions as arguments can be very handy:"
   ]
  },
  {
   "cell_type": "code",
   "execution_count": 66,
   "metadata": {
    "collapsed": false
   },
   "outputs": [
    {
     "name": "stdout",
     "output_type": "stream",
     "text": [
      "[1, 2, 3, 4, 5]\n",
      "[1, 4, 9, 16, 25]\n"
     ]
    }
   ],
   "source": [
    "l = [1, 2, 3, 4, 5]\n",
    "print(l)\n",
    "l2 = list(map(square, l))  # This creates a new list that consists of list l values that have been squared.\n",
    "print(l2)"
   ]
  },
  {
   "cell_type": "markdown",
   "metadata": {
    "collapsed": false
   },
   "source": [
    "### Lambda expressions\n",
    "\n",
    "However, sometimes a programmer wants to use a function without naming it.  A _lambda expression_ is an unnamed function:"
   ]
  },
  {
   "cell_type": "code",
   "execution_count": 67,
   "metadata": {
    "collapsed": false,
    "scrolled": true
   },
   "outputs": [
    {
     "name": "stdout",
     "output_type": "stream",
     "text": [
      "[1, 2, 3, 4, 5]\n",
      "[1, 4, 9, 16, 25]\n"
     ]
    }
   ],
   "source": [
    "l = [1, 2, 3, 4, 5]\n",
    "print(l)\n",
    "l2 = list(map(lambda x: x * x, l))  # Note here that we define our square function in place.\n",
    "print(l2)"
   ]
  },
  {
   "cell_type": "markdown",
   "metadata": {
    "collapsed": false
   },
   "source": [
    "Here, we see a lambda expression used to filter (retain) anything that is not divisible by 3 by supplying a filter function to ```filter```:"
   ]
  },
  {
   "cell_type": "code",
   "execution_count": 71,
   "metadata": {
    "collapsed": false
   },
   "outputs": [
    {
     "name": "stdout",
     "output_type": "stream",
     "text": [
      "[0, 1, 2, 3, 4, 5, 6, 7, 8, 9, 10, 11, 12, 13, 14, 15, 16, 17, 18, 19, 20, 21, 22, 23, 24, 25, 26, 27, 28, 29, 30, 31, 32, 33, 34, 35, 36, 37, 38, 39, 40, 41, 42, 43, 44, 45, 46, 47, 48, 49, 50, 51, 52, 53, 54, 55, 56, 57, 58, 59, 60, 61, 62, 63, 64, 65, 66, 67, 68, 69, 70, 71, 72, 73, 74, 75, 76, 77, 78, 79, 80, 81, 82, 83, 84, 85, 86, 87, 88, 89, 90, 91, 92, 93, 94, 95, 96, 97, 98, 99]\n",
      "[1, 2, 4, 5, 7, 8, 10, 11, 13, 14, 16, 17, 19, 20, 22, 23, 25, 26, 28, 29, 31, 32, 34, 35, 37, 38, 40, 41, 43, 44, 46, 47, 49, 50, 52, 53, 55, 56, 58, 59, 61, 62, 64, 65, 67, 68, 70, 71, 73, 74, 76, 77, 79, 80, 82, 83, 85, 86, 88, 89, 91, 92, 94, 95, 97, 98]\n"
     ]
    }
   ],
   "source": [
    "l = list(range(100))\n",
    "print(l)\n",
    "l2 = list(filter(lambda n : n % 3 != 0, l))\n",
    "print(l2)"
   ]
  },
  {
   "cell_type": "markdown",
   "metadata": {
    "collapsed": false
   },
   "source": [
    "Sometimes, we want to iterative compute a result across a list, keeping a running sum, product, etc.  The reduce function is often used with lambda expressions that take in a cumulative result (```x``` below) and a next value (```y``` below) and return the next cumulative result.  Observe how we use this to compute a sum and product of a list of numbers:"
   ]
  },
  {
   "cell_type": "code",
   "execution_count": 73,
   "metadata": {
    "collapsed": false
   },
   "outputs": [
    {
     "name": "stdout",
     "output_type": "stream",
     "text": [
      "Sum: 15\n",
      "Product: 120\n"
     ]
    }
   ],
   "source": [
    "from functools import reduce\n",
    "l = [1, 2, 3, 4, 5]\n",
    "print('Sum:', reduce(lambda x, y : x + y, l))\n",
    "print('Product:', reduce(lambda x, y : x * y, l))"
   ]
  },
  {
   "cell_type": "markdown",
   "metadata": {
    "collapsed": false
   },
   "source": [
    "## Control Flow\n",
    "\n",
    "\"Control flow\" or \"flow of control\" refers to the rules that decide what is next executed in a program.  Our programs have been fairly linear so far with occasional jumps into functions to execute.  Here we see how control flow is modified to make _decisions_ between one branch of execution and another, how we repeat blocks of code with _loops_, i.e. _iteration_, and how we can recover from errors/exceptions.\n",
    "\n",
    "### Decisions"
   ]
  },
  {
   "cell_type": "markdown",
   "metadata": {
    "collapsed": false
   },
   "source": [
    "#### If-Elif-Else\n",
    "\n",
    "```if ... elif ... else``` expressions in Python allow us to branch our program execution into different cases tested sequentially:"
   ]
  },
  {
   "cell_type": "code",
   "execution_count": 74,
   "metadata": {
    "collapsed": false
   },
   "outputs": [
    {
     "name": "stdout",
     "output_type": "stream",
     "text": [
      "liquid\n"
     ]
    }
   ],
   "source": [
    "water_state = '?'\n",
    "celsius = 78.2\n",
    "if celsius > 100:\n",
    "    water_state = 'gas'\n",
    "elif celsius > 0:  # short for \"else if\", which is the way it's written in most programming languages\n",
    "    water_state = 'liquid'\n",
    "else:  # default case at the end of the chain of tests.\n",
    "    water_state = 'solid'\n",
    "print(water_state)"
   ]
  },
  {
   "cell_type": "markdown",
   "metadata": {
    "collapsed": false
   },
   "source": [
    "Code block syntax (structure/form) is similar to function definition in that the parts of an ```if-elif-else``` statement each end with a colon and have related code for that decision case consistently indented thereafter.  One can have 0 or more ```elif``` cases, and the optional ```else``` with no boolean expression may occur only at the end as a default case. \n",
    "\n",
    "Here's how Python executes the above ```if-elif-else``` statement:  At the ```if```, Python evaluates Boolean expression ```celsius > 100```.  If the result is ```True```, the indented code thereafter is executed.  Otherwise, flow of control passes to the ```elif```.  There, Python evaluates Boolean expression ```celsius > 0```.  If the result is ```True```, the indented code thereafter is executed.  There could be more ```elif``` statements.  When the first Boolean expression tests True, we execute the associated code and are done executing the entire ```if-elif-else``` statement.  After all ```if``` and subsequent ```elif``` statements have evaluated ```False``` Boolean expressions, Python looks for the last, optional ```else``` block and executes that if it exists.\n",
    "\n",
    "Watch how we use this versatile form for 1, 2, and 3 cases.  (More are possible with additional ```elif```s.)"
   ]
  },
  {
   "cell_type": "code",
   "execution_count": 77,
   "metadata": {
    "collapsed": false
   },
   "outputs": [
    {
     "name": "stdout",
     "output_type": "stream",
     "text": [
      "something\n",
      "even\n",
      "zero\n"
     ]
    }
   ],
   "source": [
    "# One case - conditional execution. \n",
    "say_something = True\n",
    "if say_something:\n",
    "    print('something')\n",
    "# Or one can thing of this as two cases: execute case 1 code or do nothing.  \"Do or do not - there is no try.\"\n",
    "\n",
    "# Two cases: Either one code block or another executes.\n",
    "x = 42\n",
    "if x % 2 == 0:\n",
    "    print('even')\n",
    "else:\n",
    "    print('odd')\n",
    "\n",
    "# Two cases: Two possible blocks could execute, but it's possible neither does:\n",
    "n = 0\n",
    "if n >= 3:\n",
    "    print('several')\n",
    "elif n >= 2:\n",
    "    print('few')\n",
    "# Or one can think of this as three cases, with an implicit \"do nothing\" for the else case.\n",
    "\n",
    "# Three cases:\n",
    "if n > 0:\n",
    "    print('positive')\n",
    "elif n == 0:\n",
    "    print('zero')\n",
    "else:\n",
    "    print('negative')"
   ]
  },
  {
   "cell_type": "markdown",
   "metadata": {
    "collapsed": false
   },
   "source": [
    "There are other forms of decisions in expression form.  For example:"
   ]
  },
  {
   "cell_type": "code",
   "execution_count": 78,
   "metadata": {
    "collapsed": false
   },
   "outputs": [
    {
     "name": "stdout",
     "output_type": "stream",
     "text": [
      "even\n"
     ]
    }
   ],
   "source": [
    " print('even' if n % 2 == 0 else 'odd')"
   ]
  },
  {
   "cell_type": "markdown",
   "metadata": {
    "collapsed": false
   },
   "source": [
    "And with time, you'll become comfortable with creating nested decisions:"
   ]
  },
  {
   "cell_type": "code",
   "execution_count": 86,
   "metadata": {
    "collapsed": false
   },
   "outputs": [
    {
     "name": "stdout",
     "output_type": "stream",
     "text": [
      "origin\n",
      "x axis\n",
      "y axis\n",
      "quadrant I\n",
      "quadrant II\n",
      "quadrant III\n",
      "quadrant IV\n"
     ]
    }
   ],
   "source": [
    "def grid_pos(x, y):\n",
    "    if x == 0:\n",
    "        return 'origin' if y == 0 else 'y axis'\n",
    "    elif y == 0:\n",
    "        return 'x axis'\n",
    "    elif x > 0:\n",
    "        if y > 0:\n",
    "            return 'quadrant I'\n",
    "        else:  # y < 0\n",
    "            return 'quadrant IV'\n",
    "    else:  # x < 0\n",
    "        if y > 0:\n",
    "            return 'quadrant II'\n",
    "        else:  # y < 0\n",
    "            return 'quadrant III'\n",
    "\n",
    "print(grid_pos(0, 0))\n",
    "print(grid_pos(1, 0))\n",
    "print(grid_pos(0, -2))\n",
    "print(grid_pos(3, 4))\n",
    "print(grid_pos(-5, 6))\n",
    "print(grid_pos(-7, -8))\n",
    "print(grid_pos(9, -10))"
   ]
  },
  {
   "cell_type": "markdown",
   "metadata": {
    "collapsed": false
   },
   "source": [
    "### Loops\n",
    "\n",
    "#### While Loops\n",
    "\n",
    "A while loop is like a repeating ```if``` that stops repeating and moves on with execution afterwards when the condition evaluates to ```False```:"
   ]
  },
  {
   "cell_type": "code",
   "execution_count": 80,
   "metadata": {
    "collapsed": false
   },
   "outputs": [
    {
     "name": "stdout",
     "output_type": "stream",
     "text": [
      "1.618033988749895\n",
      "1.618033988749895\n"
     ]
    }
   ],
   "source": [
    "phi = 42.0\n",
    "change = 1  # initial value to permit loop execution\n",
    "while change > 1e-15:  # while we still have significant change\n",
    "    new_phi = 1 + 1 / phi  # compute next better estimate of phi\n",
    "    change = abs(new_phi - phi)  # compute the absolute difference in the change\n",
    "    phi = new_phi  # update phi to our new estimate\n",
    "print(phi)\n",
    "print((1 + math.sqrt(5)) / 2)"
   ]
  },
  {
   "cell_type": "markdown",
   "metadata": {
    "collapsed": false
   },
   "source": [
    "#### For Loops\n",
    "\n",
    "A for loop iterates over values, assigning each in turn to the loop control variable and executing the code with that assignment."
   ]
  },
  {
   "cell_type": "code",
   "execution_count": 87,
   "metadata": {
    "collapsed": false
   },
   "outputs": [
    {
     "name": "stdout",
     "output_type": "stream",
     "text": [
      "Easy as \n",
      "1\n",
      "2\n",
      "3\n",
      "Easy as \n",
      "1\n",
      "2\n",
      "3\n",
      "I _can_ even: \n",
      "0\n",
      "2\n",
      "4\n",
      "6\n",
      "8\n"
     ]
    }
   ],
   "source": [
    "print('Easy as ')\n",
    "for i in range(3):  # range(n) gives us n values from 0 to n-1.\n",
    "    print(i + 1)\n",
    "print('Easy as ')\n",
    "for i in range(1, 4):  # range(m, n) gives us values from m to n-1.\n",
    "    print(i)\n",
    "print('I _can_ even: ')\n",
    "for i in range(0, 10, 2): # range(m, n, s) gives us values from m to n-1 in steps of s.\n",
    "    print(i)"
   ]
  },
  {
   "cell_type": "markdown",
   "metadata": {
    "collapsed": false
   },
   "source": [
    "#### ```break```\n",
    "\n",
    "A ```break``` statement will break out of the closest-nested loop."
   ]
  },
  {
   "cell_type": "code",
   "execution_count": 93,
   "metadata": {
    "collapsed": false,
    "scrolled": true
   },
   "outputs": [
    {
     "name": "stdout",
     "output_type": "stream",
     "text": [
      "3\n",
      "3\n",
      "5\n",
      "4\n",
      "4\n",
      "3\n",
      "You scored: 22\n"
     ]
    }
   ],
   "source": [
    "# Here a \"Pig\" player seeks to roll 20 or more points, but loses all points if a 1 is rolled.\n",
    "sum = 0\n",
    "while sum < 20:\n",
    "    roll = get_die_roll()\n",
    "    print(roll)\n",
    "    if roll == 1:\n",
    "        sum = 0\n",
    "        break\n",
    "    sum += roll\n",
    "print('You scored:', sum)\n"
   ]
  },
  {
   "cell_type": "markdown",
   "metadata": {
    "collapsed": false
   },
   "source": [
    "#### ```continue```\n",
    "\n",
    "A ```continue``` statement will stop the current iteration and continue with the next iteration.  It is most often used to skip iterations.  Here is an example where we use nested for loops and continue to create play matchups between players with the first player listed going first:"
   ]
  },
  {
   "cell_type": "code",
   "execution_count": 95,
   "metadata": {
    "collapsed": false
   },
   "outputs": [
    {
     "name": "stdout",
     "output_type": "stream",
     "text": [
      "Player A versus Player B\n",
      "Player A versus Player C\n",
      "Player B versus Player A\n",
      "Player B versus Player C\n",
      "Player C versus Player A\n",
      "Player C versus Player B\n"
     ]
    }
   ],
   "source": [
    "players = ['A', 'B', 'C']\n",
    "for p1 in players:\n",
    "    for p2 in players:\n",
    "        if p1 is p2:\n",
    "            continue\n",
    "        print('Player {} versus Player {}'.format(p1, p2))"
   ]
  },
  {
   "cell_type": "markdown",
   "metadata": {
    "collapsed": false
   },
   "source": [
    "### Errors and Exceptions\n",
    "\n",
    "We will not spend much time with errors and exceptions in Python at this point.  Runtime errors, problems that arise during code execution, are handled in Python's exception handling framework.  Without using the forms below, a division by zero error, or the use of an undefined variable will bring your program to an awkward, ugly, screeching halt.  (Actually, it's good when we have lots of error information printed, as it helps us to diagnose the problem, i.e. debug our code.)\n",
    "\n",
    "Sometimes, however, it is useful to anticipate and handle an error.  For example, when a user gives us garbage input, we might want to print an error message and try again rather than halt a computation that is elaborate and ongoing.  Here is the full form of how we can handle exceptions:"
   ]
  },
  {
   "cell_type": "code",
   "execution_count": 97,
   "metadata": {
    "collapsed": false
   },
   "outputs": [
    {
     "name": "stdout",
     "output_type": "stream",
     "text": [
      "This is where our main computation goes.\n",
      "This code will only execute if our try block has no errors.\n",
      "This code block will always execute to allow us to \"clean up\" regardless of whether or not errors occurred.\n"
     ]
    }
   ],
   "source": [
    "try:\n",
    "    print('This is where our main computation goes.')\n",
    "except:\n",
    "    print('This code will only execute if our try block has an error.')\n",
    "else:\n",
    "    print('This code will only execute if our try block has no errors.')\n",
    "finally:\n",
    "    print('This code block will always execute to allow us to \"clean up\" regardless of whether or not errors occurred.')"
   ]
  },
  {
   "cell_type": "markdown",
   "metadata": {
    "collapsed": false
   },
   "source": [
    "Most often, we'll use just these parts:"
   ]
  },
  {
   "cell_type": "code",
   "execution_count": 98,
   "metadata": {
    "collapsed": false
   },
   "outputs": [
    {
     "name": "stdout",
     "output_type": "stream",
     "text": [
      "This is where our main computation goes.\n",
      "This code will only execute if our try block has an error.\n"
     ]
    }
   ],
   "source": [
    "try:\n",
    "    print('This is where our main computation goes.')\n",
    "    oops = 42 / 0\n",
    "except:\n",
    "    print('This code will only execute if our try block has an error.')"
   ]
  },
  {
   "cell_type": "markdown",
   "metadata": {
    "collapsed": false
   },
   "source": [
    "We can gain information about the error that caused our flow of control to jump directly to the ```except``` block:"
   ]
  },
  {
   "cell_type": "code",
   "execution_count": 103,
   "metadata": {
    "collapsed": false
   },
   "outputs": [
    {
     "name": "stdout",
     "output_type": "stream",
     "text": [
      "This is where our main computation goes.\n",
      "The error that was raised: <class 'ZeroDivisionError'> division by zero\n"
     ]
    }
   ],
   "source": [
    "try:\n",
    "    print('This is where our main computation goes.')\n",
    "    oops = 42 / 0\n",
    "except Exception as ex:\n",
    "    print('The error that was raised:', type(ex), ex)"
   ]
  },
  {
   "cell_type": "markdown",
   "metadata": {
    "collapsed": false
   },
   "source": [
    "This allows us to create custom additional ```except``` cases:"
   ]
  },
  {
   "cell_type": "code",
   "execution_count": 106,
   "metadata": {
    "collapsed": false
   },
   "outputs": [
    {
     "name": "stdout",
     "output_type": "stream",
     "text": [
      "This is where our main computation goes.\n",
      "Look what you made me do: I dont like your divide by zero.\n"
     ]
    }
   ],
   "source": [
    "try:\n",
    "    print('This is where our main computation goes.')\n",
    "    taylor_swift = 42 / 0\n",
    "except ZeroDivisionError:\n",
    "    print('Look what you made me do: I don''t like your divide by zero.')\n",
    "except Exception as ex:\n",
    "    print('I''ve got a list of errors and yours is in red:', type(ex), ex)"
   ]
  },
  {
   "cell_type": "markdown",
   "metadata": {
    "collapsed": false
   },
   "source": [
    "# In Class"
   ]
  },
  {
   "cell_type": "markdown",
   "metadata": {
    "collapsed": false
   },
   "source": [
    "## The Number Guessing Game\n",
    "\n",
    "The computer thinks of a secret number from 1 to 100.  The computer provides guess feedback and the user makes successive guesses until the user correctly guesses the number.\n",
    "\n",
    "Extra: When the game ends, have the computer indicate how many guesses were made."
   ]
  },
  {
   "cell_type": "code",
   "execution_count": 108,
   "metadata": {
    "collapsed": false
   },
   "outputs": [
   ],
   "source": [
    "# Generate a secret number from 1 to 100 and print 'I am thinking of a number from 1 to 100.'\n",
    "# Create a loop control variable game_over to serve as a \"Boolean flag\" and assign it False.\n",
    "# While the game is not over:\n",
    "    # Input the user's guess with prompt 'Your guess? ' and convert that string to an int\n",
    "    # If the guess is the same as the secret number, print 'Correct!' and end the game.\n",
    "    # Otherwise, print a clue 'Lower.'/'Higher.' to guide the user to the correct guess."
   ]
  },
  {
   "cell_type": "markdown",
   "metadata": {
    "collapsed": false
   },
   "source": [
    "## The Number Guessing Game Role Reversal\n",
    "\n",
    "Now create a number guessing game where the roles are reversed.  You have the secret number from 1 to 100.  Have the computer iterative guess your number according to the following strategy:  The computer starts with ```min = 1``` and ```max = 100``` and always chooses to guess halfway between ```min``` and ```max```. (Restrict guesses to int values!)  The computer makes the guess and asks the user to enter simple feedback input, e.g. ```+```/```-```/```=```, ```>```/```<```/```=```, or ```h```/```l```/```c```, to indicate \"higher\" or \"lower\" or \"correct\".  When not correct, the computer modifies either min or max accordingly.  When correct, the game ends.\n",
    "\n",
    "Extra: When the game ends, have the computer indicate how many guesses were made."
   ]
  },
  {
   "cell_type": "code",
   "execution_count": 0,
   "metadata": {
    "collapsed": false,
    "scrolled": true
   },
   "outputs": [
   ],
   "source": [
   ]
  },
  {
   "cell_type": "markdown",
   "metadata": {
    "collapsed": false
   },
   "source": [
    "**In the time remaining**, work on exercises of interest at the end of the each assigned chapter of Downey readings."
   ]
  },
  {
   "cell_type": "markdown",
   "metadata": {
    "collapsed": false
   },
   "source": [
    "# Homework"
   ]
  },
  {
   "cell_type": "markdown",
   "metadata": {
    "collapsed": false
   },
   "source": [
    "(1) Create a function ```int_division``` that takes as input integers ```a``` and ```b``` and returns two values: the floor division and the modulus of the two inputs.  Print ```int_division(9, 4)``` and see that the output is ```(2, 1)```."
   ]
  },
  {
   "cell_type": "code",
   "execution_count": 0,
   "metadata": {
    "collapsed": false
   },
   "outputs": [
   ],
   "source": [
   ]
  },
  {
   "cell_type": "markdown",
   "metadata": {
    "collapsed": false
   },
   "source": [
    "(2) Create a function ```init_line(n)``` that takes a positive integer argument $n$ and returns a string that consists of a single '#' character followed by $n - 1$ '.' characters. Test it by printing it the returned value of ```init_line(3)``` which should be \"```#..```\"."
   ]
  },
  {
   "cell_type": "code",
   "execution_count": 0,
   "metadata": {
    "collapsed": false
   },
   "outputs": [
   ],
   "source": [
   ]
  },
  {
   "cell_type": "markdown",
   "metadata": {
    "collapsed": false
   },
   "source": [
    "(3) Next create a function ```next_line(line)``` that takes a string input and returns a string output according to the following specification.  The length of the output string will be the same.  The first character of the output string will be a '#'.  For all but the first character of the output string, character $i$ will be a '#' if the characters of parameter line at index $i$ and $i - 1$ are not equal.  Otherwise, character $i$ will be a '.'.  This will require you to create a loop in your function.  Test your ```next_line``` function on the input ```init_line(3)``` and print what is returned which should be \"```##.```\".\n",
    "\n",
    "Remember that strings are immutable, but lists of characters are mutable and can be joined to make a string. Look up how to create a list of characters of a specified length, and how to join that character list into a new string object."
   ]
  },
  {
   "cell_type": "code",
   "execution_count": 0,
   "metadata": {
    "collapsed": false
   },
   "outputs": [
   ],
   "source": [
   ]
  },
  {
   "cell_type": "markdown",
   "metadata": {
    "collapsed": false
   },
   "source": [
    "(4) Next create and execute the following code:\n",
    "* Assign variable ```n``` to be 32.\n",
    "* Assign variable ```line``` to be ```init_line``` called with ```n```.\n",
    "* Repeat the following ```n``` times:\n",
    "  * Print variable ```line```.\n",
    "  * Assign variable ```line``` to be the result returned from ```next_line``` called with ```line```."
   ]
  },
  {
   "cell_type": "code",
   "execution_count": 0,
   "metadata": {
    "collapsed": false,
    "scrolled": true
   },
   "outputs": [
   ],
   "source": [
   ]
  },
  {
   "cell_type": "markdown",
   "metadata": {
    "collapsed": false
   },
   "source": [
    "(5) Pig \"Keep Pace and End Race\" Advisor: Create a function ```should_roll(i, j, k)``` to advise play strategy for the game of Pig according to the following specification.\n",
    "\n",
    "Pig is a folk jeopardy dice game with simple rules: Two players race to reach 100 points. Each turn, a player repeatedly rolls a die until either a 1 (\"pig\") is rolled or the player holds and scores the sum of the rolls (i.e. the turn total). At any time during a player's turn, the player is faced with two decisions:\n",
    "\n",
    "* **roll** - If the player rolls a\n",
    "  * **1**: the player scores nothing and it becomes the opponent's turn.\n",
    "  * **2 - 6**: the number is added to the player's turn total and the player's turn continues.\n",
    "* **hold** - The turn total is added to the player's score and it becomes the opponent's turn.\n",
    "\n",
    "Problem:  Given a player's score i, the opponent's score j, and the current turn total k, advise a player whether or not to roll according to this \"keep pace and end race\" strategy:\n",
    "\n",
    "* If the player's score i plus the turn total k is greater than or equal to the goal score of 100, hold.\n",
    "* Otherwise, if either player has a score greater than or equal to 71, roll.\n",
    "* Otherwise, roll if and only if the turn total is less than 21 + round((j - i) / 8). (Use floating-point division before rounding.)\n",
    "\n",
    "Function ```should_roll(i, j, k)``` should return ```True```/```False``` if the player should roll/hold, respectively according to this strategy.\n",
    "\n",
    "Example tests:\n",
    "\n",
    "```should_roll(79, 42, 21)``` $\\rightarrow$ ```False```\n",
    "\n",
    "```should_roll(37, 71, 48)``` $\\rightarrow$ ```True```\n",
    "\n",
    "```should_roll(71, 0, 20)``` $\\rightarrow$ ```True```\n",
    "\n",
    "```should_roll(42, 57, 22)``` $\\rightarrow$ ```True```\n",
    "\n",
    "```should_roll(42, 57, 23)``` $\\rightarrow$ ```False```\n",
    "\n",
    "Note: This can be correctly implemented in many different ways, so code will be judged on its input/output behavior."
   ]
  },
  {
   "cell_type": "code",
   "execution_count": 0,
   "metadata": {
    "collapsed": false
   },
   "outputs": [
   ],
   "source": [
   ]
  },
  {
   "cell_type": "markdown",
   "metadata": {
    "collapsed": false
   },
   "source": [
    "(end of homework)"
   ]
  }
 ],
 "metadata": {
  "kernelspec": {
   "display_name": "Python 3 (system-wide)",
   "language": "python",
   "metadata": {
    "cocalc": {
     "description": "Python 3 programming language",
     "priority": 100,
     "url": "https://www.python.org/"
    }
   },
   "name": "python3"
  },
  "language_info": {
   "codemirror_mode": {
    "name": "ipython",
    "version": 3
   },
   "file_extension": ".py",
   "mimetype": "text/x-python",
   "name": "python",
   "nbconvert_exporter": "python",
   "pygments_lexer": "ipython3",
   "version": "3.8.2"
  }
 },
 "nbformat": 4,
 "nbformat_minor": 4
}