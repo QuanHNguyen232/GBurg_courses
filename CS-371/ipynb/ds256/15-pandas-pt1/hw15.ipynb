{
 "cells": [
  {
   "cell_type": "markdown",
   "metadata": {
    "collapsed": false
   },
   "source": [
    "# Pandas - Part 1\n",
    "\n",
    "Learning Objectives:\n",
    "* Students will experientially gain competence in creating and manipulating Pandas Series and DataFrame objects.\n",
    "* Students will practice basic indexing, selection, and universal function operations of Series and DataFrame objects.\n",
    "* Students will learn how Pandas handles missing values, and a few basic techniques for dealing with missing values.\n",
    "* Students will create and access hierarchically indexed DataFrame objects.\n",
    "\n",
    "Readings before class:\n",
    "\n",
    "* Jake VanderPlas.  [Python Data Science Handbook](https://jakevdp.github.io/PythonDataScienceHandbook/):\n",
    "  * [Chapter 3 - Data Manipulation with Pandas through section \"Hierarchical Indexing\"](https://jakevdp.github.io/PythonDataScienceHandbook/)\n",
    "\n",
    "Before class:\n",
    "* Complete all of the readings exercises below as you do the reading.  You are encouraged to add code blocks and play with the forms to gain understanding and comfort with them.\n",
    "\n",
    "In class:\n",
    "* We will work together on the exercises in section \"In Class\".\n",
    "\n",
    "Homework after class:\n",
    "* Complete the section labeled \"Homework\" below before the next class when it will be collected."
   ]
  },
  {
   "cell_type": "code",
   "execution_count": 1,
   "metadata": {
    "collapsed": false
   },
   "outputs": [
   ],
   "source": [
    "# Place your imports here.\n",
    "\n",
    "import numpy as np\n",
    "import pandas as pd\n",
    "np.random.seed(0)  # seed for reproducibility\n"
   ]
  },
  {
   "cell_type": "markdown",
   "metadata": {
    "collapsed": false
   },
   "source": [
    "# Pandas Exercises\n",
    "\n",
    "**To-Do:** Complete all of the exercises below before class.\n",
    "\n",
    "## Introducing Pandas Objects"
   ]
  },
  {
   "cell_type": "code",
   "execution_count": 2,
   "metadata": {
    "collapsed": false
   },
   "outputs": [
   ],
   "source": [
    "phonetic = ['alfa', 'bravo', 'charlie']\n",
    "letters = ['a', 'b', 'c']\n",
    "\n",
    "# Create and print a Pandas Series object 's' with values 'alfa', 'bravo', and 'charlie' with corresponding indices 'a', 'b', and 'c'.\n",
    "\n",
    "\n",
    "\n",
    "# Use a dictionary comprehension, zip, and the above arrays to build a dictionary 'letter_to_phonetic' mapping keys 'letters' to values 'phonetic'.  Print this dictionary.\n",
    "\n",
    "\n",
    "\n",
    "# Print ord('a') to see the ordinal Unicode value that is the underlying encoding for character 'a'.\n",
    "\n",
    "\n",
    "\n",
    "# Use a dictionary comprehension to create a dictionary 'letter_to_unicode' that maps keys 'letters' to corresponding Unicode values of those letters. Print this dictionary.\n",
    "\n",
    "\n",
    "\n",
    "# Create a Pandas Dataframe object 'df_letter' that with columns named 'phonetic' and 'unicode' that uses dictionaries 'letter_to_phonetic' and 'letter_to_unicode' to initialize the Dataframe with row names 'a', 'b', 'c'.  Print 'df_letter'.  Hint: Note the reading example: states = pd.DataFrame({'population': population, 'area': area})\n",
    "\n",
    "\n",
    "\n",
    "# Given 'df_incomplete', print the whole dataframe and then print just column c2, index 'first'.  Then print a string that interprets the acronym that was printed.\n",
    "df_incomplete = pd.DataFrame([{'c1':1}, {'c2':2}], index=['first', 'second'])\n",
    "\n",
    "\n",
    "\n"
   ]
  },
  {
   "cell_type": "markdown",
   "metadata": {
    "collapsed": false
   },
   "source": [
    "## Data Indexing and Selection"
   ]
  },
  {
   "cell_type": "code",
   "execution_count": 3,
   "metadata": {
    "collapsed": false
   },
   "outputs": [
    {
     "name": "stdout",
     "output_type": "stream",
     "text": [
      "['A', 'B', 'C', 'D', 'E', 'F', 'G', 'H', 'I', 'J', 'K', 'L', 'M', 'N', 'O', 'P', 'Q', 'R', 'S', 'T', 'U', 'V', 'W', 'X', 'Y', 'Z']\n",
      "[65, 66, 67, 68, 69, 70, 71, 72, 73, 74, 75, 76, 77, 78, 79, 80, 81, 82, 83, 84, 85, 86, 87, 88, 89, 90]\n",
      "['Alfa', 'Bravo', 'Charlie', 'Delta', 'Echo', 'Foxtrot', 'Golf', 'Hotel', 'India', 'Juliett', 'Kilo', 'Lima', 'Mike', 'November', 'Oscar', 'Papa', 'Quebec', 'Romeo', 'Sierra', 'Tango', 'Uniform', 'Victor', 'Whiskey', 'X-ray', 'Yankee', 'Zulu']\n"
     ]
    }
   ],
   "source": [
    "all_letters = [l for l in 'abcdefghijklmnopqrstuvwxyz'.upper()]\n",
    "all_unicode = [ord(l) for l in all_letters]\n",
    "all_phonetic = 'Alfa, Bravo, Charlie, Delta, Echo, Foxtrot, Golf, Hotel, India, Juliett, Kilo, Lima, Mike, November, Oscar, Papa, Quebec, Romeo, Sierra, Tango, Uniform, Victor, Whiskey, X-ray, Yankee, Zulu'.split(', ')\n",
    "print(all_letters)\n",
    "print(all_unicode)\n",
    "print(all_phonetic)\n",
    "\n",
    "# Create a DataFrame 'df2' with all_letters as indices, with columns 'unicode' and 'phonetic' corresponding to all_unicode and all_phonetic, respectively. Print the head of DataFrame 'df2'.\n",
    "\n",
    "\n",
    "\n",
    "# Print the slice of 'df2' that includes all columns but only rows 'J' through 'L', inclusive.\n",
    "\n",
    "\n",
    "\n",
    "# Define 's2' as column 'unicode' of 'df2' using the form 'df2.unicode' and print the type of s2.  Then print 's2.keys()' and 's2.to_dict()'.  This shows that a Series (column of a DataFrame) can be worked with as a dictionary.\n",
    "\n",
    "\n",
    "\n",
    "# Use the Python 'is' operator to show that df2['unicode'] is equivalent to df2.unicode.  For this reason, it is good to name your columns with Python-style identifiers that could be used with either column access scheme.\n",
    "\n",
    "\n",
    "\n",
    "# Print the first three rows of the two-dimensional array of data in df2, accessing that data 2D array using df2.values.\n",
    "\n"
   ]
  },
  {
   "cell_type": "markdown",
   "metadata": {
    "collapsed": false
   },
   "source": [
    "## Operating on Data in Pandas"
   ]
  },
  {
   "cell_type": "code",
   "execution_count": 4,
   "metadata": {
    "collapsed": false
   },
   "outputs": [
    {
     "name": "stdout",
     "output_type": "stream",
     "text": [
      "          a         b         c         d\n",
      "0  0.548814  0.715189  0.602763  0.544883\n",
      "1  0.423655  0.645894  0.437587  0.891773\n",
      "2  0.963663  0.383442  0.791725  0.528895\n",
      "3  0.568045  0.925597  0.071036  0.087129\n"
     ]
    }
   ],
   "source": [
    "np.random.seed(0)\n",
    "df3 = pd.DataFrame(np.array([np.random.uniform() for i in range(16)]).reshape(4, 4), columns=list('abcd'))\n",
    "print(df3)\n",
    "\n",
    "# UFuncs work on DataFrames and Series much the same way they do with Numpy arrays.  Print the result of calling UFunc function max on 'df3'.\n",
    "\n",
    "\n",
    "\n",
    "# Did this print the maximum values along rows or columns?  Now print the maximum values of 'df3' along the other axis.\n",
    "\n",
    "\n",
    "\n",
    "# Find the single mean value of the entire 'df3' DataFrame, print the mean, and print the result of 'df3' with the mean subtracted.  (Don't modify df3.)\n",
    "\n",
    "\n"
   ]
  },
  {
   "cell_type": "markdown",
   "metadata": {
    "collapsed": false
   },
   "source": [
    "## Handling Missing Data"
   ]
  },
  {
   "cell_type": "code",
   "execution_count": 5,
   "metadata": {
    "collapsed": false
   },
   "outputs": [
    {
     "name": "stdout",
     "output_type": "stream",
     "text": [
      "[0.69646919 0.28613933 0.22685145 0.55131477 0.71946897]\n"
     ]
    }
   ],
   "source": [
    "np.random.seed(123)\n",
    "data = np.random.uniform(size=5)\n",
    "print(data)\n",
    "\n",
    "# Replace the second value of data with the special Numpy value that indicates that it is not a number.  Print the modified 'data' array.\n",
    "\n",
    "\n",
    "\n",
    "# Print array 'data' multiplied by -1.  Print array 'data' minus 2.\n",
    "\n",
    "\n",
    "\n",
    "# Print the sum of the values of array 'data', ignoring missing values.\n",
    "\n"
   ]
  },
  {
   "cell_type": "markdown",
   "metadata": {
    "collapsed": false
   },
   "source": [
    "## Hierarchical Indexing"
   ]
  },
  {
   "cell_type": "code",
   "execution_count": 6,
   "metadata": {
    "collapsed": false
   },
   "outputs": [
   ],
   "source": [
    "data_str = '''2019_spring,CS111A,20218\n",
    "2019_spring,CS111B,20424\n",
    "2019_fall,CS111A,80191\n",
    "2019_fall,CS111B,80192\n",
    "2020_spring,CS111A,20197\n",
    "2020_spring,CS111B,20364\n",
    "2020_fall,CS111A,80179\n",
    "2020_fall,CS111B,80180'''\n",
    "\n",
    "# In each of the lines of the multiline string above are three comma separated values: the semester of a course section, the course name, and the database id number for that course.\n",
    "# Create a multiindex DataFrame 'courses' of this data such that printing 'courses' yields:\n",
    "#                        id\n",
    "# 2019_spring CS111A  20218\n",
    "#             CS111B  20424\n",
    "# 2019_fall   CS111A  80191\n",
    "#             CS111B  80192\n",
    "# 2020_spring CS111A  20197\n",
    "#             CS111B  20364\n",
    "# 2020_fall   CS111A  80179\n",
    "#             CS111B  80180\n",
    "\n",
    "\n"
   ]
  },
  {
   "cell_type": "markdown",
   "metadata": {
    "collapsed": false
   },
   "source": [
    "# In Class\n",
    "\n",
    "First, check your pre-class work above with each other.\n",
    "\n",
    "Then, work together to complete the following exercises.\n",
    "\n",
    "## Introducing Pandas Objects"
   ]
  },
  {
   "cell_type": "code",
   "execution_count": 7,
   "metadata": {
    "collapsed": false,
    "scrolled": true
   },
   "outputs": [
   ],
   "source": [
    "# Create and print a dictionary 'd' mapping from keys 'a', 'b', and 'c' to values 'alfa', 'bravo', and 'charlie', respectively.\n",
    "\n",
    "\n",
    "\n",
    "# Build a Pandas Series object 's' from dictionary 'd' and print it.\n",
    "\n",
    "\n",
    "\n",
    "# Print the DataFrame members 'index' and 'columns' of DataFrame 'df_letter' defined in readings exercises above.  This shows us how to access the row indices and column names as Index objects.  Hint: A member of an object is accessed with a dot (.) after the object reference and before the member name.  There are no parentheses after the member name when we are not calling a function.\n",
    "\n",
    "\n"
   ]
  },
  {
   "cell_type": "markdown",
   "metadata": {
    "collapsed": false
   },
   "source": [
    "## Data Indexing and Selection"
   ]
  },
  {
   "cell_type": "code",
   "execution_count": 8,
   "metadata": {
    "collapsed": false
   },
   "outputs": [
   ],
   "source": [
    "# Set Series 's2' to be the 'unicode' column of 'df2', defined above.  Print 's2'.\n",
    "\n",
    "\n",
    "\n",
    "# Use slicing to print rows 'X' through 'Z' of Series 's2'.\n",
    "\n",
    "\n",
    "\n",
    "# Use implicit integer index slicing to print row indices 9 through 11 (inclusive) of 's2'.\n",
    "\n",
    "\n",
    "\n",
    "# Use masking to print all rows of 's2' with values greater than 76 and less than or equal to 79.\n",
    "\n",
    "\n",
    "\n",
    "# Use fancy indexing to print only rows 'H' and 'I' of 's2'.\n",
    "\n",
    "\n",
    "\n",
    "# Print the transpose of df2 where the rows and columns are swapped.\n",
    "\n",
    "\n",
    "\n",
    "# Use .loc to access and print the slice of the first 3 rows and first 2 columns of df2.\n",
    "\n",
    "\n",
    "\n",
    "# Use .iloc to access and print the slice of the first 3 rows and first 2 columns of df2.\n",
    "\n",
    "\n",
    "\n",
    "# Use .loc with masking to print the slice of df2 that shows only the phonetic column for all rows with unicode values from 80 through 82 (inclusive).\n",
    "\n",
    "\n",
    "\n"
   ]
  },
  {
   "cell_type": "markdown",
   "metadata": {
    "collapsed": false
   },
   "source": [
    "## Operating on Data in Pandas"
   ]
  },
  {
   "cell_type": "code",
   "execution_count": 9,
   "metadata": {
    "collapsed": false
   },
   "outputs": [
    {
     "name": "stdout",
     "output_type": "stream",
     "text": [
      "data1:\n",
      "c    0.417022\n",
      "a    0.720324\n",
      "d    0.000114\n",
      "dtype: float64\n",
      "data2:\n",
      "d    0.302333\n",
      "a    0.146756\n",
      "b    0.092339\n",
      "dtype: float64\n"
     ]
    }
   ],
   "source": [
    "np.random.seed(1)\n",
    "data1 = pd.Series([np.random.uniform() for i in range(3)], index=['c','a','d'])\n",
    "data2 = pd.Series([np.random.uniform() for i in range(3)], index=['d','a','b'])\n",
    "print('data1:', data1, sep='\\n')\n",
    "print('data2:', data2, sep='\\n')\n",
    "\n",
    "\n",
    "# Print the result of adding data1 and data2. Observe what happens when there is insufficient information for an operation.\n",
    "\n",
    "\n",
    "\n",
    "# Print the result of adding data1 and data2, but use the value 0 when a row value is missing from data1 or data2. Observe the result.\n",
    "\n"
   ]
  },
  {
   "cell_type": "markdown",
   "metadata": {
    "collapsed": false
   },
   "source": [
    "## Handling Missing Data"
   ]
  },
  {
   "cell_type": "code",
   "execution_count": 10,
   "metadata": {
    "collapsed": false
   },
   "outputs": [
    {
     "name": "stdout",
     "output_type": "stream",
     "text": [
      "    A   B   C\n",
      "0  -4   5  19\n",
      "1 -49  37  22\n",
      "2   0 -41   8\n"
     ]
    }
   ],
   "source": [
    "np.random.seed(4)\n",
    "df_missing = pd.DataFrame(np.random.randint(-50, 51, (3, 3)), columns=list('ABC'))\n",
    "print(df_missing)\n",
    "\n",
    "# Set the first row, second column to be np.nan.  Print the modified df_missing.  Note the up-conversion of column B to allow for the floating point np.nan value.\n",
    "\n",
    "\n",
    "\n",
    "# One way of handling missing values is to drop rows and/or columns that have unknown values.  Print the result of dropping rows of df_missing that contain missing values (without modifying 'df_missing').\n",
    "\n",
    "\n",
    "\n",
    "# Print the result of dropping columns of df_missing that contain missing values (without modifying 'df_missing').\n",
    "\n",
    "\n",
    "\n",
    "# Add a new column 'D' to df_missing that contains all np.nan values.  Print 'df_missing'.\n",
    "\n",
    "\n",
    "\n",
    "# Print the result of dropping all rows of df_missing that exceed a threshold of 1 NaN value.\n",
    "\n"
   ]
  },
  {
   "cell_type": "markdown",
   "metadata": {
    "collapsed": false
   },
   "source": [
    "## Hierarchical Indexing"
   ]
  },
  {
   "cell_type": "code",
   "execution_count": 11,
   "metadata": {
    "collapsed": false
   },
   "outputs": [
   ],
   "source": [
    "# Using your hierarchically-indexed 'courses' DataFrame defined above, print the unstacked version of 'courses'.\n",
    "\n",
    "\n",
    "\n",
    "# Set the semester index name to 'semester' and the course section index name to 'section'.  Print 'courses' with this modification.\n",
    "\n",
    "\n",
    "\n",
    "# Use sort_index to lexicographically sort the indices of courses in order to allow slicing with explicit index values.  Print the index-sorted 'courses' DataFrame.\n",
    "\n",
    "\n",
    "\n",
    "# Print the '2020_fall' sections portion of 'courses'.\n",
    "\n",
    "\n"
   ]
  },
  {
   "cell_type": "markdown",
   "metadata": {
    "collapsed": false
   },
   "source": [
    "# Homework\n",
    "\n",
    "(0) Complete the in-class exercises.  (This may be done with others beyond your assigned pairs.)\n",
    "\n",
    "(1) Introducing Pandas Objects"
   ]
  },
  {
   "cell_type": "code",
   "execution_count": 12,
   "metadata": {
    "collapsed": false
   },
   "outputs": [
   ],
   "source": [
    "digit_names = ['zero', 'one', 'two', 'three', 'four', 'five', 'six', 'seven', 'eight', 'nine']\n",
    "\n",
    "# Use a dictionary comprehension and enumerate to create a dictionary 'digit_dict' with digit_names as keys and the digits they represent as the corresponding values. Print this dictionary.\n",
    "\n",
    "\n",
    "\n",
    "# Create a Pandas Series 's' with digit_dict and print index 'seven' of Series 's'.\n",
    "\n",
    "\n",
    "\n",
    "# Print the slice of 's' from 'two' through 'four' inclusive.\n",
    "\n",
    "\n",
    "\n",
    "# Print the Series returned for column 'phonetic' from DataFrame 'df_letter' defined in readings exercises above.\n",
    "\n",
    "\n",
    "\n",
    "# Given the list of dictionaries 'dict_list' given below, create and print the DataFrame 'df' initialized with 'dict_list'.\n",
    "dict_list = [{'x':x, 'xpow2':(x * x), 'y':(x * x + 2 * x + 1)} for x in np.linspace(-5, 5, 3)]\n",
    "\n",
    "\n",
    "\n",
    "# Change the 'df' column names 'x' and 'xpow2' to 'x1' and 'x2' respectively.  Print 'df' to verify your changes.\n",
    "\n"
   ]
  },
  {
   "cell_type": "markdown",
   "metadata": {
    "collapsed": false
   },
   "source": [
    "(2) Data Indexing and Selection"
   ]
  },
  {
   "cell_type": "code",
   "execution_count": 13,
   "metadata": {
    "collapsed": false
   },
   "outputs": [
    {
     "name": "stdout",
     "output_type": "stream",
     "text": [
      "-1    Ann\n",
      " 0    Bob\n",
      " 1    Cal\n",
      "dtype: object\n",
      "data.loc[0]\n",
      "Bob\n"
     ]
    }
   ],
   "source": [
    "data = pd.Series(['Ann', 'Bob', 'Cal'], index=[-1, 0, 1])\n",
    "print(data)\n",
    "\n",
    "# Print data[0] and then print 'implicit' or 'explicit' depending on whether it is using implicit or explicit indexing.\n",
    "\n",
    "\n",
    "\n",
    "# Print data[0:2] and then print 'implicit' or 'explicit' depending on whether it is using implicit or explicit indexing.\n",
    "\n",
    "\n",
    "\n",
    "# Note that the 0 referred to a different row depending on whether implicit or explicit indexing is used.  For this reason Pandas allows loc and iloc index specifiers to show clearly which indexing scheme is to be used.  For each of the following expressions, print the string of the expression, then the value of the expression.  The first is done for you.  Study the resulting output.\n",
    "# data.loc[0]\n",
    "print('data.loc[0]')\n",
    "print(data.loc[0])\n",
    "\n",
    "# data.loc[0:2]\n",
    "\n",
    "\n",
    "# data.iloc[0]\n",
    "\n",
    "\n",
    "# data.iloc[0:2]\n",
    "\n",
    "\n",
    "# Use .iloc to print the value 'Charlie' from df2 defined above.\n",
    "\n"
   ]
  },
  {
   "cell_type": "markdown",
   "metadata": {
    "collapsed": false
   },
   "source": [
    "(3) Operating on Data in Pandas"
   ]
  },
  {
   "cell_type": "code",
   "execution_count": 14,
   "metadata": {
    "collapsed": false
   },
   "outputs": [
    {
     "name": "stdout",
     "output_type": "stream",
     "text": [
      "   H  I\n",
      "0  1 -2\n",
      "1  5  2\n",
      "2 -1  1\n",
      "   W  I  S  H\n",
      "0  4 -3  1  5\n",
      "1  5  2 -1 -2\n",
      "2  2  2 -3  0\n",
      "3 -1 -4  2  0\n"
     ]
    }
   ],
   "source": [
    "np.random.seed(42)\n",
    "df_a = pd.DataFrame(np.random.randint(-5, 6, (3, 2)), columns=list('HI'))\n",
    "print(df_a)\n",
    "df_b = pd.DataFrame(np.random.randint(-5, 6, (4, 4)), columns=list('WISH'))\n",
    "print(df_b)\n",
    "\n",
    "# Define DataFrame 'df_c' as 'df_a' multiplied by 'df_b'.  Print it.\n",
    "\n",
    "\n",
    "\n",
    "# Compute and print the mean value of all values in df_a\n",
    "\n",
    "\n",
    "\n",
    "# Recompute 'df_c' using this mean value as a fill value for every df_a value lacking in the multiplication operation. Print our new 'df_c' DataFrame.\n",
    "\n"
   ]
  },
  {
   "cell_type": "markdown",
   "metadata": {
    "collapsed": false
   },
   "source": [
    "(4) Handling Missing Data"
   ]
  },
  {
   "cell_type": "code",
   "execution_count": 15,
   "metadata": {
    "collapsed": false
   },
   "outputs": [
   ],
   "source": [
    "# Modify Dataframe 'df_missing' (defined above) by dropping any column where all values are missing.  Use the dropna function with a 'how' parameter as your method. Print your modified 'df_missing'.\n",
    "\n",
    "\n",
    "\n",
    "# One way of handling missing values is to replace them with mean values.  Compute the mean value for each column and use the fillna function to replace any NaN value with the mean value of its column.  Print the resulting 'df_missing'.\n",
    "\n"
   ]
  },
  {
   "cell_type": "markdown",
   "metadata": {
    "collapsed": false
   },
   "source": [
    "(5) Hierarchical Indexing"
   ]
  },
  {
   "cell_type": "code",
   "execution_count": 16,
   "metadata": {
    "collapsed": false
   },
   "outputs": [
   ],
   "source": [
    "# fake grade data\n",
    "np.random.seed(100)\n",
    "data = np.round(np.random.randn(4, 6), 1)\n",
    "data[:, :] *= .4\n",
    "data += 3.5\n",
    "\n",
    "# Following the mock medical data example of the reading, use MultiIndex.from_product to build and print a Data frame from the following data that prints as follows.\n",
    "# name              Ann             Bob             Cal        \n",
    "# GPA_type      Sem_GPA Cum_GPA Sem_GPA Cum_GPA Sem_GPA Cum_GPA\n",
    "# year semester                                                \n",
    "# 2019 spring      2.82    3.62    3.98    3.38    3.90    3.70\n",
    "#      fall        3.58    3.06    3.42    3.62    3.30    3.66\n",
    "# 2020 spring      3.26    3.82    3.78    3.46    3.30    3.90\n",
    "#      fall        3.34    3.06    4.14    4.10    3.38    3.18\n",
    "\n",
    "\n",
    "\n",
    "# Print Bob's grade data from this DataFrame.\n",
    "\n",
    "\n",
    "\n",
    "# Print Bob's Cum_GPA data from this DataFrame.\n",
    "\n",
    "\n",
    "\n",
    "# Print Bob's Cum_GPA data for 2019 from this DataFrame.\n",
    "\n",
    "\n",
    "\n",
    "# Print Bob's Cum_GPA for the fall of 2019 from this DataFrame.\n",
    "\n",
    "\n"
   ]
  },
  {
   "cell_type": "markdown",
   "metadata": {
    "collapsed": false
   },
   "source": [
    "(end of homework)"
   ]
  }
 ],
 "metadata": {
  "kernelspec": {
   "display_name": "Python 3 (system-wide)",
   "language": "python",
   "metadata": {
    "cocalc": {
     "description": "Python 3 programming language",
     "priority": 100,
     "url": "https://www.python.org/"
    }
   },
   "name": "python3"
  },
  "language_info": {
   "codemirror_mode": {
    "name": "ipython",
    "version": 3
   },
   "file_extension": ".py",
   "mimetype": "text/x-python",
   "name": "python",
   "nbconvert_exporter": "python",
   "pygments_lexer": "ipython3",
   "version": "3.8.2"
  }
 },
 "nbformat": 4,
 "nbformat_minor": 4
}