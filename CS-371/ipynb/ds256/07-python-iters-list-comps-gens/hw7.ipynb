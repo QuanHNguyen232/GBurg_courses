{
 "cells": [
  {
   "cell_type": "markdown",
   "metadata": {
    "collapsed": false
   },
   "source": [
    "# Python Iterators, List Comprehensions, and Generators\n",
    "\n",
    "Learning Objectives:\n",
    "* Students will learn basics of Python iterators.\n",
    "* Students will learn basics of Python list comprehensions.\n",
    "* Students will learn basics of Python generators.\n",
    "\n",
    "Readings before class:\n",
    "\n",
    "* Jake VanderPlas.  [A Whirlwind Tour of Python](https://github.com/jakevdp/WhirlwindTourOfPython) sections:\n",
    "  * [10 - Iterators](https://github.com/jakevdp/WhirlwindTourOfPython/blob/master/10-Iterators.ipynb)\n",
    "  * [11 - List Comprehensions](https://github.com/jakevdp/WhirlwindTourOfPython/blob/master/11-List-Comprehensions.ipynb)\n",
    "  * [12 - Generators](https://github.com/jakevdp/WhirlwindTourOfPython/blob/master/12-Generators.ipynb)\n",
    "* Allen B. Downey.  [Think Python 2e](https://greenteapress.com/wp/think-python-2e/):\n",
    "  * [Iterator examples in sections 12.5 and 12.6](http://greenteapress.com/thinkpython2/html/thinkpython2013.html#sec145) _Focus on the mentions of practical iterator examples from ```zip``` that iterates through parallel sequences, to dictionary ```items``` that allows you to iterate through key-value pairs._\n",
    "  * [Sections 19.3-19.3  List Comprehensions and Generator Expressions](http://greenteapress.com/thinkpython2/html/thinkpython2020.html#sec224)\n",
    "\n",
    "Activities before class:\n",
    "* Read below up to (but not including) the section marked Homework.  You are encouraged to add code blocks and play with the forms to gain understanding and comfort with them.\n",
    "\n",
    "In class:\n",
    "* We will work together in class on the section labeled \"In Class\"\n",
    "\n",
    "Homework after class:\n",
    "* Complete the section labeled \"Homework\" below before the next class when it will be collected."
   ]
  },
  {
   "cell_type": "markdown",
   "metadata": {
    "collapsed": false
   },
   "source": [
    "## Python Iterators"
   ]
  },
  {
   "cell_type": "markdown",
   "metadata": {
    "collapsed": false
   },
   "source": [
    "An _iterator_ is a Python object that serves up successive value through a ```next()``` function.  It is the basis for how a ```for``` `____` ```in``` `____:` loop works.  Consider the iterator ```range(3)``` in the loop below."
   ]
  },
  {
   "cell_type": "code",
   "execution_count": 1,
   "metadata": {
    "collapsed": false
   },
   "outputs": [
    {
     "name": "stdout",
     "output_type": "stream",
     "text": [
      "Iteration i = 0\n",
      "Iteration i = 1\n",
      "Iteration i = 2\n"
     ]
    }
   ],
   "source": [
    "for i in range(3):\n",
    "    print('Iteration i =', i)"
   ]
  },
  {
   "cell_type": "markdown",
   "metadata": {
    "collapsed": false
   },
   "source": [
    "How can we tell if something is an iterator?  In Python, it is an _instance_ of a general superset of many object types called ```collections.Iterable```.  If we wanted to test whether something could come after the ```in``` in our ```for``` loop, we could check this way:"
   ]
  },
  {
   "cell_type": "code",
   "execution_count": 2,
   "metadata": {
    "collapsed": false
   },
   "outputs": [
    {
     "name": "stdout",
     "output_type": "stream",
     "text": [
      "True\n"
     ]
    }
   ],
   "source": [
    "from collections.abc import Iterable\n",
    "print(isinstance(range(3), Iterable))"
   ]
  },
  {
   "cell_type": "markdown",
   "metadata": {
    "collapsed": false
   },
   "source": [
    "And if we wanted to get at the ```next``` function to request individual next items as we wish?  We call function ```iter()``` on an iterator. "
   ]
  },
  {
   "cell_type": "code",
   "execution_count": 3,
   "metadata": {
    "collapsed": false
   },
   "outputs": [
    {
     "name": "stdout",
     "output_type": "stream",
     "text": [
      "<class 'range_iterator'>\n",
      "0\n",
      "1\n",
      "2\n",
      "No more iterations!\n"
     ]
    }
   ],
   "source": [
    "my_iterator = iter(range(3))  # The for loop calls iter() on an Iterable to get at the iterator interface that allows us to call next() on it.\n",
    "print(type(my_iterator))   # type of range iterator\n",
    "print(next(my_iterator))   # Iteration value 0\n",
    "print(next(my_iterator))   # Iteration value 1\n",
    "print(next(my_iterator))   # Iteration value 2\n",
    "try:\n",
    "    print(next(my_iterator))\n",
    "except:\n",
    "    print('No more iterations!')"
   ]
  },
  {
   "cell_type": "markdown",
   "metadata": {
    "collapsed": false
   },
   "source": [
    "So behind the scenes, the ```for i in range(3):``` does the following:\n",
    "1. Calls ```iter(range(3))``` to get the ```Iterable``` object's iterator interface\n",
    "2. Assigns i to ```next()``` called on that iterator\n",
    "3. Executes the code block after the colon\n",
    "4. Repeats steps 2 and 3 until ```next()``` causes a ```StopIteration``` exception and exits the underlying loop\n",
    "\n",
    "Thus, when we iterate through a list object with ```for```, we find that a list is an ```Iterable``` and can supply an iterator to offer up successive values:"
   ]
  },
  {
   "cell_type": "code",
   "execution_count": 4,
   "metadata": {
    "collapsed": false
   },
   "outputs": [
    {
     "name": "stdout",
     "output_type": "stream",
     "text": [
      "A\n",
      "B\n",
      "C\n",
      "A\n",
      "B\n",
      "C\n"
     ]
    }
   ],
   "source": [
    "l = ['A', 'B', 'C']\n",
    "\n",
    "# So this loop ...\n",
    "for ch in l:\n",
    "    print(ch)\n",
    "\n",
    "# ... works roughly like this:\n",
    "iterator = iter(l)\n",
    "while True:\n",
    "    try:\n",
    "        ch = next(iterator)\n",
    "    except:\n",
    "        break\n",
    "    print(ch)"
   ]
  },
  {
   "cell_type": "markdown",
   "metadata": {
    "collapsed": false
   },
   "source": [
    "In the reading assignments listed above, take special note of the many useful iterators that exist in Python.  Here are brief examples more fully explained in our readings:"
   ]
  },
  {
   "cell_type": "code",
   "execution_count": 5,
   "metadata": {
    "collapsed": false
   },
   "outputs": [
    {
     "name": "stdout",
     "output_type": "stream",
     "text": [
      "index 0 has value A\n",
      "index 1 has value B\n",
      "index 2 has value C\n",
      "In the NATO phonetic alphabet, letter \"A\" is spoken as \"Alfa\".\n",
      "In the NATO phonetic alphabet, letter \"B\" is spoken as \"Bravo\".\n",
      "In the NATO phonetic alphabet, letter \"C\" is spoken as \"Charlie\".\n",
      "Note the dictionary we built using zip(): {'A': 'Alfa', 'B': 'Bravo', 'C': 'Charlie'}\n",
      "In the NATO phonetic alphabet, letter \"A\" is spoken as \"Alfa\".\n",
      "In the NATO phonetic alphabet, letter \"B\" is spoken as \"Bravo\".\n",
      "In the NATO phonetic alphabet, letter \"C\" is spoken as \"Charlie\".\n",
      "1\n",
      "2\n",
      "4\n",
      "8\n",
      "Bravo has a the letter \"r\".\n",
      "Charlie has a the letter \"r\".\n"
     ]
    }
   ],
   "source": [
    "# enumerate() returns tuple pairs of index and the Iterable values:\n",
    "\n",
    "for i, val in enumerate(l):\n",
    "    print('index', i, 'has value', val)\n",
    "\n",
    "# zip() can take two or more parallel lists and allow us to iterate through parallel values:\n",
    "\n",
    "l_phonetic = ['Alfa', 'Bravo', 'Charlie']\n",
    "phonetic_dict = {}\n",
    "for letter, phonetic in zip(l, l_phonetic):\n",
    "    print('In the NATO phonetic alphabet, letter \"{}\" is spoken as \"{}\".'.format(letter, phonetic))\n",
    "    phonetic_dict[letter] = phonetic\n",
    "print('Note the dictionary we built using zip():', phonetic_dict)\n",
    "\n",
    "# Calling .item() on dictionaries returns an iterator that provides key-value pair tuples:\n",
    "\n",
    "for letter, phonetic in phonetic_dict.items():\n",
    "    print('In the NATO phonetic alphabet, letter \"{}\" is spoken as \"{}\".'.format(letter, phonetic))\n",
    "\n",
    "# map() takes a function and an Iterable and returns an Iterable that provides function outputs for each of the source Iterable values:\n",
    "\n",
    "two_to_the = lambda x: 2 ** x\n",
    "for val in map(two_to_the, range(4)):\n",
    "    print(val)\n",
    "\n",
    "# filter() takes a Boolean filter function and an Iterable and returns an Iterable that provides onto those source Iterable values that return True from the filter function:\n",
    "\n",
    "r_in_word = lambda word: 'r' in word\n",
    "for word in filter(r_in_word, l_phonetic):\n",
    "    print(word, 'has a the letter \"r\".')"
   ]
  },
  {
   "cell_type": "markdown",
   "metadata": {
    "collapsed": false
   },
   "source": [
    "## Python List Comprehensions\n",
    "\n",
    "A list comprehension is an expression that creates a new list in place with a syntax similar to a simple ```for ____ in ____``` loop.  Observe the equivalence of the following list results to induce how the list comprehension works."
   ]
  },
  {
   "cell_type": "code",
   "execution_count": 6,
   "metadata": {
    "collapsed": false
   },
   "outputs": [
    {
     "name": "stdout",
     "output_type": "stream",
     "text": [
      "[0, 1, 2, 3, 4]\n",
      "[0, 1, 2, 3, 4]\n",
      "[0, 1, 4, 9, 16]\n",
      "[0, 1, 4, 9, 16]\n",
      "[0, 4, 16]\n",
      "[0, 4, 16]\n",
      "[0, 4, 16]\n"
     ]
    }
   ],
   "source": [
    "l = list(range(5))\n",
    "print(l)\n",
    "l = [i for i in range(5)]\n",
    "print(l)  # equivalent result from list comprehension\n",
    "\n",
    "l2 = list(map(lambda x: x * x, l))\n",
    "print(l2)\n",
    "l2 = [i * i for i in l]\n",
    "print(l2)  # equivalent result from list comprehension\n",
    "\n",
    "is_even = lambda i: i % 2 == 0\n",
    "l3 = list(filter(is_even, l2))\n",
    "print(l3)\n",
    "l3 = [i for i in l2 if is_even(i)]\n",
    "print(l3)  # equivalent result from list comprehension\n",
    "l3 = [i * i for i in range(5) if is_even(i * i)]\n",
    "print(l3)  # equivalent result from list comprehension\n"
   ]
  },
  {
   "cell_type": "markdown",
   "metadata": {
    "collapsed": false
   },
   "source": [
    "As you can see, a list comprehension often has the form ```[``` _list-value_ ```for``` _loop-control-variable_ ```in``` _Iterable_ ```if``` _filter-condition_ ```]```.\n",
    "\n",
    "We can add additional ```for``` clauses for multiple iteration:"
   ]
  },
  {
   "cell_type": "code",
   "execution_count": 7,
   "metadata": {
    "collapsed": false
   },
   "outputs": [
    {
     "name": "stdout",
     "output_type": "stream",
     "text": [
      "[('A', 1), ('A', 2), ('A', 3), ('B', 1), ('B', 2), ('B', 3), ('C', 1), ('C', 2), ('C', 3)]\n"
     ]
    }
   ],
   "source": [
    "l1 = ['A', 'B', 'C']\n",
    "l2 = [1, 2, 3]\n",
    "print([(ch, i) for ch in l1 for i in l2])"
   ]
  },
  {
   "cell_type": "markdown",
   "metadata": {
    "collapsed": false
   },
   "source": [
    "The surrounding square braces indicate that we're creating a list, but we can also create sets and dictionaries this way as well using curly brace and key-value-pair colon syntax:"
   ]
  },
  {
   "cell_type": "code",
   "execution_count": 8,
   "metadata": {
    "collapsed": false
   },
   "outputs": [
    {
     "name": "stdout",
     "output_type": "stream",
     "text": [
      "{0, 1, 64, 4, 36, 9, 16, 49, 81, 25}\n",
      "{0: 0, 1: 1, 2: 4, 3: 9, 4: 16, 5: 25, 6: 36, 7: 49, 8: 64, 9: 81}\n"
     ]
    }
   ],
   "source": [
    "squares = {i * i for i in range(10)}\n",
    "print(squares)  # recall that sets are unordered\n",
    "\n",
    "squares_dict = {i: i * i for i in range(10)}\n",
    "print(squares_dict)"
   ]
  },
  {
   "cell_type": "markdown",
   "metadata": {
    "collapsed": false
   },
   "source": [
    "Now for a bit of mathematical fun for an additional example of list comprehensions.  See if you can follow what's going on given that the '+' operator concatenates two lists."
   ]
  },
  {
   "cell_type": "code",
   "execution_count": 9,
   "metadata": {
    "collapsed": false
   },
   "outputs": [
    {
     "name": "stdout",
     "output_type": "stream",
     "text": [
      "[1]\n",
      "[1, 1]\n",
      "[1, 2, 1]\n",
      "[1, 3, 3, 1]\n",
      "[1, 4, 6, 4, 1]\n",
      "[1, 5, 10, 10, 5, 1]\n",
      "[1, 6, 15, 20, 15, 6, 1]\n",
      "[1, 7, 21, 35, 35, 21, 7, 1]\n",
      "[1, 8, 28, 56, 70, 56, 28, 8, 1]\n",
      "[1, 9, 36, 84, 126, 126, 84, 36, 9, 1]\n"
     ]
    }
   ],
   "source": [
    "def next_pascal_row(row):\n",
    "    return [i + j for i, j in zip([0] + row, row + [0])]\n",
    "\n",
    "row = [1]\n",
    "for i in range(10):\n",
    "    print(row)\n",
    "    row = next_pascal_row(row)"
   ]
  },
  {
   "cell_type": "markdown",
   "metadata": {
    "collapsed": false
   },
   "source": [
    "The if-else expression in Python has a syntax _true-case-expression_ ```if``` _condition_ ```else``` _false-case-expression_.  This expression evaluates to the  _true-case-expression_ if the _condition_ is ```True``` or else it evaluates to the _false-case-expression_."
   ]
  },
  {
   "cell_type": "code",
   "execution_count": 10,
   "metadata": {
    "collapsed": false
   },
   "outputs": [
    {
     "name": "stdout",
     "output_type": "stream",
     "text": [
      "[1, 10, 45, 120, 210, 252, 210, 120, 45, 10, 1]\n",
      "['odd', 'even', 'odd', 'even', 'even', 'even', 'even', 'even', 'odd', 'even', 'odd']\n"
     ]
    }
   ],
   "source": [
    "even_or_odd = lambda x: 'even' if x % 2 == 0 else 'odd'\n",
    "print(row)\n",
    "print(list(map(even_or_odd, row)))"
   ]
  },
  {
   "cell_type": "markdown",
   "metadata": {
    "collapsed": false
   },
   "source": [
    "The ```next_pascal_row(row)``` function creates the next [Pascal's Triangle](https://en.wikipedia.org/wiki/Pascal%27s_triangle) row from the previous row.  Look what happens when we make string characters from each row based on whether the values or odd or even?   Have you seen this pattern before?"
   ]
  },
  {
   "cell_type": "code",
   "execution_count": 11,
   "metadata": {
    "collapsed": false,
    "scrolled": true
   },
   "outputs": [
    {
     "name": "stdout",
     "output_type": "stream",
     "text": [
      "#\n",
      "##\n",
      "#.#\n",
      "####\n",
      "#...#\n",
      "##..##\n",
      "#.#.#.#\n",
      "########\n",
      "#.......#\n",
      "##......##\n",
      "#.#.....#.#\n",
      "####....####\n",
      "#...#...#...#\n",
      "##..##..##..##\n",
      "#.#.#.#.#.#.#.#\n",
      "################\n",
      "#...............#\n",
      "##..............##\n",
      "#.#.............#.#\n",
      "####............####\n",
      "#...#...........#...#\n",
      "##..##..........##..##\n",
      "#.#.#.#.........#.#.#.#\n",
      "########........########\n",
      "#.......#.......#.......#\n",
      "##......##......##......##\n",
      "#.#.....#.#.....#.#.....#.#\n",
      "####....####....####....####\n",
      "#...#...#...#...#...#...#...#\n",
      "##..##..##..##..##..##..##..##\n",
      "#.#.#.#.#.#.#.#.#.#.#.#.#.#.#.#\n",
      "################################\n"
     ]
    }
   ],
   "source": [
    "row = [1]\n",
    "for i in range(32):\n",
    "    print(''.join(['#' if x % 2 != 0 else '.' for x in row]))\n",
    "    row = next_pascal_row(row)"
   ]
  },
  {
   "cell_type": "markdown",
   "metadata": {
    "collapsed": false
   },
   "source": [
    "## Python Generators\n",
    "\n",
    "A _generator_ looks like a list comprehension, but with an important difference: a generator is an iterator that doesn't create a list of values, but provides them on demand through the ```next()``` function.  Observe the difference:"
   ]
  },
  {
   "cell_type": "code",
   "execution_count": 12,
   "metadata": {
    "collapsed": false
   },
   "outputs": [
    {
     "name": "stdout",
     "output_type": "stream",
     "text": [
      "<class 'list'>\n",
      "[0, 1, 4, 9, 16, 25, 36, 49, 64, 81]\n",
      "<class 'generator'>\n",
      "<generator object <genexpr> at 0x7f6665913820>\n",
      "0\n",
      "1\n",
      "Starting loop...\n",
      "4\n",
      "9\n",
      "16\n",
      "25\n",
      "36\n",
      "49\n",
      "64\n",
      "81\n",
      "Starting loop...\n",
      "0\n",
      "1\n",
      "4\n",
      "9\n",
      "16\n",
      "25\n",
      "36\n",
      "49\n",
      "64\n",
      "81\n"
     ]
    }
   ],
   "source": [
    "l = [i * i for i in range(10)]\n",
    "print(type(l))\n",
    "print(l)\n",
    "\n",
    "g = (i * i for i in range(10))\n",
    "print(type(g))\n",
    "print(g)\n",
    "\n",
    "print(next(g))\n",
    "print(next(g))\n",
    "\n",
    "# Generator g saves its state so watch that it resumes providing values in a for loop:\n",
    "print('Starting loop...')\n",
    "for i in g:\n",
    "    print(i)\n",
    "\n",
    "# Now generator is \"used up\", raising a StopIteration exception if one calls next on it explicitly or implicitly (i.e. through use in a for-loop).\n",
    "# To iterate through the same values again, one needs to create a new generator:\n",
    "g = (i * i for i in range(10))\n",
    "print('Starting loop...')\n",
    "for i in g:\n",
    "    print(i)"
   ]
  },
  {
   "cell_type": "markdown",
   "metadata": {
    "collapsed": false
   },
   "source": [
    "A generator is helpful to save memory by producing values as needed, but if one wants to iterate through the values of a sequence many times and only generate them once, a list is better to use.  This is an example of a common time-versus-memory tradeoff in computing."
   ]
  },
  {
   "cell_type": "markdown",
   "metadata": {
    "collapsed": false
   },
   "source": [
    "We can also create _generator functions_ that continually ```yield``` return values on demand when we call them:"
   ]
  },
  {
   "cell_type": "code",
   "execution_count": 13,
   "metadata": {
    "collapsed": false
   },
   "outputs": [
    {
     "name": "stdout",
     "output_type": "stream",
     "text": [
      "0\n",
      "1\n",
      "1\n",
      "2\n",
      "3\n",
      "5\n",
      "8\n",
      "13\n",
      "21\n",
      "34\n"
     ]
    }
   ],
   "source": [
    "# Generate Fibonacci sequence values on demand:\n",
    "def fibonacci_gen():\n",
    "    current = 0\n",
    "    next = 1\n",
    "    while True:\n",
    "        yield current\n",
    "        current, next = (next, current + next)\n",
    "\n",
    "# Create the generator function object g:\n",
    "g = fibonacci_gen()\n",
    "\n",
    "# Print the first 10 Fibonacci sequence values using g:\n",
    "for i, val in enumerate(g):\n",
    "    if i == 10:\n",
    "        break\n",
    "    print(val)"
   ]
  },
  {
   "cell_type": "markdown",
   "metadata": {
    "collapsed": false
   },
   "source": [
    "# In Class\n",
    "\n",
    "## Iterators\n",
    "\n",
    "Perform the following iterator exercises together:"
   ]
  },
  {
   "cell_type": "code",
   "execution_count": 14,
   "metadata": {
    "collapsed": false,
    "scrolled": true
   },
   "outputs": [
    {
     "name": "stdout",
     "output_type": "stream",
     "text": [
      "<str_iterator object at 0x7f6665918a60>\n",
      "T\n",
      "e\n",
      "s\n",
      "t\n",
      "T\n",
      "e\n",
      "s\n",
      "t\n",
      "index 0 character T\n",
      "index 1 character e\n",
      "index 2 character s\n",
      "index 3 character t\n",
      "{0: 'zero', 1: 'one', 2: 'two', 3: 'three', 4: 'four', 5: 'five', 6: 'six', 7: 'seven', 8: 'eight', 9: 'nine'}\n",
      "{'zero': 0, 'one': 1, 'two': 2, 'three': 3, 'four': 4, 'five': 5, 'six': 6, 'seven': 7, 'eight': 8, 'nine': 9}\n",
      "1\n",
      "7\n",
      "3\n",
      "2\n",
      "5\n",
      "x values: [0.0, 0.5, 1.0]\n",
      "1.0\n",
      "2.25\n",
      "4.0\n"
     ]
    }
   ],
   "source": [
    "# Show that iter() called on a string 'Test' returns a type that a for loop can iterate through:\n",
    "\n",
    "\n",
    "\n",
    "# Use a for loop to iterate through a string 'Test' and print each character on a different line:\n",
    "\n",
    "\n",
    "\n",
    "# Rewrite your loop as an equivalent while True loop using an iterator as shown above with try-except:\n",
    "\n",
    "\n",
    "\n",
    "# Use enumerate() with 'Test' to print successive lines with 'index ___ character ___', e.g. 'index 0 character T':\n",
    "\n",
    "\n",
    "\n",
    "# Use zip() with predefined lists 'digits' and 'digit_names' to build a dictionary called 'digit_dict' that maps digits to digit names (e.g. 0 to 'zero'):\n",
    "digits = list(range(10))\n",
    "digit_names = ['zero', 'one', 'two', 'three', 'four', 'five', 'six', 'seven', 'eight', 'nine']\n",
    "\n",
    "\n",
    "\n",
    "# Use .item() on 'digit_dict' to read through key-value pairs of 'digit_dict' and build a dictionary called 'digit_name_dict' that does a reverse mapping (e.g. 'zero' to 0):\n",
    "\n",
    "\n",
    "\n",
    "# Create a lambda function 'is_digit_name' that returns True if and only if a string is in the keys of 'digit_name_dict'.  Use the 'in' operator to check for membership in digit_name_dict.keys():\n",
    "words = 'cat one dog bird seven three fish two five snek'.split()\n",
    "\n",
    "\n",
    "\n",
    "# Use filter() with your filter function 'is_digit_name()' to create a list of digit name words to iterate through in a for loop.  Within the for loop, use the previous 'digit_name_dict' to print each corresponding digit on separate lines:\n",
    "\n",
    "\n",
    "\n",
    "# Create a lambda function 'poly' that takes value x and returns x^2 + 2*x + 1.  Use map of on the list of x-values below in a for loop to print successive output values on separate lines:\n",
    "import numpy as np\n",
    "x = list(np.linspace(0.0, 1.0, 3))\n",
    "print('x values:', x)\n",
    "\n"
   ]
  },
  {
   "cell_type": "markdown",
   "metadata": {
    "collapsed": false
   },
   "source": [
    "## List Comprehensions\n",
    "\n",
    "Perform the following list comprehension exercises together:"
   ]
  },
  {
   "cell_type": "code",
   "execution_count": 15,
   "metadata": {
    "collapsed": false
   },
   "outputs": [
    {
     "name": "stdout",
     "output_type": "stream",
     "text": [
      "[3, 1, 4, 1, 5, 9, 2, 6]\n",
      "[3, 1, 4, 1, 5, 9, 2, 6]\n",
      "[3, 1, 1, 5, 9]\n",
      "{1, 3, 5, 9}\n",
      "{3: 27, -1: -1, 4: 64, 1: 1, -5: -125, 9: 729, -2: -8, -6: -216}\n"
     ]
    }
   ],
   "source": [
    "# Create a lambda function 'my_abs' that computes the absolute value of the numeric input without using the 'abs' function.  Hint: Use an if-else expression.\n",
    "\n",
    "\n",
    "\n",
    "# This demonstrates how one can use map to take a list of numbers and return a new list with their absolute values:\n",
    "l = [3, -1, 4, 1, -5, 9, -2, -6]\n",
    "l_abs = list(map(my_abs, l))\n",
    "print(l_abs)\n",
    "\n",
    "# Now create and print an equivalent l_abs list using a list comprehension\n",
    "\n",
    "\n",
    "\n",
    "# Now use a more complex single list comprehension that takes list 'l' and creates and prints a list of absolute values from the list that are odd:\n",
    "\n",
    "\n",
    "\n",
    "# Create and print a _set_ of the same values computed similarly directly from list 'l' using a set comprehension:\n",
    "\n",
    "\n",
    "\n",
    "# Create and print a dictionary mapping the values of l to their cubes using a dictionary comprehension.\n",
    "\n"
   ]
  },
  {
   "cell_type": "markdown",
   "metadata": {
    "collapsed": false
   },
   "source": [
    "## Generators\n",
    "\n",
    "Perform the following iterators exercises together:"
   ]
  },
  {
   "cell_type": "code",
   "execution_count": 16,
   "metadata": {
    "collapsed": false
   },
   "outputs": [
    {
     "name": "stdout",
     "output_type": "stream",
     "text": [
      "T\n",
      "e\n",
      "T\n",
      "e\n",
      "0\n",
      "1\n",
      "3\n",
      "6\n",
      "10\n",
      "15\n",
      "21\n",
      "28\n",
      "36\n",
      "45\n"
     ]
    }
   ],
   "source": [
    "# Here's a list comprehension that returns individual characters of a string 'Test'\n",
    "chars = [ch for ch in 'Test']\n",
    "char_iterator = iter(chars)\n",
    "print(next(char_iterator))\n",
    "print(next(char_iterator))\n",
    "\n",
    "# A generator, by contrast, uses the same effective instructions, but doesn't create a list of all of the values, providing an iterator that produces values on demand.  Do the same as above, but with a generator char_gen instead of a list comprehension:\n",
    "\n",
    "\n",
    "\n",
    "# Create a \"triangular numbers\"(https://en.wikipedia.org/wiki/Triangular_number) generator function 'triangular_gen' that first returns 0, then 0 + 1, then 0 + 1 + 2, etc., without limit by yielding an internal sum while incrementing the value that is successively added to that sum. Print the first 10 values generated by triangular_gen:\n",
    "\n"
   ]
  },
  {
   "cell_type": "markdown",
   "metadata": {
    "collapsed": false
   },
   "source": [
    "# Homework"
   ]
  },
  {
   "cell_type": "markdown",
   "metadata": {
    "collapsed": false
   },
   "source": [
    "(1) Complete any in-class exercises you did not complete in class."
   ]
  },
  {
   "cell_type": "markdown",
   "metadata": {
    "collapsed": false
   },
   "source": [
    "(2) Do the following:\n",
    "* Use a list comprehension to create and print a list ```xs``` of the integers from -10 to 10.\n",
    "* Use a list comprehension to create and print a list ```ys``` that contains $y = x^3 - 3 * x^2 + 3 * x - 1$ for each corresponding value $x$ of ```xs```.\n",
    "* Use a dictionary comprehension to create and print a dictionary ```f``` that associates $x$ values to their respective $y$ values using lists ```xs``` and ```ys``` and the ```zip()``` function.\n",
    "* Use the ```items()``` function on ```f``` in a for loop that prints out lines of the form _x-value_ ```-->``` _y-value_ for each _x-value_ key and _y-value_ value of a key-value pair."
   ]
  },
  {
   "cell_type": "code",
   "execution_count": 17,
   "metadata": {
    "collapsed": false
   },
   "outputs": [
    {
     "name": "stdout",
     "output_type": "stream",
     "text": [
      "[-10, -9, -8, -7, -6, -5, -4, -3, -2, -1, 0, 1, 2, 3, 4, 5, 6, 7, 8, 9, 10]\n",
      "[-1331, -1000, -729, -512, -343, -216, -125, -64, -27, -8, -1, 0, 1, 8, 27, 64, 125, 216, 343, 512, 729]\n",
      "{-10: -1331, -9: -1000, -8: -729, -7: -512, -6: -343, -5: -216, -4: -125, -3: -64, -2: -27, -1: -8, 0: -1, 1: 0, 2: 1, 3: 8, 4: 27, 5: 64, 6: 125, 7: 216, 8: 343, 9: 512, 10: 729}\n",
      "-10 --> -1331\n",
      "-9 --> -1000\n",
      "-8 --> -729\n",
      "-7 --> -512\n",
      "-6 --> -343\n",
      "-5 --> -216\n",
      "-4 --> -125\n",
      "-3 --> -64\n",
      "-2 --> -27\n",
      "-1 --> -8\n",
      "0 --> -1\n",
      "1 --> 0\n",
      "2 --> 1\n",
      "3 --> 8\n",
      "4 --> 27\n",
      "5 --> 64\n",
      "6 --> 125\n",
      "7 --> 216\n",
      "8 --> 343\n",
      "9 --> 512\n",
      "10 --> 729\n"
     ]
    }
   ],
   "source": [
   ]
  },
  {
   "cell_type": "markdown",
   "metadata": {
    "collapsed": false
   },
   "source": [
    "(3) Create a generator function `factorial_gen` that indefinitely generates factorial values $0!, 1!, 2!, 3!, \\ldots$ on demand.  Create a loop that prints out the first 10 values generated on separate lines.  Only one multiplication and one addition should occur per value generated."
   ]
  },
  {
   "cell_type": "code",
   "execution_count": 18,
   "metadata": {
    "collapsed": false
   },
   "outputs": [
    {
     "name": "stdout",
     "output_type": "stream",
     "text": [
      "1\n",
      "1\n",
      "2\n",
      "6\n",
      "24\n",
      "120\n",
      "720\n",
      "5040\n",
      "40320\n",
      "362880\n"
     ]
    }
   ],
   "source": [
   ]
  },
  {
   "cell_type": "markdown",
   "metadata": {
    "collapsed": false
   },
   "source": [
    "(end of homework)"
   ]
  }
 ],
 "metadata": {
  "kernelspec": {
   "display_name": "Python 3 (system-wide)",
   "language": "python",
   "metadata": {
    "cocalc": {
     "description": "Python 3 programming language",
     "priority": 100,
     "url": "https://www.python.org/"
    }
   },
   "name": "python3"
  },
  "language_info": {
   "codemirror_mode": {
    "name": "ipython",
    "version": 3
   },
   "file_extension": ".py",
   "mimetype": "text/x-python",
   "name": "python",
   "nbconvert_exporter": "python",
   "pygments_lexer": "ipython3",
   "version": "3.8.2"
  }
 },
 "nbformat": 4,
 "nbformat_minor": 4
}