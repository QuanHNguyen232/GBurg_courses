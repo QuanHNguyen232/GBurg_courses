{
 "cells": [
  {
   "cell_type": "markdown",
   "metadata": {
    "collapsed": false
   },
   "source": [
    "# Machine Learning: Choose Your Own Adventure\n",
    "\n",
    "Learning Objectives:\n",
    "* Students will learn about a machine learning algorithm of their choice from a list of choices.\n",
    "* Students will gain experience seeking out and developing quality learning resources and examples for independent learning.\n",
    "* Students will devise and execute in-class and homework exercises to facilitate experiential learning for themselves and others.\n",
    "\n",
    "There are a number of Machine Learning topics that could be done for this assignment, and I could have put together a lesson for one of them here, but I reflected that a valuable objective at this point is to provide space and time for you to exercise your independent learning skills putting together a lesson for yourself (and a demonstration for others).  A Data Scientist will often need to gain knowledge of a new technique independently.  Thus, this assignment will, like other lessons, have three components (summarized here and described in more detail below):\n",
    "\n",
    "1. Before class: Put together a list of best resources for learning the material (e.g. readings, videos, etc.) of your chosen ML algorithm, summarize the algorithm, and demonstrate its usage.\n",
    "2. In class: Present your summary and usage demonstration briefly (~5 minutes), and provide a ~15 minute exercise to work through together with your breakout group.\n",
    "3. After class: Create additional homework exercises for yourself to be completed before the following class.\n",
    "\n",
    "## Choose your Machine Learning Algorithm\n",
    "\n",
    "Choose an algorithm corresponding to **only one** of the following VanderPlas sections of [Chapter 5: Machine Learning](https://jakevdp.github.io/PythonDataScienceHandbook/05.00-machine-learning.html):\n",
    "* [In Depth: Naive Bayes Classification](https://jakevdp.github.io/PythonDataScienceHandbook/05.05-naive-bayes.html)\n",
    "* [In-Depth: Support Vector Machines](https://jakevdp.github.io/PythonDataScienceHandbook/05.07-support-vector-machines.html)\n",
    "* [In Depth: Gaussian Mixture Models](https://jakevdp.github.io/PythonDataScienceHandbook/05.12-gaussian-mixtures.html)\n",
    "* [In-Depth: Kernel Density Estimation](https://jakevdp.github.io/PythonDataScienceHandbook/05.13-kernel-density-estimation.html)\n",
    "\n",
    "\n",
    "Video/Readings before class:\n",
    "* _(Copy your topic here)_:\n",
    "  * Jake VanderPlas. [Python Data Science Handbook](https://jakevdp.github.io/PythonDataScienceHandbook/):\n",
    "      * _(Copy the reading link you chose above here.)_\n",
    "  * _(Insert at least one good non-video tutorial reading here.)_\n",
    "  * _(Insert at least one good video tutorial on the topic here.)_\n",
    "\n",
    "\n",
    "For reference:\n",
    "  * _(Insert link(s) to the relevant Python documentation page(s) relevant to your examples below.)_\n",
    "\n",
    "Before class:\n",
    "* View/read the above resources so as to understand how your algorithm works.  Below, you will demonstrate it.\n",
    "\n",
    "In class:\n",
    "* You will work together with your breakout room group on a 15-minute exercise you create in section \"In Class\".\n",
    "\n",
    "Homework after class:\n",
    "* Create and complete the section labeled \"Homework\" below before the next class when it will be collected.\n"
   ]
  },
  {
   "cell_type": "code",
   "execution_count": 116,
   "metadata": {
    "collapsed": false
   },
   "outputs": [
   ],
   "source": [
    "# Imports - place your relevant imports here\n",
    "\n"
   ]
  },
  {
   "cell_type": "markdown",
   "metadata": {
    "collapsed": false
   },
   "source": [
    "In the following section,\n",
    "\n",
    "* **provide a summary description (in your own words) of the main concepts relevant to your topic**.  What terminology is key to its understanding?  As you look at the various readings/videos you have curated, do you notice a common pattern to the flow of descriptions and ordering of definitions?  What does your reader need to know to gain a high-level understanding of your topic?\n",
    "\n",
    "* **Place your topic in context.**  Is it a classification algorithm, a regression algorithm, a clustering algorithm, or something else?  How does it compare to past topics?\n",
    "\n",
    "* **Provide worked examples of the use of your algorithm in Python.**  What do others need to know to successfully apply your algorithm?  It is not necessary to provide details of every possible algorithm parameter, but do cover the most important, commonly-used parameters.\n",
    "\n",
    "# _(Insert your topic title here)_\n",
    "\n",
    "_(Begin your summary description and examples here.)_"
   ]
  },
  {
   "cell_type": "markdown",
   "metadata": {
    "collapsed": false
   },
   "source": [
    "In your \"In Class\" section below, create an approximately 15-minute exercise for your breakout room group to work through.  In class, you will provide a 5-minute overview of your summary and example above.  This exercise should be sufficiently different from your example above (otherwise, it will be a 2-minute copy-paste example).  You can include any necessary data in the same folder as this Jupyter notebook.\n",
    "\n",
    "Obviously, you should work through the example on your own although it would be good to keep the solution separate from this page. (You can, for example, keep a separate Jupyter notebook in this same folder for working through the example.)\n",
    "\n",
    "You'll be screen-sharing with your group, and will have your group members dictate the steps for working through the exercise.  If they are stuck, you can provide hints, of course, but leave some exercise for comprehension.  Feel free to email your .ipynb notebook to your group members (along with any necessary supporting files), if you believe this work make the collaborative work better.  _Warning: If your group members upload your notebook, have them take care not to overwrite their own!_\n",
    "\n",
    "Tip: It can be interesting to see how your technique compares to relevant techniques we have covered thus far.  This exercise could, for example, involve the application to a specific dataset that illustrates a strength/weakness of the algorithm compared to other algorithms of the same problem type.\n",
    "\n",
    "# In Class\n",
    "\n",
    "_(Insert your in-class exercise(s) starting here.)_"
   ]
  },
  {
   "cell_type": "markdown",
   "metadata": {
    "collapsed": false
   },
   "source": [
    "In your homework section, create a few exercises for you to work through to gain a greater depth of experiential learning.  This is your opportunity to go deeper and gain a better grasp of the successful application of the algorithm to different problem domains or experimenting with different parameters.  Make a substantial effort, and document it in a homework question/answer format.\n",
    "\n",
    "# Homework\n",
    "\n",
    "_(Insert your homework exercises and solutions below.)_"
   ]
  },
  {
   "cell_type": "markdown",
   "metadata": {
    "collapsed": false
   },
   "source": [
    "(end of homework)"
   ]
  }
 ],
 "metadata": {
  "kernelspec": {
   "display_name": "Python 3 (system-wide)",
   "language": "python",
   "metadata": {
    "cocalc": {
     "description": "Python 3 programming language",
     "priority": 100,
     "url": "https://www.python.org/"
    }
   },
   "name": "python3"
  },
  "language_info": {
   "codemirror_mode": {
    "name": "ipython",
    "version": 3
   },
   "file_extension": ".py",
   "mimetype": "text/x-python",
   "name": "python",
   "nbconvert_exporter": "python",
   "pygments_lexer": "ipython3",
   "version": "3.8.5"
  }
 },
 "nbformat": 4,
 "nbformat_minor": 4
}