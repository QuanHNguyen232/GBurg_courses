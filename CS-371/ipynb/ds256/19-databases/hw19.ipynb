{
 "cells": [
  {
   "cell_type": "markdown",
   "metadata": {
    "collapsed": false
   },
   "source": [
    "# SQL Database Work from Python and Pandas\n",
    "\n",
    "Learning Objectives:\n",
    "* Students will how to configure, start, and stop a PostgreSQL server on CoCalc.\n",
    "* Students will learn how to create new databases, and how pandas DataFrame objects can be written to and read from database tables.\n",
    "* Students will observe and form common SQL queries for selecting results and joining tables.\n",
    "\n",
    "Video segments before class:\n",
    "* Segments of [Mike Dane's freeCodeCamp.org SQL Tutorial](https://www.youtube.com/watch?v=HXV3zeQKqGY):\n",
    "  * [SQL Basics: 43:31-52:25](https://youtu.be/HXV3zeQKqGY?t=2611)\n",
    "  * [Basic Queries: 1:56:11-2:08:36](https://www.youtube.com/watch?v=HXV3zeQKqGY&t=6971s)\n",
    "\n",
    "Before class:\n",
    "* Read execute and study the notebook contents up to the \"In Class\" section.\n",
    "* Make sure that you have correctly configured PostgreSQL and that the examples work in your virtual machine before class.\n",
    "\n",
    "In class:\n",
    "* We will work together on the exercises in section \"In Class\".\n",
    "\n",
    "Homework after class:\n",
    "* Complete the section labeled \"Homework\" below before the next class when it will be collected.\n"
   ]
  },
  {
   "cell_type": "code",
   "execution_count": 1,
   "metadata": {
    "collapsed": false
   },
   "outputs": [
   ],
   "source": [
    "# Imports\n",
    "\n",
    "import numpy as np\n",
    "import pandas as pd\n",
    "import psycopg2\n",
    "from psycopg2 import sql\n",
    "from psycopg2.extensions import ISOLATION_LEVEL_AUTOCOMMIT\n",
    "from sqlalchemy import create_engine\n"
   ]
  },
  {
   "cell_type": "markdown",
   "metadata": {
    "collapsed": false
   },
   "source": [
    "# PostgreSQL\n",
    "\n",
    "[SQL (Structured Query Language)](https://en.wikipedia.org/wiki/SQL), pronounced \"**s**e**q**ue**l**\", refers to a family of similar relational database query languages.  Think of a database as a collection of persistent tables in memory allowing concurrent, distributed access, querying, and modification.  Indeed, you have already had a hint of what it is like to work with databases, as DataFrames, with their concat, append, merge, join, aggregation, and grouping operations, are similar in many ways similar to database tables.  Even the names of DataFrame operations, like inner and outer join, originate from relational database operations.\n",
    "\n",
    "So why is it important to learn about database interactions as a Data Scientist?  The simple answer is that databases are the primary source of large structured information in business.  It would be common for Data Scientists to draw their data from database sources.  It is also often more efficient to perform queries on the database side (using some SQL variant) and only create DataFrames with data of interest, as opposed to loading entire massive, complex tables into DataFrames and filtering or processing the data afterwards.\n",
    "\n",
    "[PostgreSQL](https://www.postgresql.org/), a.k.a. \"Postgres\", is one of the most popular free and [open source](https://en.wikipedia.org/wiki/Open_source) relational database management systems.  It also happens to be installed in your CoCalc virtual machine.  In this lesson, we will not attempt to teach the contents of a database _course_.  Rather thing of this as a starting point of reference for initial exposure with encouragement and resources for further learning.\n",
    "\n",
    "SQL-type languages, and query languages in general, are far less expressive than general-purpose programming languages.  They are focused on efficient manipulation of tabular data."
   ]
  },
  {
   "cell_type": "markdown",
   "metadata": {
    "collapsed": false
   },
   "source": [
    "## CoCalc PostgreSQL Configuration and Workflow\n",
    "\n",
    "Configuration of PostgreSQL only happens once.  Follow the instructions of [\"Step 1: Setup\"](https://doc.cocalc.com/howto/postgresql.html#step-1-setup) in [\"PostgreSQL Server\"](https://doc.cocalc.com/howto/postgresql.html) only once. This will involve creating a Linux terminal window and copy-pasting the given setup commands.\n",
    "\n",
    "Before a session when you use PostgreSQL, you need to enter the first Step 2 command from this terminal window:"
   ]
  },
  {
   "cell_type": "raw",
   "metadata": {
    "collapsed": false
   },
   "source": [
    "pg_ctl -D postgres_data -l logfile -o \"-h ''\" start"
   ]
  },
  {
   "cell_type": "markdown",
   "metadata": {
    "collapsed": false
   },
   "source": [
    "After a session when you use PostgreSQL, you need to enter the Step 4 command from this terminal window:"
   ]
  },
  {
   "cell_type": "raw",
   "metadata": {
    "collapsed": false
   },
   "source": [
    "pg_ctl -D postgres_data stop"
   ]
  },
  {
   "cell_type": "markdown",
   "metadata": {
    "collapsed": false
   },
   "source": [
    "We will connect to the database via Python, so you will primarily use the terminal window to start and stop the database server.  Try both the start and stop commands above in your terminal window.  Then notice that you can find and enter a previous command _without re-entering it_ by using the up and down arrow keys to move to previous and next commands, respectively, in your command history.  You can simply hit enter to enter the command; your cursor need not be at the end of the line.  Practice starting and stopping the PostgreSQL server a couple times using only arrow keys and enter.\n",
    "\n",
    "Suffice it to say, it is worth [learning more about the ```bash``` shell](http://cs.gettysburg.edu/~tneller/dept/bash-tutorial.html) that runs in the terminal window as you have time beyond this course.  You can find many excellent free resources for ```bash``` learning at the bottom of our [\"Department of Computer Science ```Bash``` Tutorial\"](http://cs.gettysburg.edu/~tneller/dept/bash-tutorial.html).  (The tutorial itself is according to our department system file structure, not CoCalc's.  Even so, the tutorial can give you an idea of the most important ```bash``` commands to learn.)\n"
   ]
  },
  {
   "cell_type": "markdown",
   "metadata": {
    "collapsed": false
   },
   "source": [
    "## Connecting to the Database Server in Python\n",
    "\n",
    "Our connection with the PostgreSQL database server will be facilitated by the ```psycopg2``` library, imported above.  Initially, PostgreSQL contains a few initial databases.  Below we create a connection object ```conn```.  One needs to specify a ```dbname``` database name to make a connection.  We can create other databases as well, but our ability to connect depends on there being a database with which to initially connect.  We connect to database \"postgres\" with the specified CoCalc local host.  We next create a cursor object ```cur``` which you can think of as a pointer to a database row when we execute a query.\n",
    "\n",
    "Our first query, ```select datname from pg_database```, selects all database names in our PostgreSQL installation, and points to the first row of our results.  The ```fetchall``` returns all results as a list of row tuples."
   ]
  },
  {
   "cell_type": "code",
   "execution_count": 2,
   "metadata": {
    "collapsed": false
   },
   "outputs": [
    {
     "name": "stdout",
     "output_type": "stream",
     "text": [
      "Databases in our PostgreSQL installation:\n",
      "\t postgres\n",
      "\t template1\n",
      "\t template0\n"
     ]
    }
   ],
   "source": [
    "conn = psycopg2.connect('dbname=postgres host=/home/user/postgres_data')\n",
    "conn.set_isolation_level(ISOLATION_LEVEL_AUTOCOMMIT)\n",
    "cur = conn.cursor()\n",
    "cur.execute('drop database if exists all_work')\n",
    "cur.execute('drop database if exists df_store')\n",
    "cur.execute('select datname from pg_database')\n",
    "rows = cur.fetchall()\n",
    "print('Databases in our PostgreSQL installation:')\n",
    "for row in rows:\n",
    "    print('\\t', row[0])\n"
   ]
  },
  {
   "cell_type": "markdown",
   "metadata": {
    "collapsed": false
   },
   "source": [
    "## Creating a Database\n",
    "\n",
    "Having completed a connection to _a_ database, we can now create a new database.  We'll start by dropping (deleting) a database ```first_create``` if it already exists, and then we'll create it."
   ]
  },
  {
   "cell_type": "code",
   "execution_count": 3,
   "metadata": {
    "collapsed": false
   },
   "outputs": [
    {
     "name": "stdout",
     "output_type": "stream",
     "text": [
      "Databases in our PostgreSQL installation:\n",
      "\t postgres\n",
      "\t template1\n",
      "\t template0\n",
      "\t first_create\n"
     ]
    }
   ],
   "source": [
    "# Drop (delete) database 'first_create' if it exists\n",
    "cur.execute('drop database if exists first_create')\n",
    "\n",
    "# Create database 'first_create'\n",
    "cur.execute('create database first_create')\n",
    "\n",
    "# We now query to verify that our new database exists:\n",
    "cur.execute('select datname from pg_database')\n",
    "rows = cur.fetchall()\n",
    "print('Databases in our PostgreSQL installation:')\n",
    "for row in rows:\n",
    "    print('\\t', row[0])\n",
    "\n",
    "# Finally, we drop (delete) the database:\n",
    "cur.execute('drop database if exists first_create')\n"
   ]
  },
  {
   "cell_type": "markdown",
   "metadata": {
    "collapsed": false
   },
   "source": [
    "## From DataFrame to Database Table\n",
    "\n",
    "DataFrames make use the ```sqlalchemy``` module to directly export a DataFrame to a database table using function [to_sql](https://pandas.pydata.org/pandas-docs/stable/reference/api/pandas.DataFrame.to_sql.html). This module [supports PostgreSQL](https://docs.sqlalchemy.org/en/13/dialects/postgresql.html).\n",
    "\n",
    "_Note: Pandas DataFrames have many ```to_``` prefix functions, converting directly to json, Excel, HTML, LaTeX, markdown, etc._ "
   ]
  },
  {
   "cell_type": "code",
   "execution_count": 4,
   "metadata": {
    "collapsed": false
   },
   "outputs": [
    {
     "name": "stdout",
     "output_type": "stream",
     "text": [
      "df_test1\n",
      "    A   B   C\n",
      "0  A0  B0  C0\n",
      "1  A1  B1  C1\n",
      "2  A2  B2  C2\n"
     ]
    }
   ],
   "source": [
    "# From Jake VanderPlas PDSH, Ch. 3:\n",
    "def make_df(cols, ind):\n",
    "    \"\"\"Quickly make a DataFrame\"\"\"\n",
    "    data = {c: [str(c) + str(i) for i in ind]\n",
    "            for c in cols}\n",
    "    return pd.DataFrame(data, ind)\n",
    "\n",
    "# example DataFrame\n",
    "df_test1 = make_df('ABC', range(3))\n",
    "\n",
    "print('df_test1', df_test1, sep='\\n')\n",
    "\n",
    "try:\n",
    "    cur.execute('create database df_store')\n",
    "except Exception as ex:\n",
    "    print(ex)\n",
    "\n",
    "# See https://docs.sqlalchemy.org/en/13/dialects/postgresql.html#module-sqlalchemy.dialects.postgresql.psycopg2\n",
    "# General Unix syntax: create_engine(\"postgresql+psycopg2://user:password@/dbname?host=/var/lib/postgresql\")\n",
    "engine = create_engine(\"postgresql+psycopg2://user:@/df_store?host=/home/user/postgres_data\")\n",
    "with engine.connect() as connection:\n",
    "    try:\n",
    "        df_test1.to_sql('df_test1', connection)  # name of table, sqlalchemy connection object\n",
    "    except Exception as ex:\n",
    "        print(ex)\n"
   ]
  },
  {
   "cell_type": "markdown",
   "metadata": {
    "collapsed": false
   },
   "source": [
    "## From Database Query to DataFrame\n",
    "\n",
    "Similarly, Pandas DataFrames can be directly created from a database table using function [read_sql_table](https://pandas.pydata.org/pandas-docs/stable/reference/api/pandas.read_sql_table.html)."
   ]
  },
  {
   "cell_type": "code",
   "execution_count": 5,
   "metadata": {
    "collapsed": false
   },
   "outputs": [
    {
     "name": "stdout",
     "output_type": "stream",
     "text": [
      "df_test2\n",
      "    A   B   C\n",
      "0  A0  B0  C0\n",
      "1  A1  B1  C1\n",
      "2  A2  B2  C2\n"
     ]
    }
   ],
   "source": [
    "with engine.connect() as connection:\n",
    "    try:\n",
    "        df_test2 = pd.read_sql_table('df_test1', connection, index_col='index')  # name of table, sqlalchemy connection object\n",
    "        df_test2.index.name = None\n",
    "        print('df_test2', df_test2, sep='\\n')\n",
    "    except Exception as ex:\n",
    "        print(ex)\n",
    "\n",
    "try:\n",
    "    cur.execute('drop database if exists df_store')\n",
    "except Exception as ex:\n",
    "    print(ex)"
   ]
  },
  {
   "cell_type": "markdown",
   "metadata": {
    "collapsed": false
   },
   "source": [
    "## A Brief Demonstration of SQL\n",
    "\n",
    "The following example database comes from\n",
    "\n",
    "> Elmasri, Ramez. Shamkant Navathe. Fundamentals of Database Systems. 7th Edition. Pearson 2016. ISBN-10: 0-13-397077-0.\n",
    "\n",
    "with example queries supplied by Prof. Clifton G.M. Presser.\n",
    "\n",
    "We first create an example employee database if it doesn't already exist."
   ]
  },
  {
   "cell_type": "code",
   "execution_count": 0,
   "metadata": {
    "collapsed": false
   },
   "outputs": [
   ],
   "source": [
    "cur.execute('drop database if exists first_create')\n",
    "\n",
    "sql_database_setup = \"\"\"-- Create Employee database\n",
    "CREATE TABLE EMPLOYEE\n",
    "       (\n",
    "         FNAME  VARCHAR(15) NOT NULL,\n",
    "  \t MINIT  CHAR,\n",
    "\t LNAME  VARCHAR(15) NOT NULL,\n",
    "\t SSN  CHAR(9)  NOT NULL,\n",
    "\t BDATE DATE,\n",
    "  \t ADDRESS VARCHAR(30),\n",
    "  \t SEX  CHAR,\n",
    "  \t SALARY  DECIMAL(10,2),\n",
    "  \t SUPERSSN CHAR(9),\n",
    "  \t DNO  INT  NOT NULL,\n",
    "  \t PRIMARY KEY(SSN)\n",
    "       );\n",
    "\n",
    "CREATE TABLE DEPARTMENT\n",
    "       (\n",
    "         DNAME  VARCHAR(15) NOT NULL,\n",
    "  \t DNUMBER INT  NOT NULL,\n",
    "  \t MGRSSN  CHAR(9)  NOT NULL,\n",
    "  \t MGRSTARTDATE DATE,\n",
    "  \t PRIMARY KEY(DNUMBER),\n",
    "  \t UNIQUE(DNAME)\n",
    "       );\n",
    "\n",
    "CREATE TABLE DEPT_LOCATIONS\n",
    "       (\n",
    "         DNUMBER INT  NOT NULL,\n",
    "  \t DLOCATION VARCHAR(15) NOT NULL,\n",
    "  \t PRIMARY KEY(DNUMBER, DLOCATION)\n",
    "       );\n",
    "\n",
    "CREATE TABLE PROJECT\n",
    "       (\n",
    "         PNAME  VARCHAR(15) NOT NULL,\n",
    "  \t PNUMBER INT  NOT NULL,\n",
    "  \t PLOCATION VARCHAR(15),\n",
    "  \t DNUM  INT  NOT NULL,\n",
    "  \t PRIMARY KEY(PNUMBER),\n",
    "  \t UNIQUE(PNAME)\n",
    "       );\n",
    "\n",
    "CREATE TABLE WORKS_ON\n",
    "       (\n",
    "         ESSN  CHAR(9)  NOT NULL,\n",
    "  \t PNO  INT  NOT NULL,\n",
    "  \t HOURS  DECIMAL(3,1),\n",
    "  \t PRIMARY KEY(ESSN, PNO)\n",
    "       );\n",
    "\n",
    "CREATE TABLE DEPENDENT\n",
    "       (\n",
    "         ESSN  CHAR(9)  NOT NULL,\n",
    "  \t DEPENDENT_NAME VARCHAR(15) NOT NULL,\n",
    "  \t SEX  CHAR,\n",
    "  \t BDATE  DATE,\n",
    "  \t RELATIONSHIP VARCHAR(8),\n",
    "  \t PRIMARY KEY(ESSN, DEPENDENT_NAME)\n",
    "       );\n",
    "\n",
    "\n",
    "-- fill tables\n",
    "INSERT INTO DEPENDENT VALUES\n",
    "('333445555','Alice','F','1986-04-05','DAUGHTER'),\n",
    "('333445555','Theodore','M','1983-10-25','SON'),\n",
    "('333445555','Joy','F','1958-05-03','SPOUSE'),\n",
    "('987654321','Abner','M','1942-02-28','SPOUSE'),\n",
    "('123456789','Michael','M','1988-01-04','SON'),\n",
    "('123456789','Alice','F','1988-12-30','DAUGHTER'),\n",
    "('123456789','Elizabeth','F','1967-05-05','SPOUSE');\n",
    "\n",
    "INSERT INTO EMPLOYEE VALUES\n",
    "('John','B','Smith','123456789','1965-01-09','731 Fondren, Houston, TX','M',30000,'333445555',5),\n",
    "('Franklin','T','Wong','333445555','1955-12-08','638 Voss, Houston, TX','M',40000,'888665555',5),\n",
    "('Alicia','J','Zelaya','999887777','1968-07-19','3321 Castle, Spring, TX','F',25000,'987654321',4),\n",
    "('Jennifer','S','Wallace','987654321','1941-06-20','291 Berry,Bellaire,TX','F',43000,'888665555',4),\n",
    "('Ramesh','K','Narayan','666884444','1962-09-15','975 Fire Oak, Humble, TX','M',38000,'333445555',5),\n",
    "('Joyce','A','English','453453453','1972-07-31','5631 Rice, Houston, TX','F',25000,'333445555',5),\n",
    "('Ahmad','V','Jabbar','987987987','1969-03-29','980 Dallas, Houston, TX','M',25000,'987654321',4),\n",
    "('James','E','Borg','888665555','1937-11-10','450 Stone, Houston, TX','M',55000,'',1);\n",
    "\n",
    "INSERT INTO DEPARTMENT VALUES\n",
    "('Research',5,'333445555','1988-05-22'),\n",
    "('Administration',4,'987654321','1995-01-01'),\n",
    "('Headquarters',1,'888665555','1961-06-19');\n",
    "\n",
    "INSERT INTO DEPT_LOCATIONS VALUES\n",
    "(4,'Stafford'),\n",
    "(5,'Bellaire'),\n",
    "(5,'Sugarland'),\n",
    "(5,'Houston');\n",
    "\n",
    "INSERT INTO PROJECT VALUES\n",
    "('ProductX',1,'Bellaire',5),\n",
    "('ProductY',2,'Sugarland',5),\n",
    "('ProductZ',3,'Houston',5),\n",
    "('Computerization',10,'Stafford',4),\n",
    "('Reorganization',20,'Houston',1),\n",
    "('Newbenefits',30,'Stafford',4);\n",
    "\n",
    "INSERT INTO WORKS_ON VALUES\n",
    "('123456789',1,32.5),\n",
    "('123456789',2,7.5),\n",
    "('666884444',3,40.0),\n",
    "('453453453',1,20.0),\n",
    "('453453453',2,20.0),\n",
    "('333445555',2,10.0),\n",
    "('333445555',3,10.0),\n",
    "('333445555',10,10.0),\n",
    "('333445555',20,10.0),\n",
    "('999887777',30,30.0),\n",
    "('999887777',10,10.0),\n",
    "('987654321',10,35.0),\n",
    "('987654321',30,20.0),\n",
    "('987654321',20,15.0),\n",
    "('888665555',20,NULL);\n",
    "\"\"\"\n",
    "\n",
    "future_use = \"\"\"\n",
    "-- turn off constraints\n",
    "-- MySql: SET foreign_key_checks = 0;\n",
    "-- PostgreSQL:\n",
    "ALTER TABLE EMPLOYEE DISABLE TRIGGER ALL;\n",
    "ALTER TABLE DEPARTMENT DISABLE TRIGGER ALL;\n",
    "ALTER TABLE DEPT_LOCATIONS DISABLE TRIGGER ALL;\n",
    "ALTER TABLE PROJECT DISABLE TRIGGER ALL;\n",
    "ALTER TABLE WORKS_ON DISABLE TRIGGER ALL;\n",
    "ALTER TABLE DEPENDENT DISABLE TRIGGER ALL;\n",
    "\n",
    "ALTER TABLE EMPLOYEE ADD FOREIGN KEY (SUPERSSN) REFERENCES EMPLOYEE(SSN);\n",
    "ALTER TABLE EMPLOYEE ADD FOREIGN KEY (DNO) REFERENCES DEPARTMENT(DNUMBER);\n",
    "ALTER TABLE DEPARTMENT ADD FOREIGN KEY (MGRSSN) REFERENCES EMPLOYEE(SSN);\n",
    "ALTER TABLE DEPT_LOCATIONS ADD FOREIGN KEY (DNUMBER) REFERENCES DEPARTMENT(DNUMBER);\n",
    "ALTER TABLE PROJECT ADD FOREIGN KEY (DNUM) REFERENCES DEPARTMENT(DNUMBER);\n",
    "ALTER TABLE WORKS_ON ADD FOREIGN KEY (ESSN) REFERENCES EMPLOYEE(SSN);\n",
    "ALTER TABLE WORKS_ON ADD FOREIGN KEY (PNO) REFERENCES PROJECT(PNUMBER);\n",
    "ALTER TABLE DEPENDENT ADD FOREIGN KEY (ESSN) REFERENCES EMPLOYEE(SSN);\n",
    "\n",
    "-- turn on constraints\n",
    "-- MySql: SET foreign_key_checks = 1;\n",
    "-- PostgreSQL:\n",
    "ALTER TABLE EMPLOYEE ENABLE TRIGGER ALL;\n",
    "ALTER TABLE DEPARTMENT ENABLE TRIGGER ALL;\n",
    "ALTER TABLE DEPT_LOCATIONS ENABLE TRIGGER ALL;\n",
    "ALTER TABLE PROJECT ENABLE TRIGGER ALL;\n",
    "ALTER TABLE WORKS_ON ENABLE TRIGGER ALL;\n",
    "ALTER TABLE DEPENDENT ENABLE TRIGGER ALL;\n",
    "\"\"\"\n",
    "\n",
    "conn_all_work = None\n",
    "try:\n",
    "    cur.execute('drop database if exists all_work') # Comment this line to avoid repeated creation\n",
    "    cur.execute('create database all_work')\n",
    "    # Reconnect to our new database\n",
    "    conn_all_work = psycopg2.connect('dbname=all_work host=/home/user/postgres_data')\n",
    "    with conn_all_work:\n",
    "        cur_all_work = conn_all_work.cursor()\n",
    "        try:\n",
    "            cur_all_work.execute(sql_database_setup)\n",
    "        except Exception as ex:\n",
    "            print(ex)\n",
    "except Exception as ex:\n",
    "    print(ex)\n",
    "finally:\n",
    "    if conn_all_work:\n",
    "        conn_all_work.close()  # Close the connection if it was created"
   ]
  },
  {
   "cell_type": "markdown",
   "metadata": {
    "collapsed": false
   },
   "source": [
    "### Example SQL queries\n",
    "\n",
    "Finally, we will perform a few queries using ```psycopg2``` and have you explore a few more queries in class.  To better understand these queries, we present a \"database schema\" diagram of the Employee database tables with arrows representing related attributes across tables.\n",
    "\n",
    "<img src=\"EmployeeSchema.png\" alt=\"Employee Schema\" title=\"Employee Schema\" width=\"800\" />"
   ]
  },
  {
   "cell_type": "code",
   "execution_count": 0,
   "metadata": {
    "collapsed": false,
    "scrolled": true
   },
   "outputs": [
   ],
   "source": [
    "try:\n",
    "    conn_all_work = psycopg2.connect('dbname=all_work host=/home/user/postgres_data')\n",
    "    with conn_all_work:\n",
    "        cur_all_work = conn_all_work.cursor()\n",
    "\n",
    "        # Query 1: List all tables in the database\n",
    "        cur_all_work.execute(\"\"\"select table_name from information_schema.tables where table_schema = 'public'\"\"\")\n",
    "        print('Employee database tables:')\n",
    "        for table in cur_all_work.fetchall():\n",
    "            print('\\t', table[0])\n",
    "\n",
    "        # Query 2: List all of the employees with salaries between $20,000 and $30,000.\n",
    "        sql = 'select * from employee where salary > 20000 and salary < 30000;'\n",
    "        cur_all_work.execute(sql)\n",
    "        print('\\n', sql)\n",
    "        for employee in cur_all_work.fetchall():\n",
    "            print(employee)\n",
    "\n",
    "        # Query 3: Get just the first and last names from the 'employee' table\n",
    "        sql = 'select fname as first, lname as last from employee as e;'\n",
    "        cur_all_work.execute(sql)\n",
    "        print('\\n', sql)\n",
    "        for employee in cur_all_work.fetchall():\n",
    "            print(employee)\n",
    "\n",
    "        # Query 4: What are all possible combinations of employees (first, last name) and departments.\n",
    "        # (This is known as a \"Cartesian product\" (https://en.wikipedia.org/wiki/Cartesian_product).)\n",
    "        sql = 'select fname, lname, dname department from employee e, department d;'\n",
    "        cur_all_work.execute(sql)\n",
    "        print('\\n', sql)\n",
    "        for employee in cur_all_work.fetchall():\n",
    "            print(employee)\n",
    "\n",
    "    conn_all_work.close()  # Close our connection to database all_work\n",
    "except Exception as ex:\n",
    "    print(ex)"
   ]
  },
  {
   "cell_type": "markdown",
   "metadata": {
    "collapsed": false
   },
   "source": [
    "# In Class\n",
    "\n",
    "## More Sample SQL Queries\n",
    "\n",
    "Using the all_work Employee database from above, perform the following different forms of \"natural join\" SQL queries and examine the results.\n",
    "\n",
    "(1) ```select fname, lname, dname department from employee e, department d where e.dno=d.dnumber;```\n",
    "\n",
    "(2) ```select fname, lname, dname from employee e, department d where e.dno=d.dnumber;```\n",
    "\n",
    "(3) ```select fname, lname, dname from employee e join department d on e.dno=d.dnumber;```\n",
    "\n",
    "Keywords: between ... and\n",
    "\n",
    "(4) select fname, lname from employee where salary between 20000 and 30000;\n",
    "\n",
    "Keywords: order by\n",
    "\n",
    "(5) select fname, lname from employee order BY lname;\n",
    "\n",
    "(6) select fname, lname from employee order BY salary desc;\n",
    "\n",
    "(7) select fname, lname from employee order BY lname asc;"
   ]
  },
  {
   "cell_type": "code",
   "execution_count": 0,
   "metadata": {
    "collapsed": false,
    "scrolled": true
   },
   "outputs": [
   ],
   "source": [
   ]
  },
  {
   "cell_type": "markdown",
   "metadata": {
    "collapsed": false
   },
   "source": [
    "### SQL Joins\n",
    "\n",
    "In the time remaining, create a new database called ```joins```.  Add to this database the example tables of the Wikipedia article [Join (SQL)](https://en.wikipedia.org/wiki/Join_(SQL)).  Perform the illustrative queries of various joins using these tables."
   ]
  },
  {
   "cell_type": "markdown",
   "metadata": {
    "collapsed": false
   },
   "source": [
    "## Homework\n"
   ]
  },
  {
   "cell_type": "markdown",
   "metadata": {
    "collapsed": false
   },
   "source": [
    "**Exercise 1:** Complete the in-class exercise if you haven't already.\n",
    "\n",
    "**Exercise 2:** The [SQL ```select``` statement](https://en.wikipedia.org/wiki/Select_(SQL)) is foundational to database queries.  Important keywords used include:\n",
    "\n",
    "* ```from```, specifying the database table\n",
    "* ```where```, specifying a filter condition on rows\n",
    "* ```group by```, specifying a shared property of rows so that an aggregate function can be applied to each row group\n",
    "* ```having```, specifying a filter among groups of the ```group by``` clause\n",
    "* ```order by```, specifying how returned rows should be ordered, and\n",
    "* ```as```, specifying a temporary alias for referring to tables or columns.\n",
    "\n",
    "Using the ```all_work``` database, devise queries different from those above to illustrate each of these syntactic elements of SQL ```select``` statements."
   ]
  },
  {
   "cell_type": "code",
   "execution_count": 0,
   "metadata": {
    "collapsed": false
   },
   "outputs": [
   ],
   "source": [
   ]
  },
  {
   "cell_type": "markdown",
   "metadata": {
    "collapsed": false
   },
   "source": [
    "(end of homework)"
   ]
  }
 ],
 "metadata": {
  "kernelspec": {
   "display_name": "Python 3 (system-wide)",
   "language": "python",
   "metadata": {
    "cocalc": {
     "description": "Python 3 programming language",
     "priority": 100,
     "url": "https://www.python.org/"
    }
   },
   "name": "python3"
  },
  "language_info": {
   "codemirror_mode": {
    "name": "ipython",
    "version": 3
   },
   "file_extension": ".py",
   "mimetype": "text/x-python",
   "name": "python",
   "nbconvert_exporter": "python",
   "pygments_lexer": "ipython3",
   "version": "3.8.5"
  }
 },
 "nbformat": 4,
 "nbformat_minor": 4
}