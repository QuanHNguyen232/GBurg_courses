{
 "cells": [
  {
   "cell_type": "markdown",
   "metadata": {},
   "source": [
    "# Simple Linear Regression Walkthrough\n",
    "\n",
    "In this notebook, we will walk through a simple linear regression exercise.  Your homework assignment will be to perform the same steps with different datasets adding your work into this Jupyter notebook in the designated areas and answering questions about your work in a corresponding Moodle quiz.  \n",
    "\n",
    "Side note: If you would like to see how these [Markdown format](https://daringfireball.net/projects/markdown/syntax) sections are written, I recommend [Adam Pritchard's Markdown Cheatsheet](https://github.com/adam-p/markdown-here/wiki/Markdown-Here-Cheatsheet).  For any of these text sections, click on them and Edit to see the underlying syntax (i.e. structure, form) that generates the formatting you see.  Then press Control-Enter to interpret the syntax and see how the Markdown displays.\n"
   ]
  },
  {
   "cell_type": "markdown",
   "metadata": {},
   "source": [
    "We begin by importing necessary definitions into our Python environment.  You will not need to re-import these for your exercises below.  Each import statement adds useful _libraries_ or parts thereof to our environment:\n",
    "* **numpy** is a scientific computing library which includes fast, efficient, multidimensional arrays (i.e. tables) for our data\n",
    "* **pandas** builds on numpy to give us efficient data structures (e.g. dataframes) and data analysis tools which are fundamental to data science <!-- * **pandas_profiling** adds tools for analyzing and helping us better understand our data.-->\n",
    "* **matplotlib** is a 2D plotting library for scientific visualization\n",
    "* **sklearn** provides a variety of regression, classification, and machine learning algorithms for building models of our data\n",
    "\n",
    "These imports need only occur once before their use, and should not be copied and repeated below.  To start the notebook fresh and rerun the cells of your notebook, \"Restart and run all...\" (using the button or Kernel menu item)."
   ]
  },
  {
   "cell_type": "code",
   "execution_count": 2,
   "metadata": {},
   "outputs": [],
   "source": [
    "import numpy as np\n",
    "import pandas as pd\n",
    "import matplotlib.pyplot as plt\n",
    "from sklearn.linear_model import LinearRegression"
   ]
  },
  {
   "cell_type": "markdown",
   "metadata": {},
   "source": [
    "Our first step is to read data from a [comma-separated values (CSV) file](https://en.wikipedia.org/wiki/Comma-separated_values) named \"`data.csv`\".  First, we will form a [Uniform Resource Identifier (URI)](https://en.wikipedia.org/wiki/Uniform_Resource_Identifier), a string of characters that unambiguously identifies the location of this CSV file resource.  Then, we will load the CSV data into a `pandas` dataframe \"`df`\" like this:"
   ]
  },
  {
   "cell_type": "code",
   "execution_count": 3,
   "metadata": {},
   "outputs": [],
   "source": [
    "# This is a comment.  In Python, anything from a \"#\" to the end of the line is ignored.\n",
    "\n",
    "# On the next line, we define the data path variable \"data_path\", a string of character that indicates where we'll look to find our data.\n",
    "data_path = 'http://cs.gettysburg.edu/~tneller/ds256/data/slr/'\n",
    "\n",
    "# Next, we'll being a complete specification of where our file is and which file, by _concatenating_ the characters of the data_path with those of the specific data file:\n",
    "uri = data_path + 'data.csv'  # Note: URI stands for Uniform Resource \n",
    "\n",
    "# Next, we'll define a variable \"df\" (short for \"dataframe\"), that will hold a pandas dataframe read from that filename \n",
    "df = pd.read_csv(uri)"
   ]
  },
  {
   "cell_type": "markdown",
   "metadata": {},
   "source": [
    "Often, the amount of data is large and we wish to look at 5 random samples like this:"
   ]
  },
  {
   "cell_type": "code",
   "execution_count": 4,
   "metadata": {},
   "outputs": [
    {
     "data": {
      "text/html": [
       "<div>\n",
       "<style scoped>\n",
       "    .dataframe tbody tr th:only-of-type {\n",
       "        vertical-align: middle;\n",
       "    }\n",
       "\n",
       "    .dataframe tbody tr th {\n",
       "        vertical-align: top;\n",
       "    }\n",
       "\n",
       "    .dataframe thead th {\n",
       "        text-align: right;\n",
       "    }\n",
       "</style>\n",
       "<table border=\"1\" class=\"dataframe\">\n",
       "  <thead>\n",
       "    <tr style=\"text-align: right;\">\n",
       "      <th></th>\n",
       "      <th>id</th>\n",
       "      <th>x1</th>\n",
       "      <th>x2</th>\n",
       "      <th>x3</th>\n",
       "      <th>y</th>\n",
       "    </tr>\n",
       "  </thead>\n",
       "  <tbody>\n",
       "    <tr>\n",
       "      <th>5869</th>\n",
       "      <td>5869</td>\n",
       "      <td>0.085845</td>\n",
       "      <td>-0.038144</td>\n",
       "      <td>-0.218610</td>\n",
       "      <td>-149.034559</td>\n",
       "    </tr>\n",
       "    <tr>\n",
       "      <th>4021</th>\n",
       "      <td>4021</td>\n",
       "      <td>0.219255</td>\n",
       "      <td>-0.059063</td>\n",
       "      <td>-0.049421</td>\n",
       "      <td>24.175307</td>\n",
       "    </tr>\n",
       "    <tr>\n",
       "      <th>2769</th>\n",
       "      <td>2769</td>\n",
       "      <td>-0.487965</td>\n",
       "      <td>-0.199621</td>\n",
       "      <td>-0.279179</td>\n",
       "      <td>-237.034813</td>\n",
       "    </tr>\n",
       "    <tr>\n",
       "      <th>6210</th>\n",
       "      <td>6210</td>\n",
       "      <td>-0.553849</td>\n",
       "      <td>-0.196738</td>\n",
       "      <td>0.166110</td>\n",
       "      <td>293.228648</td>\n",
       "    </tr>\n",
       "    <tr>\n",
       "      <th>3930</th>\n",
       "      <td>3930</td>\n",
       "      <td>-0.510892</td>\n",
       "      <td>-0.418379</td>\n",
       "      <td>0.303895</td>\n",
       "      <td>205.275875</td>\n",
       "    </tr>\n",
       "  </tbody>\n",
       "</table>\n",
       "</div>"
      ],
      "text/plain": [
       "        id        x1        x2        x3           y\n",
       "5869  5869  0.085845 -0.038144 -0.218610 -149.034559\n",
       "4021  4021  0.219255 -0.059063 -0.049421   24.175307\n",
       "2769  2769 -0.487965 -0.199621 -0.279179 -237.034813\n",
       "6210  6210 -0.553849 -0.196738  0.166110  293.228648\n",
       "3930  3930 -0.510892 -0.418379  0.303895  205.275875"
      ]
     },
     "execution_count": 4,
     "metadata": {},
     "output_type": "execute_result"
    }
   ],
   "source": [
    "df.sample(5)"
   ]
  },
  {
   "cell_type": "markdown",
   "metadata": {},
   "source": [
    "We can see that the header column \"id\" is identical to the dataframe line numbering. Each line is an Our inputs (a.k.a. \"predictors\", \"features\", and \"independent variables\") are columns \"x1\", \"x2\", and \"x3\", whereas our output (a.k.a. \"response\", \"outcome\", \"label\", and \"dependent variable\") is column \"y\".\n",
    "\n",
    "One can get a brief statistical description of our dataframe named \"data\" using the describe function as follows:"
   ]
  },
  {
   "cell_type": "code",
   "execution_count": 5,
   "metadata": {},
   "outputs": [
    {
     "data": {
      "text/html": [
       "<div>\n",
       "<style scoped>\n",
       "    .dataframe tbody tr th:only-of-type {\n",
       "        vertical-align: middle;\n",
       "    }\n",
       "\n",
       "    .dataframe tbody tr th {\n",
       "        vertical-align: top;\n",
       "    }\n",
       "\n",
       "    .dataframe thead th {\n",
       "        text-align: right;\n",
       "    }\n",
       "</style>\n",
       "<table border=\"1\" class=\"dataframe\">\n",
       "  <thead>\n",
       "    <tr style=\"text-align: right;\">\n",
       "      <th></th>\n",
       "      <th>id</th>\n",
       "      <th>x1</th>\n",
       "      <th>x2</th>\n",
       "      <th>x3</th>\n",
       "      <th>y</th>\n",
       "    </tr>\n",
       "  </thead>\n",
       "  <tbody>\n",
       "    <tr>\n",
       "      <th>count</th>\n",
       "      <td>10000.00000</td>\n",
       "      <td>10000.000000</td>\n",
       "      <td>10000.000000</td>\n",
       "      <td>10000.000000</td>\n",
       "      <td>10000.000000</td>\n",
       "    </tr>\n",
       "    <tr>\n",
       "      <th>mean</th>\n",
       "      <td>4999.50000</td>\n",
       "      <td>0.008262</td>\n",
       "      <td>-0.001218</td>\n",
       "      <td>0.002498</td>\n",
       "      <td>73.643143</td>\n",
       "    </tr>\n",
       "    <tr>\n",
       "      <th>std</th>\n",
       "      <td>2886.89568</td>\n",
       "      <td>0.306866</td>\n",
       "      <td>0.306426</td>\n",
       "      <td>0.307042</td>\n",
       "      <td>258.857934</td>\n",
       "    </tr>\n",
       "    <tr>\n",
       "      <th>min</th>\n",
       "      <td>0.00000</td>\n",
       "      <td>-0.741608</td>\n",
       "      <td>-0.799235</td>\n",
       "      <td>-0.777593</td>\n",
       "      <td>-394.015877</td>\n",
       "    </tr>\n",
       "    <tr>\n",
       "      <th>25%</th>\n",
       "      <td>2499.75000</td>\n",
       "      <td>-0.244056</td>\n",
       "      <td>-0.253918</td>\n",
       "      <td>-0.248610</td>\n",
       "      <td>-151.264042</td>\n",
       "    </tr>\n",
       "    <tr>\n",
       "      <th>50%</th>\n",
       "      <td>4999.50000</td>\n",
       "      <td>0.013338</td>\n",
       "      <td>0.000150</td>\n",
       "      <td>0.006883</td>\n",
       "      <td>77.530054</td>\n",
       "    </tr>\n",
       "    <tr>\n",
       "      <th>75%</th>\n",
       "      <td>7499.25000</td>\n",
       "      <td>0.259365</td>\n",
       "      <td>0.252016</td>\n",
       "      <td>0.254278</td>\n",
       "      <td>298.776930</td>\n",
       "    </tr>\n",
       "    <tr>\n",
       "      <th>max</th>\n",
       "      <td>9999.00000</td>\n",
       "      <td>0.799406</td>\n",
       "      <td>0.766355</td>\n",
       "      <td>0.780436</td>\n",
       "      <td>534.482892</td>\n",
       "    </tr>\n",
       "  </tbody>\n",
       "</table>\n",
       "</div>"
      ],
      "text/plain": [
       "                id            x1            x2            x3             y\n",
       "count  10000.00000  10000.000000  10000.000000  10000.000000  10000.000000\n",
       "mean    4999.50000      0.008262     -0.001218      0.002498     73.643143\n",
       "std     2886.89568      0.306866      0.306426      0.307042    258.857934\n",
       "min        0.00000     -0.741608     -0.799235     -0.777593   -394.015877\n",
       "25%     2499.75000     -0.244056     -0.253918     -0.248610   -151.264042\n",
       "50%     4999.50000      0.013338      0.000150      0.006883     77.530054\n",
       "75%     7499.25000      0.259365      0.252016      0.254278    298.776930\n",
       "max     9999.00000      0.799406      0.766355      0.780436    534.482892"
      ]
     },
     "execution_count": 5,
     "metadata": {},
     "output_type": "execute_result"
    }
   ],
   "source": [
    "df.describe()"
   ]
  },
  {
   "cell_type": "markdown",
   "metadata": {},
   "source": [
    "Note that \"std\", the standard deviation, means that if the distribution is a normal (a.k.a. Gaussian)\n",
    "then 68%, 95%, and 99.7% of the distribution is within 1, 2, and 3 standard deviations of the mean, respectively.\n",
    "If the distribution is normal, this doesn't apply, but standard deviation $\\sigma$ squared is the variance $\\sigma^2$,\n",
    "a measure of how much the data varies from the mean.\n",
    "\n",
    "Two variables are [correlated](https://en.wikipedia.org/wiki/Correlation_and_dependence) to the extent that they are linearly related.  We can see correlations between the data using pandas and matplotlib:"
   ]
  },
  {
   "cell_type": "code",
   "execution_count": 6,
   "metadata": {},
   "outputs": [
    {
     "data": {
      "image/png": "[encoded data removed]",
      "text/plain": [
       "<Figure size 480x480 with 1 Axes>"
      ]
     },
     "metadata": {},
     "output_type": "display_data"
    }
   ],
   "source": [
    "plt.matshow(df.corr())\n",
    "plt.show()"
   ]
  },
  {
   "cell_type": "markdown",
   "metadata": {
    "collapsed": true
   },
   "source": [
    "Each column is perfectly correlated with itself, showing yellow in the correlation matrix above.  Additionally, we note that columns 3 and 4 (\"x3\" and \"y\", respectively) are highly correlated with each other.  This doesn't mean that other features aren't helpful for building a model, but it does mean that we expect \"x3\" to be more important for predicting \"y\".\n",
    "\n",
    "We can create our input features dataframe and our output responses data frame by creating new named view of these labeled column slices.\n"
   ]
  },
  {
   "cell_type": "code",
   "execution_count": 7,
   "metadata": {},
   "outputs": [],
   "source": [
    "X = df[['x1', 'x2', 'x3']]\n",
    "y = df[['y']]"
   ]
  },
  {
   "cell_type": "markdown",
   "metadata": {},
   "source": [
    "Next, we build a linear regression model using our X features and y response. This involves creating a LinearRegressor object (from sk-learn), and using it with this data to compute a linear \"model\" of the relationship between X and y:"
   ]
  },
  {
   "cell_type": "code",
   "execution_count": 8,
   "metadata": {},
   "outputs": [
    {
     "data": {
      "text/html": [
       "<style>#sk-container-id-1 {color: black;background-color: white;}#sk-container-id-1 pre{padding: 0;}#sk-container-id-1 div.sk-toggleable {background-color: white;}#sk-container-id-1 label.sk-toggleable__label {cursor: pointer;display: block;width: 100%;margin-bottom: 0;padding: 0.3em;box-sizing: border-box;text-align: center;}#sk-container-id-1 label.sk-toggleable__label-arrow:before {content: \"▸\";float: left;margin-right: 0.25em;color: #696969;}#sk-container-id-1 label.sk-toggleable__label-arrow:hover:before {color: black;}#sk-container-id-1 div.sk-estimator:hover label.sk-toggleable__label-arrow:before {color: black;}#sk-container-id-1 div.sk-toggleable__content {max-height: 0;max-width: 0;overflow: hidden;text-align: left;background-color: #f0f8ff;}#sk-container-id-1 div.sk-toggleable__content pre {margin: 0.2em;color: black;border-radius: 0.25em;background-color: #f0f8ff;}#sk-container-id-1 input.sk-toggleable__control:checked~div.sk-toggleable__content {max-height: 200px;max-width: 100%;overflow: auto;}#sk-container-id-1 input.sk-toggleable__control:checked~label.sk-toggleable__label-arrow:before {content: \"▾\";}#sk-container-id-1 div.sk-estimator input.sk-toggleable__control:checked~label.sk-toggleable__label {background-color: #d4ebff;}#sk-container-id-1 div.sk-label input.sk-toggleable__control:checked~label.sk-toggleable__label {background-color: #d4ebff;}#sk-container-id-1 input.sk-hidden--visually {border: 0;clip: rect(1px 1px 1px 1px);clip: rect(1px, 1px, 1px, 1px);height: 1px;margin: -1px;overflow: hidden;padding: 0;position: absolute;width: 1px;}#sk-container-id-1 div.sk-estimator {font-family: monospace;background-color: #f0f8ff;border: 1px dotted black;border-radius: 0.25em;box-sizing: border-box;margin-bottom: 0.5em;}#sk-container-id-1 div.sk-estimator:hover {background-color: #d4ebff;}#sk-container-id-1 div.sk-parallel-item::after {content: \"\";width: 100%;border-bottom: 1px solid gray;flex-grow: 1;}#sk-container-id-1 div.sk-label:hover label.sk-toggleable__label {background-color: #d4ebff;}#sk-container-id-1 div.sk-serial::before {content: \"\";position: absolute;border-left: 1px solid gray;box-sizing: border-box;top: 0;bottom: 0;left: 50%;z-index: 0;}#sk-container-id-1 div.sk-serial {display: flex;flex-direction: column;align-items: center;background-color: white;padding-right: 0.2em;padding-left: 0.2em;position: relative;}#sk-container-id-1 div.sk-item {position: relative;z-index: 1;}#sk-container-id-1 div.sk-parallel {display: flex;align-items: stretch;justify-content: center;background-color: white;position: relative;}#sk-container-id-1 div.sk-item::before, #sk-container-id-1 div.sk-parallel-item::before {content: \"\";position: absolute;border-left: 1px solid gray;box-sizing: border-box;top: 0;bottom: 0;left: 50%;z-index: -1;}#sk-container-id-1 div.sk-parallel-item {display: flex;flex-direction: column;z-index: 1;position: relative;background-color: white;}#sk-container-id-1 div.sk-parallel-item:first-child::after {align-self: flex-end;width: 50%;}#sk-container-id-1 div.sk-parallel-item:last-child::after {align-self: flex-start;width: 50%;}#sk-container-id-1 div.sk-parallel-item:only-child::after {width: 0;}#sk-container-id-1 div.sk-dashed-wrapped {border: 1px dashed gray;margin: 0 0.4em 0.5em 0.4em;box-sizing: border-box;padding-bottom: 0.4em;background-color: white;}#sk-container-id-1 div.sk-label label {font-family: monospace;font-weight: bold;display: inline-block;line-height: 1.2em;}#sk-container-id-1 div.sk-label-container {text-align: center;}#sk-container-id-1 div.sk-container {/* jupyter's `normalize.less` sets `[hidden] { display: none; }` but bootstrap.min.css set `[hidden] { display: none !important; }` so we also need the `!important` here to be able to override the default hidden behavior on the sphinx rendered scikit-learn.org. See: https://github.com/scikit-learn/scikit-learn/issues/21755 */display: inline-block !important;position: relative;}#sk-container-id-1 div.sk-text-repr-fallback {display: none;}</style><div id=\"sk-container-id-1\" class=\"sk-top-container\"><div class=\"sk-text-repr-fallback\"><pre>LinearRegression()</pre><b>In a Jupyter environment, please rerun this cell to show the HTML representation or trust the notebook. <br />On GitHub, the HTML representation is unable to render, please try loading this page with nbviewer.org.</b></div><div class=\"sk-container\" hidden><div class=\"sk-item\"><div class=\"sk-estimator sk-toggleable\"><input class=\"sk-toggleable__control sk-hidden--visually\" id=\"sk-estimator-id-1\" type=\"checkbox\" checked><label for=\"sk-estimator-id-1\" class=\"sk-toggleable__label sk-toggleable__label-arrow\">LinearRegression</label><div class=\"sk-toggleable__content\"><pre>LinearRegression()</pre></div></div></div></div></div>"
      ],
      "text/plain": [
       "LinearRegression()"
      ]
     },
     "execution_count": 8,
     "metadata": {},
     "output_type": "execute_result"
    }
   ],
   "source": [
    "linear_regressor = LinearRegression()\n",
    "linear_regressor.fit(X, y)"
   ]
  },
  {
   "cell_type": "markdown",
   "metadata": {},
   "source": [
    "We can access the regression model through its \"intercept_\" and \"coef_\" values as shown below.  From these, we can see that we have a y-intercept (y value at x=0) of 71.35781377, and x1, x2, and x3 coefficients of 35.33598059, -2.46524515, and 796.89909406, respectively.  Thus, our linear model is:\n",
    "\n",
    "y = 71.35781377 + 35.33598059 * x1 + -2.46524515 * x2 + 796.89909406 * x3"
   ]
  },
  {
   "cell_type": "code",
   "execution_count": 9,
   "metadata": {},
   "outputs": [
    {
     "name": "stdout",
     "output_type": "stream",
     "text": [
      "[71.35781377]\n",
      "[[ 35.33598059  -2.46524515 796.89909406]]\n"
     ]
    }
   ],
   "source": [
    "print(linear_regressor.intercept_)\n",
    "print(linear_regressor.coef_)\n"
   ]
  },
  {
   "cell_type": "markdown",
   "metadata": {},
   "source": [
    "We can see the [$R^2$ score](https://en.wikipedia.org/wiki/Coefficient_of_determination), i.e. the proportion of the variance in the output that is predictable from the inputs of our model prediction, as follows:"
   ]
  },
  {
   "cell_type": "code",
   "execution_count": 10,
   "metadata": {},
   "outputs": [
    {
     "data": {
      "text/plain": [
       "0.8944538590150857"
      ]
     },
     "execution_count": 10,
     "metadata": {},
     "output_type": "execute_result"
    }
   ],
   "source": [
    "linear_regressor.score(X, y)"
   ]
  },
  {
   "cell_type": "markdown",
   "metadata": {},
   "source": [
    "Not bad!  We can also use our model to see the values predicted from our original inputs: "
   ]
  },
  {
   "cell_type": "code",
   "execution_count": 11,
   "metadata": {},
   "outputs": [],
   "source": [
    "y_pred = linear_regressor.predict(X)"
   ]
  },
  {
   "cell_type": "markdown",
   "metadata": {},
   "source": [
    "Knowing from before that feature \"x3\" has the highest correlation with \"y\", we can also scatterplot the results, showing the predicted values as (x3,y_pred) points in red on top of the original (x3,y) points in blue. "
   ]
  },
  {
   "cell_type": "code",
   "execution_count": 12,
   "metadata": {},
   "outputs": [
    {
     "data": {
      "image/png": "[encoded data removed]",
      "text/plain": [
       "<Figure size 640x480 with 1 Axes>"
      ]
     },
     "metadata": {},
     "output_type": "display_data"
    }
   ],
   "source": [
    "plt.scatter(X[['x3']], y, s=1, color='blue')\n",
    "plt.scatter(X[['x3']], y_pred, s=1, color='red')\n",
    "plt.show()"
   ]
  },
  {
   "cell_type": "markdown",
   "metadata": {},
   "source": [
    "To make a prediction for an unknown value, one can also use the \"predict\" function.\n",
    "For example, let's see what would be predicted as a y value when all x values are set to 0.5:"
   ]
  },
  {
   "cell_type": "code",
   "execution_count": 13,
   "metadata": {},
   "outputs": [
    {
     "name": "stdout",
     "output_type": "stream",
     "text": [
      "[[486.24272852]]\n"
     ]
    },
    {
     "name": "stderr",
     "output_type": "stream",
     "text": [
      "/Accounts/turing/faculty/tneller/miniconda3/envs/cs371/lib/python3.11/site-packages/sklearn/base.py:439: UserWarning: X does not have valid feature names, but LinearRegression was fitted with feature names\n",
      "  warnings.warn(\n"
     ]
    }
   ],
   "source": [
    "print(linear_regressor.predict([[.5, .5, .5]]))"
   ]
  },
  {
   "cell_type": "markdown",
   "metadata": {},
   "source": [
    "Thus, our linear regression would predict a y value of 486.24272852 at [x1, x2, x3] = [.5, .5, .5].  \n",
    "When [x1, x2, x3] = [.1, -.2, -.4], y is predicted to be -243.37517677:"
   ]
  },
  {
   "cell_type": "code",
   "execution_count": 14,
   "metadata": {},
   "outputs": [
    {
     "name": "stdout",
     "output_type": "stream",
     "text": [
      "[[-243.37517677]]\n"
     ]
    },
    {
     "name": "stderr",
     "output_type": "stream",
     "text": [
      "/Accounts/turing/faculty/tneller/miniconda3/envs/cs371/lib/python3.11/site-packages/sklearn/base.py:439: UserWarning: X does not have valid feature names, but LinearRegression was fitted with feature names\n",
      "  warnings.warn(\n"
     ]
    }
   ],
   "source": [
    "print(linear_regressor.predict([[.1, -.2, -.4]]))"
   ]
  },
  {
   "cell_type": "markdown",
   "metadata": {},
   "source": [
    "## Exercises"
   ]
  },
  {
   "cell_type": "markdown",
   "metadata": {},
   "source": [
    "For these exercises, you will both add on to this Jupyter Notebook to show your work after each corresponding code block comment below. "
   ]
  },
  {
   "cell_type": "markdown",
   "metadata": {},
   "source": [
    "### Exercise 1"
   ]
  },
  {
   "cell_type": "markdown",
   "metadata": {
    "collapsed": true
   },
   "source": [
    "In the Exercise 1 space below, load data file **hw1ex1.csv** at the same location as **data.csv** above, practice the same techniques above to load the data, display samples and statistics of the data, perform a linear regression of y on x values, print the coefficients and $R^2$ score, and make the requested prediction."
   ]
  },
  {
   "cell_type": "code",
   "execution_count": 15,
   "metadata": {},
   "outputs": [],
   "source": [
    "# load data into a dataframe and describe it\n",
    "\n",
    "# create separate 'X' and 'y' dataframes of the data\n",
    "\n",
    "# perform linear regression\n",
    "\n",
    "# print the x coefficients, the y-intercept, and the R^2 score\n",
    "\n",
    "# print a y prediction for the X value given: x1 = .3\n"
   ]
  },
  {
   "cell_type": "markdown",
   "metadata": {},
   "source": [
    "### Exercise 2"
   ]
  },
  {
   "cell_type": "markdown",
   "metadata": {
    "collapsed": true
   },
   "source": [
    "In the Exercise 2 space below, load data file **hw1ex2.csv** at the same location as **data.csv** above, practice the same techniques above to load the data, display samples and statistics of the data, perform a linear regression of y on x values, print the coefficients and $R^2$ score, and make the requested prediction."
   ]
  },
  {
   "cell_type": "code",
   "execution_count": 16,
   "metadata": {},
   "outputs": [],
   "source": [
    "# load data into a dataframe and describe it\n",
    "\n",
    "# create separate 'X' and 'y' dataframes of the data\n",
    "\n",
    "# perform linear regression\n",
    "\n",
    "# print the x coefficients, the y-intercept, and the R^2 score\n",
    "\n",
    "# print a y prediction for the X values given: x1 = -.1, x2 = .4, x3 =.1\n"
   ]
  },
  {
   "cell_type": "markdown",
   "metadata": {},
   "source": [
    "### Exercise 3"
   ]
  },
  {
   "cell_type": "markdown",
   "metadata": {
    "collapsed": true
   },
   "source": [
    "In the Exercise 3 space below, load data file **hw1ex3.csv** at the same location as **data.csv** above, practice the same techniques above to load the data, display samples and statistics of the data, perform a linear regression of y on x values, print the coefficients and $R^2$ score, and make the requested prediction."
   ]
  },
  {
   "cell_type": "code",
   "execution_count": 17,
   "metadata": {},
   "outputs": [],
   "source": [
    "# load data into a dataframe and describe it\n",
    "\n",
    "# create separate 'X' and 'y' dataframes of the data\n",
    "\n",
    "# perform linear regression\n",
    "\n",
    "# print the x coefficients, the y-intercept, and the R^2 score\n",
    "\n",
    "# print a y prediction for the X values given: x1 = -.5, x2 = .3, x3 = .2, x4 = -.2, x5 = 0"
   ]
  }
 ],
 "metadata": {
  "kernelspec": {
   "display_name": "Python 3.10.10 ('cs371')",
   "language": "python",
   "name": "python3"
  },
  "language_info": {
   "codemirror_mode": {
    "name": "ipython",
    "version": 3
   },
   "file_extension": ".py",
   "mimetype": "text/x-python",
   "name": "python",
   "nbconvert_exporter": "python",
   "pygments_lexer": "ipython3",
   "version": "3.10.10"
  },
  "vscode": {
   "interpreter": {
    "hash": "03f5c7d48e72e18fcdb9e35f6cb928da77f0ae02235756a8d77814c29cc99718"
   }
  }
 },
 "nbformat": 4,
 "nbformat_minor": 4
}
