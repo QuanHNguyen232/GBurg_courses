{
 "cells": [
  {
   "cell_type": "markdown",
   "metadata": {
    "collapsed": false
   },
   "source": [
    "# Jupyter Notebook Basics\n",
    "\n",
    "Learning Objectives:\n",
    "* Students will learn basics of the cell structure of a Jupyter notebook and common actions to edit and run cells.\n",
    "* Students will learn basics of the Markdown format for formatting text cells.\n",
    "* Students will learn basics of Python variable creation, simple operator expressions, assignments, printing expressions, and what determines output of a Jupyter notebook code cell.\n",
    "\n",
    "Readings before class:\n",
    "* Initial sections of [CoCalc's Jupyter notebook documentation](https://doc.cocalc.com/jupyter.html), specifically:\n",
    "  * What’s a Jupyter Notebook?\n",
    "  * Jupyter Kernels\n",
    "  * CoCalc Jupyter Notebook Basic Features\n",
    "  * CoCalc Jupyter Notebook Enhancements\n",
    "* Allen B. Downey.  [Think Python 2e](https://greenteapress.com/wp/think-python-2e/):\n",
    "  * **NOTE**: In this text, you'll see prompts (\">>> \") from the direct Python interpreter.  While we are interpreting Python, think of our Jupyter notebook as sending our notebook code cells as chunks of code to the Python interpreter, rather than the one-line-at-a-time approach you'll see in these chapters.\n",
    "  * [Chapter 1  The way of the program](http://greenteapress.com/thinkpython2/html/thinkpython2002.html)\n",
    "  * [Chapter 2  Variables, expressions and statements](http://greenteapress.com/thinkpython2/html/thinkpython2003.html)\n",
    "* Jake VanderPlas.  [A Whirlwind Tour of Python](https://github.com/jakevdp/WhirlwindTourOfPython) sections:\n",
    "  * **Note:**  Throughout our readings, there will be terms used without definition.  There is no one text well-suited to students learning Data Science programming without prerequisite knowledge.  The good news: Programmers dive into documentation without context or definitions all the time.  You'll need to cultivate a few skills in this regard: (1) a tolerance for undefined terms, (2) a curiosity to understand unknown terms and look up definitions, and (3) the wisdom to discern what you need to gain from a reference.  You don't need to understand everything you read up front; you'll build your understanding incrementally.\n",
    "  * [00 - Introduction](https://github.com/jakevdp/WhirlwindTourOfPython/blob/master/00-Introduction.ipynb) _Note that this textbook and its code are freely downloadable. As a collection of Jupyter notebooks itself, you can modify and interact with it in an unprecendented way.  You do not need to install Python or any of the tools on your own computer, but you may want to experiment with an installation of your own beyond this class using [Anaconda](https://www.anaconda.com/distribution/), [PyCharm](https://www.jetbrains.com/pycharm/), the basic [Python 3](https://www.python.org/downloads/) installation, or other means of learning beyond our [CoCalc Jupyter notebook](https://doc.cocalc.com/jupyter.html) environment._\n",
    "  * [01 - How to Run Python Code](https://github.com/jakevdp/WhirlwindTourOfPython/blob/master/01-How-to-Run-Python-Code.ipynb) _Here you'll observe that IPython is an interactive layer on top of Python, and Jupyter notebooks are browser-based documents that allow easy interaction with IPython, easy documentation mixed in, and easy sharing of work with others.  We will work largely within Jupyter notebooks._\n",
    "  * [02 - A Quick Tour of Python Language Syntax](https://github.com/jakevdp/WhirlwindTourOfPython/blob/master/02-Basic-Python-Syntax.ipynb)  _This text is geared towards programmers of other languages and frequently will make comparisons.  Ignore these.  The first code cell is example code we have not covered all parts of, but it essentially iterates through integers 0 through 9 putting those values less than variable midpoint (containing integer 5) into list \"lower\" and all others (>= 5) into list upper.  Then these lists are printed. Note the syntax rules for comments, whitespace, and parenthesis with care.  We will not encounter Python 2 in this course._\n",
    "  * [03 - Basic Python Semantics: Variables and Objects](https://github.com/jakevdp/WhirlwindTourOfPython/blob/master/03-Semantics-Variables.ipynb) _A variable is a named location for a value.  Each variable in Python refers to the location of an objects, bundles containing what type of value the object contains and the value itself.  So a variable assigned a value of 42 has a reference or pointer to an object that notes the value is an integer and that integer is 42._\n",
    "\n",
    "Activities before class:\n",
    "* Perform all tasks below up to (but not including) the section marked Homework.\n",
    "\n",
    "Homework after class:\n",
    "* Complete the section labeled \"Homework\" below before the next class when it will be collected."
   ]
  },
  {
   "cell_type": "markdown",
   "metadata": {
    "collapsed": false
   },
   "source": [
    "# The Structure of a Jupyter Notebook\n",
    "\n",
    "A Jupyter notebook is divided into **cells**.  What you are reading here is in a _text cell_ or _Markdown cell_.  It can be edited.  To see that this is a cell, **do the following**:\n",
    "\n",
    "* Single-click on this text.  Note that on the toolbar above that starts with a \"+\", there is a drop-down menu that shows this cell as a \"Markdown\", i.e. formatted text, cell.\n",
    "* Click the \"Edit\" button in the upper right.  You should then be able to see the formatting language called \"Markdown\" that I have written to display with the formatting you saw.  Note that the formatting is similar to the natural style of formatting that has evolved in text-only emails.\n",
    "* Now type Control-Enter (Ctrl-Enter for short) to return this cell to its polished formatted version by interpreting the Markdown cell.  If there is a problem with the Markdown, as error will display below it.\n",
    "\n",
    "After it has returned to an interpreted, formatted-text display, repeat the process by double-clicking on the cell which will take you straight into editing mode.  Type Ctrl-Enter to toggle back to the formatted version.  Do both of these ways of entering and exiting the editing mode until you are comfortable with it."
   ]
  },
  {
   "cell_type": "markdown",
   "metadata": {
    "collapsed": false
   },
   "source": [
    "While this text may look continuous with the previous text, this is a separate Markdown cell.  Edit this cell so that you replace my name with yours in the following sentence: Todd Neller was here. "
   ]
  },
  {
   "cell_type": "markdown",
   "metadata": {
    "collapsed": false
   },
   "source": [
    "There are many simple things you can do easily with Markdown.  A good quick reference is [Adam Pritchard's Markdown Cheat Sheet](https://github.com/adam-p/markdown-here/wiki/Markdown-Cheatsheet).  Another way to learn Markdown is to simply double-click a cell that does what you want (e.g. including a hyperlink) and infer the syntax from what you see in the cell's Markdown.  Double-click on this cell to see how it's hyperlink is specified.  You can see that the text of the hyperlink is within square brackets and is _immediately_ followed by a parenthesized web address, i.e. Uniform Resource Locator (URL)."
   ]
  },
  {
   "cell_type": "markdown",
   "metadata": {
    "collapsed": false
   },
   "source": [
    "While tangential to this course, mathematical formatting with [LaTeX](https://www.latex-project.org/) is also permitted by putting LaTeX mathematical formulae within dollar signs (\\$) like $e^{i\\pi} + 1 = 0$ or $x^2 + 2x + 1 = (x + 1)^2$.  Double-click this cell and generalize from what you see in these Markdown cell LaTeX expressions to express the [Pythagorean Theorem equation](https://en.wikipedia.org/wiki/Pythagorean_theorem) on the next line:\n",
    "\n",
    "(Put your Pythagorean Theorem equation here!)\n",
    "\n",
    "\n",
    "Being able to observe and generalize from example patterns in the code of others is a common means of learning how to program.  Syntax documentation is the foundational truth, but it's often most direct to search on the web for what you're trying to do, see someone else's approach, generalize from it, and apply it to your task.  \n",
    "\n",
    "Of course, never plagiarize.  Give credit where credit is due.  As you can see, it's easy to reference work that you find using Markdown."
   ]
  },
  {
   "cell_type": "markdown",
   "metadata": {
    "collapsed": false
   },
   "source": [
    "Here are some more examples of Markdown.  Double-click and Ctrl-Enter to toggle back and forth from Markdown source to rendered Markdown in order to see the effect of the Markdown syntax.\n",
    "    \n",
    "# This is a first-level header.\n",
    "It's easy to _italicize_ text for _emphasis_.\n",
    "You can also **boldface** text for **strong emphasis**.\n",
    "\n",
    "Note that a new paragraph didn't start between the two previous lines.  A blank line indicates the end of a paragraph.\n",
    "\n",
    "See?\n",
    "\n",
    "## This is a second-level header.\n",
    "\n",
    "* It's easy to make unnumbered, bulleted lists.\n",
    "- There are a couple natural styles that people use.\n",
    "+ They are all equivalent, so choose one you find intuitive and stick to it.\n",
    "  * Adding whitespace to indent indicates bullets of a sublist.\n",
    "    1. And further indentation and a number followed by a period begins this numbered subsublist.\n",
    "    2. This is point 2.\n",
    "    3. This is point 3.\n",
    "  * Back to the second bullet of the unnumbered sublist\n",
    "* See how easy this is?\n",
    "\n",
    "## This is another second level header...\n",
    "\n",
    "### ...Followed by a third-level header.\n",
    "\n",
    "Again, it's very easy to add a [hyperlink](https://www.youtube.com/watch?v=oHg5SJYRHA0) to your Markdown.\n",
    "\n",
    "Including an image is simplicity itself:\n",
    "\n",
    "![Gettysburg CS Logo](http://cs.gettysburg.edu/~tneller/cs111/GburgCS.gif \"Gettysburg Department of Computer Science\")\n",
    "\n",
    "Next we have a Python 3 code block.  Click it to see that the type shows as \"Code\" above rather than \"Markdown\":"
   ]
  },
  {
   "cell_type": "code",
   "execution_count": 1,
   "metadata": {
    "collapsed": false
   },
   "outputs": [
    {
     "name": "stdout",
     "output_type": "stream",
     "text": [
      "Hello, world!\n"
     ]
    }
   ],
   "source": [
    "print('Hello, world!')"
   ]
  },
  {
   "cell_type": "markdown",
   "metadata": {
    "collapsed": false
   },
   "source": [
    "You will insert a cell just like it after this one by following these steps:\n",
    "1. Click to the left of this cell and verify that it's highlighted.\n",
    "2. Press the \"**b**\" key to insert a new cell **b**elow.  (It will be a Python \"Code\" cell by default.  Also, if we'd wanted to insert a new cell above, we would press \"**a**\".)\n",
    "3. Copy and paste the ```print('Hello, world!')``` code into the new cell.\n",
    "4. Press Ctrl-Enter to run, i.e. interpret or execute, the code that prints the message 'Hello, world!'  Note that the output of the code cell appears directly below it."
   ]
  },
  {
   "cell_type": "markdown",
   "metadata": {
    "collapsed": false
   },
   "source": [
    "Every time you run a code cell, you affect the underlying computational state of the _kernel_, in our case, the Python 3 computational engine that interprets the code in these cells.  It is permissible to run the code cells out of order, but this can often result in errors. For example, running a later code cell before an earlier one may cause one to fail to use a value that should have been defined or computed in an earlier cell, or fail to make use of a software package that should have been imported in an earlier cell.\n",
    "\n",
    "If ever you feel that you've gotten yourself into a bad state with the kernel, it's easy to get a fresh start.  Simply select \"Restart and run all...\" from the above \"Kernel\" menu.  Try it now."
   ]
  },
  {
   "cell_type": "markdown",
   "metadata": {
    "collapsed": false
   },
   "source": [
    "## Values"
   ]
  },
  {
   "cell_type": "code",
   "execution_count": 2,
   "metadata": {
    "collapsed": false
   },
   "outputs": [
    {
     "name": "stdout",
     "output_type": "stream",
     "text": [
      "42\n",
      "3.14\n",
      "Howdy!\n",
      "<class 'int'>\n",
      "<class 'float'>\n",
      "<class 'str'>\n"
     ]
    }
   ],
   "source": [
    "# This is an example of a line comment.  Python will ignore all characters from the initial \"#\" to the end of the line.\n",
    "\n",
    "# These are examples of values in Python.  We will print each to show their printed representations below.\n",
    "print(42) # an integer\n",
    "print(3.14) # a floating-point value\n",
    "print(\"Howdy!\") # a string (of characters)\n",
    "\n",
    "# Each of these is an _object_ in memory containing type information as well as the value.\n",
    "# The \"print()\" function takes what is inside of the parentheses as input and prints its string representation.\n",
    "# The \"type()\" function takes what is inside of the parentheses as input and returns its type information as output.\n",
    "# We can use both to see Python's type names for the values above:\n",
    "print(type(42)) # an integer (class 'int')\n",
    "print(type(3.14)) # a floating-point value (class 'float')\n",
    "print(type(\"Howdy!\")) # a string (of characters) (class 'str')\n",
    "\n",
    "# There are other types as well, but you'll see these commonly.\n"
   ]
  },
  {
   "cell_type": "markdown",
   "metadata": {
    "collapsed": false
   },
   "source": [
    "## Arithmetic Operators"
   ]
  },
  {
   "cell_type": "code",
   "execution_count": 3,
   "metadata": {
    "collapsed": false
   },
   "outputs": [
    {
     "name": "stdout",
     "output_type": "stream",
     "text": [
      "5\n",
      "-1\n",
      "6\n",
      "0.6666666666666666\n",
      "8\n",
      "14\n",
      "20\n",
      "(2 + 3) * 4 = 20\n",
      "2 ** 3 = 8\n"
     ]
    }
   ],
   "source": [
    "# Operators like \"+\" and \"-\" are like functions that take inputs and compute output,\n",
    "# but they have an \"infix\" notation format we're familiar with from our earlier math:\n",
    "\n",
    "print(2 + 3)  # addition\n",
    "print(2 - 3)  # subtraction\n",
    "print(2 * 3)  # multiplication\n",
    "print(2 / 3)  # division - note the necessary limit to our precision in the result of the division.\n",
    "              # A bit is a single 0 or 1 value.  Each float is encoded within 64 bits.  Look how many digits that gives us below.\n",
    "print(2 ** 3)  # exponentiation (\"2 to the 3rd power\")\n",
    "\n",
    "# Parentheses can be used to override order of operations (remember \"PEMDAS\"):\n",
    "print(2 + 3 * 4)\n",
    "print((2 + 3) * 4)\n",
    "\n",
    "# We can separate multiple values being printed with commas.  By default, they will be separated by spaces on the output:\n",
    "print('(2 + 3) * 4 =', (2 + 3) * 4)\n",
    "print(2, '**', 3, '=', 2 ** 3)\n"
   ]
  },
  {
   "cell_type": "markdown",
   "metadata": {
    "collapsed": false
   },
   "source": [
    "## Variables and Assignment"
   ]
  },
  {
   "cell_type": "code",
   "execution_count": 4,
   "metadata": {
    "collapsed": false
   },
   "outputs": [
    {
     "name": "stdout",
     "output_type": "stream",
     "text": [
      "The answer: 42\n",
      "42\n",
      "six times nine\n"
     ]
    }
   ],
   "source": [
    "# A variable is a named location in memory that refers to a value.  \n",
    "# It's less like a variable in a mathematical equation to solve for and more like a labeled box that we store a value in.\n",
    "# Values may be complex, compound, highly structured data, but each variable can refer to only one value at a time.\n",
    "# Think of variable names as associating with values.\n",
    "\n",
    "# We assign a value to a variable like this:\n",
    "answer = 42\n",
    "\n",
    "# This assignment is not an equation to be solved.  The named location on the left of the \"=\" is associated with the value to the right.\n",
    "# If our keyboards had a standard left-arrow character, it would be a clearer representation of assignment than \"=\".\n",
    "# The variable name is answer, and it refers to int value 42.  Whenever Python interprets a variable, it replaces it with its value:\n",
    "print('The answer:', answer)\n",
    "\n",
    "# Any valid expression can be to the right of the assignment operator \"=\":\n",
    "answer = 6 * 7\n",
    "print(answer)\n",
    "\n",
    "# New, different assignment value can cause a variable's value to vary (as it's name implies) and even change type:\n",
    "answer = \"six times nine\"\n",
    "print(answer)"
   ]
  },
  {
   "cell_type": "markdown",
   "metadata": {
    "collapsed": false
   },
   "source": [
    "## Code Cell Output"
   ]
  },
  {
   "cell_type": "code",
   "execution_count": 5,
   "metadata": {
    "collapsed": false
   },
   "outputs": [
    {
     "data": {
      "text/plain": [
       "8"
      ]
     },
     "execution_count": 5,
     "metadata": {
     },
     "output_type": "execute_result"
    }
   ],
   "source": [
    "# As one can see above, any output of the print function appears on a separate line after the code cell when it is run.\n",
    "# However, notice what happens when this cell is run:\n",
    "2 + 3\n",
    "2 - 3\n",
    "2 * 3\n",
    "2 / 3\n",
    "2 ** 3"
   ]
  },
  {
   "cell_type": "code",
   "execution_count": 6,
   "metadata": {
    "collapsed": false
   },
   "outputs": [
    {
     "name": "stdout",
     "output_type": "stream",
     "text": [
      "5\n"
     ]
    },
    {
     "data": {
      "text/plain": [
       "6"
      ]
     },
     "execution_count": 6,
     "metadata": {
     },
     "output_type": "execute_result"
    }
   ],
   "source": [
    "# Each of the cell's expressions were evaluated, but only the last one was shown.\n",
    "# By default, the displayed value of a cell is the last value evaluated.\n",
    "# We can still force values to be shown using the print statement:\n",
    "\n",
    "print(2 + 3)\n",
    "2 - 3\n",
    "2 * 3"
   ]
  },
  {
   "cell_type": "markdown",
   "metadata": {
    "collapsed": false
   },
   "source": [
    "So print statements can reveal intermediate values, but the evaluated value of the cell is what appears to the right of the \"Out[\\#]:\""
   ]
  },
  {
   "cell_type": "markdown",
   "metadata": {
    "collapsed": false
   },
   "source": [
    "# Homework\n",
    "\n",
    "(1) Create a Markdown cell below this one where you demonstrate all of the Markdown forms used above (creatively but appropriately).\n",
    "**Also, demonstrate three additional Markdown forms I did not demonstrate above.**\n",
    "You can find ideas in the Markdown references linked above."
   ]
  },
  {
   "cell_type": "markdown",
   "metadata": {
    "collapsed": false
   },
   "source": [
    "(2) Create a Code cell below this one where you demonstrate values, types, variable assignment, variable reference (using a variable's value), arithmetic operators, using parentheses to go against normal operator precedence, printing intermediate values in your code, and placing a final expression that evaluates to the output of the cell."
   ]
  },
  {
   "cell_type": "markdown",
   "metadata": {
    "collapsed": false
   },
   "source": [
    "(3) Create a Code cell below this one where you perform the following computations:\n",
    "1. Assign a variable x to be your favorite floating point value other than zero.\n",
    "2. Assign x to have a new value $1 + \\frac{1}{x}$, i.e. one plus the reciprocal of the previous value of x expressed in Python.\n",
    "3. Print the new value of x.\n",
    "4. Copy and paste the previous two steps to be repeated sequentially many times until the first four significant digits of x are no longer changing.  What do you think is happening?  Is there significance to the final value?  (Search the web for this number using the first 4 significant digits.)\n",
    "5. As the last expression of the cell, create a Python expression that computes the value x is converging towards.  For this, you will need to search the web for how to perform a square root in Python (search \"Python square root\").\n",
    "\n",
    "(Note: Feel free to experiment with different initial values.)"
   ]
  },
  {
   "cell_type": "markdown",
   "metadata": {
    "collapsed": false
   },
   "source": [
    "(4) Create a markdown cell below this one where you answer the questions posed in exercise (3) and create two hyperlinks to reference the sites where you learned about \n",
    "1. the significance of the value, and\n",
    "2. how to compute a square root in Python."
   ]
  },
  {
   "cell_type": "markdown",
   "metadata": {
    "collapsed": false
   },
   "source": [
    "(end of homework)"
   ]
  }
 ],
 "metadata": {
  "kernelspec": {
   "display_name": "Python 3 (system-wide)",
   "language": "python",
   "metadata": {
    "cocalc": {
     "description": "Python 3 programming language",
     "priority": 100,
     "url": "https://www.python.org/"
    }
   },
   "name": "python3"
  },
  "language_info": {
   "codemirror_mode": {
    "name": "ipython",
    "version": 3
   },
   "file_extension": ".py",
   "mimetype": "text/x-python",
   "name": "python",
   "nbconvert_exporter": "python",
   "pygments_lexer": "ipython3",
   "version": "3.8.2"
  }
 },
 "nbformat": 4,
 "nbformat_minor": 4
}